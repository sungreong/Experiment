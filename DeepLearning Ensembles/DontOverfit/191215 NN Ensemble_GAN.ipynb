{
 "cells": [
  {
   "cell_type": "code",
   "execution_count": 1,
   "metadata": {},
   "outputs": [],
   "source": [
    "import tensorflow as tf\n",
    "import numpy as np\n",
    "import pandas as pd , sys\n",
    "import matplotlib.pyplot as plt\n",
    "import scikitplot as skplt\n",
    "from IPython.display import clear_output\n",
    "from sklearn.metrics import auc , roc_auc_score\n",
    "sys.path.append(\"/home/advice/Python/SR/Custom/\")\n",
    "from RAdam import RAdamOptimizer\n",
    "import seaborn as sns\n",
    "from sklearn.preprocessing import StandardScaler\n",
    "import os\n",
    "os.environ[\"CUDA_VISIBLE_DEVICES\"]=\"1\""
   ]
  },
  {
   "cell_type": "code",
   "execution_count": 202,
   "metadata": {},
   "outputs": [],
   "source": [
    "data = pd.read_csv(\"./../Data/DontOverfit/train.csv\")\n",
    "test_data = pd.read_csv(\"./../Data/DontOverfit/test.csv\")\n",
    "__id__ = data.pop(\"id\")"
   ]
  },
  {
   "cell_type": "code",
   "execution_count": 236,
   "metadata": {},
   "outputs": [
    {
     "data": {
      "text/html": [
       "<div>\n",
       "<style scoped>\n",
       "    .dataframe tbody tr th:only-of-type {\n",
       "        vertical-align: middle;\n",
       "    }\n",
       "\n",
       "    .dataframe tbody tr th {\n",
       "        vertical-align: top;\n",
       "    }\n",
       "\n",
       "    .dataframe thead th {\n",
       "        text-align: right;\n",
       "    }\n",
       "</style>\n",
       "<table border=\"1\" class=\"dataframe\">\n",
       "  <thead>\n",
       "    <tr style=\"text-align: right;\">\n",
       "      <th></th>\n",
       "      <th>id</th>\n",
       "      <th>0</th>\n",
       "      <th>1</th>\n",
       "      <th>2</th>\n",
       "      <th>3</th>\n",
       "      <th>4</th>\n",
       "      <th>5</th>\n",
       "      <th>6</th>\n",
       "      <th>7</th>\n",
       "      <th>8</th>\n",
       "      <th>...</th>\n",
       "      <th>290</th>\n",
       "      <th>291</th>\n",
       "      <th>292</th>\n",
       "      <th>293</th>\n",
       "      <th>294</th>\n",
       "      <th>295</th>\n",
       "      <th>296</th>\n",
       "      <th>297</th>\n",
       "      <th>298</th>\n",
       "      <th>299</th>\n",
       "    </tr>\n",
       "  </thead>\n",
       "  <tbody>\n",
       "    <tr>\n",
       "      <td>0</td>\n",
       "      <td>250</td>\n",
       "      <td>-0.677</td>\n",
       "      <td>1.721</td>\n",
       "      <td>-0.745</td>\n",
       "      <td>-0.838</td>\n",
       "      <td>0.149</td>\n",
       "      <td>-1.138</td>\n",
       "      <td>0.242</td>\n",
       "      <td>0.504</td>\n",
       "      <td>-1.829</td>\n",
       "      <td>...</td>\n",
       "      <td>-1.180</td>\n",
       "      <td>-0.403</td>\n",
       "      <td>0.759</td>\n",
       "      <td>-0.600</td>\n",
       "      <td>0.951</td>\n",
       "      <td>-0.349</td>\n",
       "      <td>0.446</td>\n",
       "      <td>-0.819</td>\n",
       "      <td>-0.277</td>\n",
       "      <td>1.297</td>\n",
       "    </tr>\n",
       "    <tr>\n",
       "      <td>1</td>\n",
       "      <td>251</td>\n",
       "      <td>-0.731</td>\n",
       "      <td>-0.251</td>\n",
       "      <td>0.059</td>\n",
       "      <td>0.054</td>\n",
       "      <td>1.149</td>\n",
       "      <td>2.462</td>\n",
       "      <td>0.836</td>\n",
       "      <td>0.719</td>\n",
       "      <td>-2.269</td>\n",
       "      <td>...</td>\n",
       "      <td>1.297</td>\n",
       "      <td>1.114</td>\n",
       "      <td>0.657</td>\n",
       "      <td>0.760</td>\n",
       "      <td>0.899</td>\n",
       "      <td>-1.612</td>\n",
       "      <td>-1.701</td>\n",
       "      <td>1.107</td>\n",
       "      <td>-0.314</td>\n",
       "      <td>-0.641</td>\n",
       "    </tr>\n",
       "    <tr>\n",
       "      <td>2</td>\n",
       "      <td>252</td>\n",
       "      <td>1.119</td>\n",
       "      <td>1.036</td>\n",
       "      <td>1.220</td>\n",
       "      <td>1.518</td>\n",
       "      <td>0.265</td>\n",
       "      <td>-0.088</td>\n",
       "      <td>0.245</td>\n",
       "      <td>-0.533</td>\n",
       "      <td>-0.921</td>\n",
       "      <td>...</td>\n",
       "      <td>-0.864</td>\n",
       "      <td>-0.736</td>\n",
       "      <td>0.367</td>\n",
       "      <td>0.154</td>\n",
       "      <td>0.830</td>\n",
       "      <td>-1.352</td>\n",
       "      <td>0.914</td>\n",
       "      <td>0.377</td>\n",
       "      <td>0.588</td>\n",
       "      <td>-0.912</td>\n",
       "    </tr>\n",
       "    <tr>\n",
       "      <td>3</td>\n",
       "      <td>253</td>\n",
       "      <td>-0.933</td>\n",
       "      <td>0.212</td>\n",
       "      <td>-0.053</td>\n",
       "      <td>0.570</td>\n",
       "      <td>-1.540</td>\n",
       "      <td>-1.108</td>\n",
       "      <td>0.462</td>\n",
       "      <td>1.022</td>\n",
       "      <td>-0.215</td>\n",
       "      <td>...</td>\n",
       "      <td>0.063</td>\n",
       "      <td>-0.958</td>\n",
       "      <td>0.762</td>\n",
       "      <td>-0.213</td>\n",
       "      <td>-2.171</td>\n",
       "      <td>0.830</td>\n",
       "      <td>1.435</td>\n",
       "      <td>0.125</td>\n",
       "      <td>2.782</td>\n",
       "      <td>0.619</td>\n",
       "    </tr>\n",
       "    <tr>\n",
       "      <td>4</td>\n",
       "      <td>254</td>\n",
       "      <td>-0.208</td>\n",
       "      <td>-0.556</td>\n",
       "      <td>2.641</td>\n",
       "      <td>0.853</td>\n",
       "      <td>-0.384</td>\n",
       "      <td>0.312</td>\n",
       "      <td>0.514</td>\n",
       "      <td>0.481</td>\n",
       "      <td>-1.929</td>\n",
       "      <td>...</td>\n",
       "      <td>-0.689</td>\n",
       "      <td>0.213</td>\n",
       "      <td>0.568</td>\n",
       "      <td>-0.935</td>\n",
       "      <td>-0.015</td>\n",
       "      <td>0.267</td>\n",
       "      <td>0.739</td>\n",
       "      <td>1.340</td>\n",
       "      <td>-0.178</td>\n",
       "      <td>1.010</td>\n",
       "    </tr>\n",
       "  </tbody>\n",
       "</table>\n",
       "<p>5 rows × 301 columns</p>\n",
       "</div>"
      ],
      "text/plain": [
       "    id      0      1      2      3      4      5      6      7      8  ...  \\\n",
       "0  250 -0.677  1.721 -0.745 -0.838  0.149 -1.138  0.242  0.504 -1.829  ...   \n",
       "1  251 -0.731 -0.251  0.059  0.054  1.149  2.462  0.836  0.719 -2.269  ...   \n",
       "2  252  1.119  1.036  1.220  1.518  0.265 -0.088  0.245 -0.533 -0.921  ...   \n",
       "3  253 -0.933  0.212 -0.053  0.570 -1.540 -1.108  0.462  1.022 -0.215  ...   \n",
       "4  254 -0.208 -0.556  2.641  0.853 -0.384  0.312  0.514  0.481 -1.929  ...   \n",
       "\n",
       "     290    291    292    293    294    295    296    297    298    299  \n",
       "0 -1.180 -0.403  0.759 -0.600  0.951 -0.349  0.446 -0.819 -0.277  1.297  \n",
       "1  1.297  1.114  0.657  0.760  0.899 -1.612 -1.701  1.107 -0.314 -0.641  \n",
       "2 -0.864 -0.736  0.367  0.154  0.830 -1.352  0.914  0.377  0.588 -0.912  \n",
       "3  0.063 -0.958  0.762 -0.213 -2.171  0.830  1.435  0.125  2.782  0.619  \n",
       "4 -0.689  0.213  0.568 -0.935 -0.015  0.267  0.739  1.340 -0.178  1.010  \n",
       "\n",
       "[5 rows x 301 columns]"
      ]
     },
     "execution_count": 236,
     "metadata": {},
     "output_type": "execute_result"
    }
   ],
   "source": [
    "test_data.head()"
   ]
  },
  {
   "cell_type": "code",
   "execution_count": 203,
   "metadata": {},
   "outputs": [],
   "source": [
    "target_yy = data.pop(\"target\")\n",
    "target_y = target_yy.values.reshape(-1,1)"
   ]
  },
  {
   "cell_type": "code",
   "execution_count": 204,
   "metadata": {},
   "outputs": [
    {
     "data": {
      "text/plain": [
       "0.0    0.732\n",
       "1.0    0.268\n",
       "Name: target, dtype: float64"
      ]
     },
     "execution_count": 204,
     "metadata": {},
     "output_type": "execute_result"
    }
   ],
   "source": [
    "target_yy.value_counts(normalize = True )"
   ]
  },
  {
   "cell_type": "code",
   "execution_count": 205,
   "metadata": {},
   "outputs": [],
   "source": [
    "target_1_list = target_yy[(target_yy == 1) == True].index.tolist()\n",
    "target_0_list = target_yy[(target_yy == 0) == True].index.tolist()"
   ]
  },
  {
   "cell_type": "code",
   "execution_count": 206,
   "metadata": {},
   "outputs": [
    {
     "name": "stdout",
     "output_type": "stream",
     "text": [
      "[0, 3, 6, 17, 19, 25, 27, 28, 30, 31, 32, 34, 36, 44, 53, 54, 57, 59, 66, 68, 70, 74, 86, 88, 90, 91, 99, 100, 103, 109, 115, 117, 122, 123, 130, 138, 145, 146, 149, 154, 156, 158, 164, 166, 169, 179, 185, 187, 188, 193, 195, 196, 197, 198, 200, 203, 204, 209, 213, 218, 220, 229, 230, 232, 242, 245, 248]\n"
     ]
    }
   ],
   "source": [
    "print(target_1_list)"
   ]
  },
  {
   "cell_type": "code",
   "execution_count": 207,
   "metadata": {},
   "outputs": [
    {
     "name": "stdout",
     "output_type": "stream",
     "text": [
      "[1, 2, 4, 5, 7, 8, 9, 10, 11, 12, 13, 14, 15, 16, 18, 20, 21, 22, 23, 24, 26, 29, 33, 35, 37, 38, 39, 40, 41, 42, 43, 45, 46, 47, 48, 49, 50, 51, 52, 55, 56, 58, 60, 61, 62, 63, 64, 65, 67, 69, 71, 72, 73, 75, 76, 77, 78, 79, 80, 81, 82, 83, 84, 85, 87, 89, 92, 93, 94, 95, 96, 97, 98, 101, 102, 104, 105, 106, 107, 108, 110, 111, 112, 113, 114, 116, 118, 119, 120, 121, 124, 125, 126, 127, 128, 129, 131, 132, 133, 134, 135, 136, 137, 139, 140, 141, 142, 143, 144, 147, 148, 150, 151, 152, 153, 155, 157, 159, 160, 161, 162, 163, 165, 167, 168, 170, 171, 172, 173, 174, 175, 176, 177, 178, 180, 181, 182, 183, 184, 186, 189, 190, 191, 192, 194, 199, 201, 202, 205, 206, 207, 208, 210, 211, 212, 214, 215, 216, 217, 219, 221, 222, 223, 224, 225, 226, 227, 228, 231, 233, 234, 235, 236, 237, 238, 239, 240, 241, 243, 244, 246, 247, 249]\n"
     ]
    }
   ],
   "source": [
    "print(target_0_list)"
   ]
  },
  {
   "cell_type": "code",
   "execution_count": 208,
   "metadata": {},
   "outputs": [],
   "source": [
    "## GAN 해보기\n",
    "np_data = data.values\n",
    "Target0_Data = np_data[target_0_list,:]\n",
    "Target1_Data = np_data[target_1_list,:]"
   ]
  },
  {
   "cell_type": "code",
   "execution_count": 209,
   "metadata": {},
   "outputs": [],
   "source": [
    "from sklearn.preprocessing import MinMaxScaler"
   ]
  },
  {
   "cell_type": "code",
   "execution_count": 211,
   "metadata": {},
   "outputs": [],
   "source": [
    "MinMax = MinMaxScaler(feature_range=(0,1))\n",
    "MinMax.fit(Target0_Data)\n",
    "mm_Target0_Data = MinMax.transform(Target0_Data)"
   ]
  },
  {
   "cell_type": "code",
   "execution_count": 246,
   "metadata": {},
   "outputs": [],
   "source": [
    "Target1_Data = np_data[target_1_list,:]\n",
    "MinMax = MinMaxScaler(feature_range=(0,1))\n",
    "MinMax.fit(Target1_Data)\n",
    "mm_Target1_Data = MinMax.transform(Target1_Data)"
   ]
  },
  {
   "cell_type": "code",
   "execution_count": 2,
   "metadata": {},
   "outputs": [
    {
     "name": "stdout",
     "output_type": "stream",
     "text": [
      "\n",
      "    사용하면 좋은 패키지\n",
      "    st / train_validation_test_split / cat2dict / code2cat / colorlist / onehotencoding / roccurve  / ProbDensity\n",
      "    pycm import *  \n",
      "    ConfusionMatrix(actual_vector=``test_y``, predict_vector= ``pred`` ) \n",
      "    사용하면 통계량값 다 얻을 수 있음\n",
      "    \n",
      "1.13.1\n"
     ]
    }
   ],
   "source": [
    "import numpy as np\n",
    "import tensorflow as tf\n",
    "import seaborn as sns\n",
    "import matplotlib.pyplot as plt\n",
    "from sklearn import datasets , sys\n",
    "from sklearn.preprocessing import MinMaxScaler\n",
    "sys.path.append('/home/advice/Python/SR/Custom/')\n",
    "from jupyter_tensorboard import *\n",
    "from utility import *\n",
    "from Init import *\n",
    "from Activations import *\n",
    "from wasserstein import Wasserstein\n",
    "from IPython.display import clear_output\n",
    "import os , re\n",
    "import collections\n",
    "from collections import Counter\n",
    "import warnings , dill\n",
    "warnings.filterwarnings(\"ignore\")\n",
    "from scipy.stats import wasserstein_distance as was_dist"
   ]
  },
  {
   "cell_type": "code",
   "execution_count": 252,
   "metadata": {},
   "outputs": [
    {
     "name": "stdout",
     "output_type": "stream",
     "text": [
      "300\n"
     ]
    }
   ],
   "source": [
    "def sample_data(n= None , data = None) : \n",
    "    output = data[list(np.random.choice(len(data) , n))]\n",
    "    return output\n",
    "\n",
    "data = mm_Target1_Data\n",
    "input_dim = np.shape(data)[1] \n",
    "total_length = input_dim\n",
    "print(input_dim)\n",
    "latent_dim = 20\n",
    "BATCH_SIZE = 10"
   ]
  },
  {
   "cell_type": "code",
   "execution_count": 253,
   "metadata": {},
   "outputs": [],
   "source": [
    "def generator(Z ,  hsize=[ 50, 150 , 200],reuse=False):\n",
    "    with tf.variable_scope(\"GAN/Generator\",reuse=reuse):\n",
    "        h1 = tf.layers.dense(Z,hsize[0],activation=tf.nn.leaky_relu)\n",
    "        h2 = tf.layers.dense(h1,hsize[1],activation=tf.nn.leaky_relu)\n",
    "        h2 = tf.layers.dense(h1,hsize[1],activation=tf.nn.leaky_relu) \n",
    "        h2 = tf.layers.dense(h2, hsize[2] , activation = tf.nn.leaky_relu , use_bias=True )  \n",
    "        out = tf.layers.dense(h2,  total_length , activation = None , use_bias= True )\n",
    "        gene = tf.nn.tanh(out)\n",
    "    return gene\n",
    "def discriminator(X,hsize=[200, 100 , 50],reuse=True):\n",
    "    with tf.variable_scope(\"GAN/Discriminator\",reuse=reuse):\n",
    "        h1 = tf.layers.dense(X,hsize[0],activation=tf.nn.leaky_relu , name = \"D1\")\n",
    "        h2 = tf.layers.dense(h1,hsize[1],activation=tf.nn.leaky_relu , name = \"D2\" )\n",
    "        h2 = tf.layers.dense(h2,hsize[2],activation=tf.nn.leaky_relu , name = \"D3\" )\n",
    "        h3 = tf.layers.dense(h2,10 ,activation=tf.nn.leaky_relu , name = \"D4\" )\n",
    "        out = tf.layers.dense(h3,1) # activation=None OUTPUT\n",
    "    return out, h3\n",
    "\n",
    "def sample_Z(m , n ):\n",
    "    return np.random.uniform(-1., 1., size=[m , n])\n",
    "\n",
    "tf.reset_default_graph()\n",
    "X = tf.placeholder(tf.float32,[None, total_length  ], name= \"X\")\n",
    "Z = tf.placeholder(tf.float32,[None,latent_dim ] , name = \"Z\")"
   ]
  },
  {
   "cell_type": "code",
   "execution_count": 254,
   "metadata": {},
   "outputs": [
    {
     "name": "stdout",
     "output_type": "stream",
     "text": [
      "300\n"
     ]
    }
   ],
   "source": [
    "print(total_length)"
   ]
  },
  {
   "cell_type": "code",
   "execution_count": 255,
   "metadata": {},
   "outputs": [
    {
     "name": "stdout",
     "output_type": "stream",
     "text": [
      "67\n"
     ]
    }
   ],
   "source": [
    "EPOCHS = 100000\n",
    "data_len = np.shape(data)[0]\n",
    "BATCH_SIZE = data_len\n",
    "print(BATCH_SIZE)\n",
    "batch_iter = int(data_len / BATCH_SIZE)\n",
    "G_sample = generator(Z)\n",
    "r_logits, r_rep = discriminator(X,reuse=False)\n",
    "f_logits, g_rep = discriminator(G_sample,reuse=True)"
   ]
  },
  {
   "cell_type": "code",
   "execution_count": 256,
   "metadata": {},
   "outputs": [
    {
     "name": "stdout",
     "output_type": "stream",
     "text": [
      "67\n"
     ]
    }
   ],
   "source": [
    "BATCH_SIZE = data_len\n",
    "print(BATCH_SIZE)"
   ]
  },
  {
   "cell_type": "code",
   "execution_count": 257,
   "metadata": {},
   "outputs": [],
   "source": [
    "e = tf.random_uniform([BATCH_SIZE , 1] , 0 , 1)\n",
    "x_hat =  e * X + (1-e) * G_sample\n",
    "grad  = tf.gradients( discriminator(x_hat, reuse=True ), x_hat)[0]\n",
    "slopes = tf.sqrt(1e-8 + tf.reduce_sum(tf.square(grad), axis=[1]))\n",
    "gradient_penalty = 5 * tf.reduce_mean((slopes - 1.) ** 2)\n",
    "fake_logit = (f_logits - tf.reduce_mean(r_logits))\n",
    "real_logit = (r_logits - tf.reduce_mean(f_logits))\n",
    "real_logit = tf.sigmoid( real_logit )\n",
    "fake_logit = tf.sigmoid( fake_logit )"
   ]
  },
  {
   "cell_type": "code",
   "execution_count": 258,
   "metadata": {},
   "outputs": [],
   "source": [
    "with tf.variable_scope(\"Discriminator_Loss\") :        \n",
    "    disc_loss = - tf.reduce_mean( log(real_logit)) - tf.reduce_mean( log(1-fake_logit ))\n",
    "    disc_loss += gradient_penalty\n",
    "with tf.variable_scope(\"Generator_Loss\"):\n",
    "    with tf.variable_scope(\"Original_Loss\"):\n",
    "        gen_loss = - tf.reduce_mean( log( fake_logit )) - tf.reduce_mean( log(1- real_logit ))\n",
    "   "
   ]
  },
  {
   "cell_type": "code",
   "execution_count": 259,
   "metadata": {},
   "outputs": [],
   "source": [
    "t_vars = tf.trainable_variables()\n",
    "global_step = tf.get_variable('global_step', [], initializer=tf.constant_initializer(0), trainable=False)\n",
    "gen_vars = tf.get_collection(tf.GraphKeys.GLOBAL_VARIABLES,scope=\"GAN/Generator\")\n",
    "disc_vars = tf.get_collection(tf.GraphKeys.GLOBAL_VARIABLES,scope=\"GAN/Discriminator\")\n",
    "lr = 0.001\n",
    "learning_rate = tf.train.exponential_decay(lr, global_step, decay_steps=100, decay_rate=0.98, staircase=True , )\n",
    "with tf.variable_scope(\"Optimizer\"):\n",
    "    gen_step = tf.train.RMSPropOptimizer(learning_rate=learning_rate).minimize(gen_loss,var_list = gen_vars) # G Train step\n",
    "    disc_step = tf.train.RMSPropOptimizer(learning_rate=learning_rate).minimize(disc_loss,var_list = disc_vars) # D Train step"
   ]
  },
  {
   "cell_type": "code",
   "execution_count": 260,
   "metadata": {},
   "outputs": [
    {
     "data": {
      "text/plain": [
       "(10000, 20)"
      ]
     },
     "execution_count": 260,
     "metadata": {},
     "output_type": "execute_result"
    }
   ],
   "source": [
    "z_batch.shape"
   ]
  },
  {
   "cell_type": "code",
   "execution_count": 262,
   "metadata": {
    "scrolled": false
   },
   "outputs": [
    {
     "data": {
      "image/png": "[encoded data removed]",
      "text/plain": [
       "<Figure size 432x288 with 1 Axes>"
      ]
     },
     "metadata": {
      "needs_background": "light"
     },
     "output_type": "display_data"
    }
   ],
   "source": [
    "config=tf.ConfigProto(log_device_placement=True)\n",
    "config.gpu_options.allow_growth = True\n",
    "sess = tf.Session(config= config)\n",
    "init = tf.global_variables_initializer()\n",
    "sess.run(init)\n",
    "EPOCHS = 10000\n",
    "ng_steps , nd_steps = 5, 1\n",
    "print(\"Start\")\n",
    "gen_loss_store = []\n",
    "disc_loss_store = []\n",
    "epochs = []\n",
    "for epoch in range(EPOCHS) :\n",
    "    z_batch = sample_Z( len(mm_Target1_Data) ,  latent_dim)\n",
    "    n_gloss = 0\n",
    "    for _ in range(ng_steps):\n",
    "        _, gloss = sess.run([gen_step, gen_loss], \n",
    "                            feed_dict={\n",
    "                                global_step : epoch , \n",
    "                                X : mm_Target1_Data ,\n",
    "                                Z : z_batch\n",
    "                                      })\n",
    "        n_gloss += gloss\n",
    "    n_gloss /= ng_steps\n",
    "    n_dloss = 0\n",
    "    for _ in range(nd_steps):\n",
    "        _, dloss  = sess.run([disc_step, disc_loss] , \n",
    "                             feed_dict={\n",
    "                                 global_step : epoch ,\n",
    "                                 X : mm_Target1_Data ,\n",
    "                                 Z : z_batch\n",
    "                                       })\n",
    "        n_dloss += dloss\n",
    "    n_gloss /= nd_steps\n",
    "    if (epoch % 50 == 0) & (epoch > 0) :\n",
    "        epochs.append(epoch)\n",
    "        gen_loss_store.append(n_gloss)\n",
    "        disc_loss_store.append(n_dloss)\n",
    "    if (epoch % 200 == 0) & (epoch > 0) :\n",
    "        clear_output()\n",
    "        plt.plot( epochs , gen_loss_store , label = \"Generator\")\n",
    "        plt.plot( epochs, disc_loss_store , label = \"Discriminator\")\n",
    "        plt.title( \"Epoch : {} GLoss : {:.3f} DLoss : {:.3f}\".format(epoch ,n_gloss , n_dloss  ))\n",
    "        #plt.ylim(0,3)\n",
    "        plt.legend()\n",
    "        plt.show()"
   ]
  },
  {
   "cell_type": "code",
   "execution_count": 263,
   "metadata": {},
   "outputs": [],
   "source": [
    "z_batch = sample_Z( 10000 ,  latent_dim)\n",
    "Target1Generated = sess.run(G_sample , feed_dict={  Z : z_batch })"
   ]
  },
  {
   "cell_type": "code",
   "execution_count": 264,
   "metadata": {},
   "outputs": [],
   "source": [
    "InvTarget1Generated = pd.DataFrame(MinMax.inverse_transform(Target1Generated))"
   ]
  },
  {
   "cell_type": "code",
   "execution_count": 265,
   "metadata": {},
   "outputs": [],
   "source": [
    "InvTarget1Generated[\"target\"] = 1"
   ]
  },
  {
   "cell_type": "code",
   "execution_count": 266,
   "metadata": {},
   "outputs": [
    {
     "data": {
      "text/html": [
       "<div>\n",
       "<style scoped>\n",
       "    .dataframe tbody tr th:only-of-type {\n",
       "        vertical-align: middle;\n",
       "    }\n",
       "\n",
       "    .dataframe tbody tr th {\n",
       "        vertical-align: top;\n",
       "    }\n",
       "\n",
       "    .dataframe thead th {\n",
       "        text-align: right;\n",
       "    }\n",
       "</style>\n",
       "<table border=\"1\" class=\"dataframe\">\n",
       "  <thead>\n",
       "    <tr style=\"text-align: right;\">\n",
       "      <th></th>\n",
       "      <th>0</th>\n",
       "      <th>1</th>\n",
       "      <th>2</th>\n",
       "      <th>3</th>\n",
       "      <th>4</th>\n",
       "      <th>5</th>\n",
       "      <th>6</th>\n",
       "      <th>7</th>\n",
       "      <th>8</th>\n",
       "      <th>9</th>\n",
       "      <th>...</th>\n",
       "      <th>291</th>\n",
       "      <th>292</th>\n",
       "      <th>293</th>\n",
       "      <th>294</th>\n",
       "      <th>295</th>\n",
       "      <th>296</th>\n",
       "      <th>297</th>\n",
       "      <th>298</th>\n",
       "      <th>299</th>\n",
       "      <th>target</th>\n",
       "    </tr>\n",
       "  </thead>\n",
       "  <tbody>\n",
       "    <tr>\n",
       "      <td>0</td>\n",
       "      <td>0.739139</td>\n",
       "      <td>1.023033</td>\n",
       "      <td>0.968323</td>\n",
       "      <td>-0.496825</td>\n",
       "      <td>1.215805</td>\n",
       "      <td>0.724370</td>\n",
       "      <td>-1.759084</td>\n",
       "      <td>-0.391147</td>\n",
       "      <td>-0.845689</td>\n",
       "      <td>-0.762771</td>\n",
       "      <td>...</td>\n",
       "      <td>1.129821</td>\n",
       "      <td>-0.858527</td>\n",
       "      <td>-0.718167</td>\n",
       "      <td>-0.691992</td>\n",
       "      <td>0.099934</td>\n",
       "      <td>0.897582</td>\n",
       "      <td>0.120119</td>\n",
       "      <td>1.938232</td>\n",
       "      <td>-1.350434</td>\n",
       "      <td>0</td>\n",
       "    </tr>\n",
       "    <tr>\n",
       "      <td>1</td>\n",
       "      <td>0.792419</td>\n",
       "      <td>0.781270</td>\n",
       "      <td>1.182858</td>\n",
       "      <td>-0.416829</td>\n",
       "      <td>1.329277</td>\n",
       "      <td>0.469441</td>\n",
       "      <td>-1.920939</td>\n",
       "      <td>-1.084474</td>\n",
       "      <td>-0.323681</td>\n",
       "      <td>-0.624752</td>\n",
       "      <td>...</td>\n",
       "      <td>1.224329</td>\n",
       "      <td>-0.269320</td>\n",
       "      <td>-0.428129</td>\n",
       "      <td>-0.498206</td>\n",
       "      <td>0.125666</td>\n",
       "      <td>1.057244</td>\n",
       "      <td>0.463130</td>\n",
       "      <td>1.976383</td>\n",
       "      <td>-1.173487</td>\n",
       "      <td>0</td>\n",
       "    </tr>\n",
       "    <tr>\n",
       "      <td>2</td>\n",
       "      <td>1.212256</td>\n",
       "      <td>0.711025</td>\n",
       "      <td>1.457136</td>\n",
       "      <td>0.234205</td>\n",
       "      <td>1.331007</td>\n",
       "      <td>-0.154095</td>\n",
       "      <td>-2.098547</td>\n",
       "      <td>-0.630169</td>\n",
       "      <td>-0.095591</td>\n",
       "      <td>-0.357032</td>\n",
       "      <td>...</td>\n",
       "      <td>1.268399</td>\n",
       "      <td>-0.197785</td>\n",
       "      <td>-0.410510</td>\n",
       "      <td>-0.342091</td>\n",
       "      <td>0.316464</td>\n",
       "      <td>1.260014</td>\n",
       "      <td>0.483248</td>\n",
       "      <td>2.032042</td>\n",
       "      <td>-1.425422</td>\n",
       "      <td>0</td>\n",
       "    </tr>\n",
       "    <tr>\n",
       "      <td>3</td>\n",
       "      <td>1.241740</td>\n",
       "      <td>0.918282</td>\n",
       "      <td>1.159631</td>\n",
       "      <td>-0.044632</td>\n",
       "      <td>1.346310</td>\n",
       "      <td>0.249457</td>\n",
       "      <td>-2.283180</td>\n",
       "      <td>-1.022553</td>\n",
       "      <td>-0.552471</td>\n",
       "      <td>-0.237919</td>\n",
       "      <td>...</td>\n",
       "      <td>0.825035</td>\n",
       "      <td>0.570639</td>\n",
       "      <td>-1.385445</td>\n",
       "      <td>-0.061153</td>\n",
       "      <td>-0.170904</td>\n",
       "      <td>1.035243</td>\n",
       "      <td>0.124421</td>\n",
       "      <td>1.654203</td>\n",
       "      <td>-1.096530</td>\n",
       "      <td>0</td>\n",
       "    </tr>\n",
       "    <tr>\n",
       "      <td>4</td>\n",
       "      <td>0.841202</td>\n",
       "      <td>0.684148</td>\n",
       "      <td>0.757026</td>\n",
       "      <td>-0.577127</td>\n",
       "      <td>0.991795</td>\n",
       "      <td>0.132018</td>\n",
       "      <td>-2.350511</td>\n",
       "      <td>-1.096153</td>\n",
       "      <td>-0.525150</td>\n",
       "      <td>-0.974777</td>\n",
       "      <td>...</td>\n",
       "      <td>0.888344</td>\n",
       "      <td>-0.637942</td>\n",
       "      <td>-0.646260</td>\n",
       "      <td>-0.896758</td>\n",
       "      <td>-0.447584</td>\n",
       "      <td>0.694951</td>\n",
       "      <td>0.085596</td>\n",
       "      <td>1.552694</td>\n",
       "      <td>-1.304661</td>\n",
       "      <td>0</td>\n",
       "    </tr>\n",
       "  </tbody>\n",
       "</table>\n",
       "<p>5 rows × 301 columns</p>\n",
       "</div>"
      ],
      "text/plain": [
       "          0         1         2         3         4         5         6  \\\n",
       "0  0.739139  1.023033  0.968323 -0.496825  1.215805  0.724370 -1.759084   \n",
       "1  0.792419  0.781270  1.182858 -0.416829  1.329277  0.469441 -1.920939   \n",
       "2  1.212256  0.711025  1.457136  0.234205  1.331007 -0.154095 -2.098547   \n",
       "3  1.241740  0.918282  1.159631 -0.044632  1.346310  0.249457 -2.283180   \n",
       "4  0.841202  0.684148  0.757026 -0.577127  0.991795  0.132018 -2.350511   \n",
       "\n",
       "          7         8         9  ...       291       292       293       294  \\\n",
       "0 -0.391147 -0.845689 -0.762771  ...  1.129821 -0.858527 -0.718167 -0.691992   \n",
       "1 -1.084474 -0.323681 -0.624752  ...  1.224329 -0.269320 -0.428129 -0.498206   \n",
       "2 -0.630169 -0.095591 -0.357032  ...  1.268399 -0.197785 -0.410510 -0.342091   \n",
       "3 -1.022553 -0.552471 -0.237919  ...  0.825035  0.570639 -1.385445 -0.061153   \n",
       "4 -1.096153 -0.525150 -0.974777  ...  0.888344 -0.637942 -0.646260 -0.896758   \n",
       "\n",
       "        295       296       297       298       299  target  \n",
       "0  0.099934  0.897582  0.120119  1.938232 -1.350434       0  \n",
       "1  0.125666  1.057244  0.463130  1.976383 -1.173487       0  \n",
       "2  0.316464  1.260014  0.483248  2.032042 -1.425422       0  \n",
       "3 -0.170904  1.035243  0.124421  1.654203 -1.096530       0  \n",
       "4 -0.447584  0.694951  0.085596  1.552694 -1.304661       0  \n",
       "\n",
       "[5 rows x 301 columns]"
      ]
     },
     "execution_count": 266,
     "metadata": {},
     "output_type": "execute_result"
    }
   ],
   "source": [
    "InvTarget0Generated.head()"
   ]
  },
  {
   "cell_type": "code",
   "execution_count": 267,
   "metadata": {},
   "outputs": [],
   "source": [
    "InvTarget0Generated.to_csv(\"DontOvefitTarget1.csv\",index = False)"
   ]
  },
  {
   "cell_type": "markdown",
   "metadata": {},
   "source": [
    "## 앙상블 테스트"
   ]
  },
  {
   "cell_type": "code",
   "execution_count": 10,
   "metadata": {},
   "outputs": [],
   "source": [
    "select = ['243', '29', '35', '299', '219', '32', '59', '133', '150', '127', '103', '199', '78', '77', '74', '23', '267', '264', '14', '152', '177', '54', '215', '93', '52', '162', '176', '76', '220', '159', '297', '94', '185', '140', '115', '108', '95', '198', '34', '130', '137', '240', '18', '49', '141', '260', '17', '50', '161', '104', '57', '63', '214', '56', '62', '201', '53', '48', '80', '277', '247', '261', '258', '287', '119', '284', '12', '100', '135', '33', '273', '167', '225', '279', '216', '292', '75', '69', '268', '276', '90', '223', '106', '281', '92', '112', '3', '128', '111', '20', '250', '192', '269', '60', '190', '84', '205', '251', '91', '270', '191', '136', '160', '182', '68', '180', '99', '290', '66', '79', '25', '11', '142', '8', '27', '193', '282', '30', '202', '7', '203', '31', '58', '253', '43', '244', '246', '126', '224', '262', '121', '172', '125', '265', '0']\n",
    "#sample_dim = np.random.permutation(data.shape[1])[:200]\n",
    "# [select]\n",
    "np_data = data.values\n",
    "# np_data = StandardScaler().fit_transform(np_data)"
   ]
  },
  {
   "cell_type": "code",
   "execution_count": 11,
   "metadata": {},
   "outputs": [
    {
     "name": "stdout",
     "output_type": "stream",
     "text": [
      "250 300\n"
     ]
    }
   ],
   "source": [
    "row , dim = np_data.shape\n",
    "print(row,dim)"
   ]
  },
  {
   "cell_type": "code",
   "execution_count": 19,
   "metadata": {},
   "outputs": [
    {
     "name": "stdout",
     "output_type": "stream",
     "text": [
      "Epoch: 0001 Avg. cost = 39.8634\n",
      "Epoch: 0101 Avg. cost = 0.9875\n",
      "Epoch: 0201 Avg. cost = 0.9256\n",
      "Epoch: 0301 Avg. cost = 0.8504\n",
      "Epoch: 0401 Avg. cost = 0.7597\n",
      "Epoch: 0501 Avg. cost = 0.6606\n",
      "Epoch: 0601 Avg. cost = 0.5659\n",
      "Epoch: 0701 Avg. cost = 0.4749\n",
      "Epoch: 0801 Avg. cost = 0.3967\n",
      "Epoch: 0901 Avg. cost = 0.3264\n",
      "Epoch: 1001 Avg. cost = 0.2642\n",
      "Epoch: 1101 Avg. cost = 0.2109\n",
      "Epoch: 1201 Avg. cost = 0.1660\n",
      "Epoch: 1301 Avg. cost = 0.1273\n",
      "Epoch: 1401 Avg. cost = 0.0968\n",
      "Epoch: 1501 Avg. cost = 0.0672\n",
      "Epoch: 1601 Avg. cost = 0.0490\n",
      "Epoch: 1701 Avg. cost = 0.0353\n",
      "Epoch: 1801 Avg. cost = 0.0222\n",
      "Epoch: 1901 Avg. cost = 0.0118\n",
      "Epoch: 2001 Avg. cost = 0.0118\n",
      "Epoch: 2101 Avg. cost = 0.0067\n",
      "Epoch: 2201 Avg. cost = 0.0061\n",
      "Epoch: 2301 Avg. cost = 0.0069\n",
      "Epoch: 2401 Avg. cost = 0.0069\n",
      "Epoch: 2501 Avg. cost = 0.0076\n",
      "Epoch: 2601 Avg. cost = 0.0059\n",
      "Epoch: 2701 Avg. cost = 0.0061\n",
      "Epoch: 2801 Avg. cost = 0.0064\n",
      "Epoch: 2901 Avg. cost = 0.0059\n",
      "Epoch: 3001 Avg. cost = 0.0063\n",
      "Epoch: 3101 Avg. cost = 0.0052\n",
      "Epoch: 3201 Avg. cost = 0.0057\n",
      "Epoch: 3301 Avg. cost = 0.0055\n",
      "Epoch: 3401 Avg. cost = 0.0063\n",
      "Epoch: 3501 Avg. cost = 0.0047\n",
      "Epoch: 3601 Avg. cost = 0.0055\n",
      "Epoch: 3701 Avg. cost = 0.0049\n",
      "Epoch: 3801 Avg. cost = 0.0052\n",
      "Epoch: 3901 Avg. cost = 0.0044\n",
      "Epoch: 4001 Avg. cost = 0.0054\n",
      "Epoch: 4101 Avg. cost = 0.0039\n",
      "Epoch: 4201 Avg. cost = 0.0042\n",
      "Epoch: 4301 Avg. cost = 0.0042\n",
      "Epoch: 4401 Avg. cost = 0.0050\n",
      "Epoch: 4501 Avg. cost = 0.0055\n",
      "Epoch: 4601 Avg. cost = 0.0041\n",
      "Epoch: 4701 Avg. cost = 0.0049\n",
      "Epoch: 4801 Avg. cost = 0.0044\n",
      "Epoch: 4901 Avg. cost = 0.0045\n",
      "Epoch: 5001 Avg. cost = 0.0044\n",
      "Epoch: 5101 Avg. cost = 0.0042\n",
      "Epoch: 5201 Avg. cost = 0.0044\n",
      "Epoch: 5301 Avg. cost = 0.0032\n",
      "Epoch: 5401 Avg. cost = 0.0048\n",
      "Epoch: 5501 Avg. cost = 0.0043\n",
      "Epoch: 5601 Avg. cost = 0.0036\n",
      "Epoch: 5701 Avg. cost = 0.0041\n",
      "Epoch: 5801 Avg. cost = 0.0036\n",
      "Epoch: 5901 Avg. cost = 0.0039\n",
      "Epoch: 6001 Avg. cost = 0.0042\n",
      "Epoch: 6101 Avg. cost = 0.0042\n",
      "Epoch: 6201 Avg. cost = 0.0050\n",
      "Epoch: 6301 Avg. cost = 0.0039\n",
      "Epoch: 6401 Avg. cost = 0.0034\n",
      "Epoch: 6501 Avg. cost = 0.0034\n",
      "Epoch: 6601 Avg. cost = 0.0038\n",
      "Epoch: 6701 Avg. cost = 0.0042\n",
      "Epoch: 6801 Avg. cost = 0.0026\n",
      "Epoch: 6901 Avg. cost = 0.0036\n",
      "Epoch: 7001 Avg. cost = 0.0039\n",
      "Epoch: 7101 Avg. cost = 0.0035\n",
      "Epoch: 7201 Avg. cost = 0.0036\n",
      "Epoch: 7301 Avg. cost = 0.0033\n",
      "Epoch: 7401 Avg. cost = 0.0032\n",
      "Epoch: 7501 Avg. cost = 0.0032\n",
      "Epoch: 7601 Avg. cost = 0.0030\n",
      "Epoch: 7701 Avg. cost = 0.0038\n",
      "Epoch: 7801 Avg. cost = 0.0029\n",
      "Epoch: 7901 Avg. cost = 0.0029\n",
      "Epoch: 8001 Avg. cost = 0.0030\n",
      "Epoch: 8101 Avg. cost = 0.0033\n",
      "Epoch: 8201 Avg. cost = 0.0040\n",
      "Epoch: 8301 Avg. cost = 0.0031\n",
      "Epoch: 8401 Avg. cost = 0.0033\n",
      "Epoch: 8501 Avg. cost = 0.0036\n",
      "Epoch: 8601 Avg. cost = 0.0027\n",
      "Epoch: 8701 Avg. cost = 0.0028\n",
      "Epoch: 8801 Avg. cost = 0.0038\n",
      "Epoch: 8901 Avg. cost = 0.0033\n",
      "Epoch: 9001 Avg. cost = 0.0027\n",
      "Epoch: 9101 Avg. cost = 0.0030\n",
      "Epoch: 9201 Avg. cost = 0.0033\n",
      "Epoch: 9301 Avg. cost = 0.0035\n",
      "Epoch: 9401 Avg. cost = 0.0033\n",
      "Epoch: 9501 Avg. cost = 0.0029\n",
      "Epoch: 9601 Avg. cost = 0.0039\n",
      "Epoch: 9701 Avg. cost = 0.0032\n",
      "Epoch: 9801 Avg. cost = 0.0031\n",
      "Epoch: 9901 Avg. cost = 0.0024\n"
     ]
    }
   ],
   "source": [
    "enc_dim = [dim  , 200 , 150  , 30]\n",
    "dec_dim = [30 , 50, 100 , dim]\n",
    "tf.reset_default_graph()\n",
    "X = tf.placeholder(tf.float32 , [None , dim])\n",
    "i = 0\n",
    "W_encode = tf.Variable(tf.random_normal(enc_dim[i:(i+2)]))\n",
    "b_encode = tf.Variable(tf.random_normal([enc_dim[i+1]]))\n",
    "EncLayer1 = tf.nn.sigmoid(tf.add(tf.matmul(X, W_encode), b_encode) , name = \"Encoder\")\n",
    "i = 1\n",
    "W_encode = tf.Variable(tf.random_normal(enc_dim[i:(i+2)]))\n",
    "b_encode = tf.Variable(tf.random_normal([enc_dim[i+1]]))\n",
    "EncLayer2 = tf.nn.sigmoid(tf.add(tf.matmul(EncLayer1, W_encode), b_encode) , name = \"Encoder\")\n",
    "i = 2\n",
    "W_encode = tf.Variable(tf.random_normal(enc_dim[i:(i+2)]))\n",
    "b_encode = tf.Variable(tf.random_normal([enc_dim[i+1]]))\n",
    "Code = tf.nn.sigmoid(tf.add(tf.matmul(EncLayer2, W_encode), b_encode) , name = \"Code\")\n",
    "i = 0\n",
    "W_decode = tf.Variable(tf.random_normal(dec_dim[i:(i+2)]))\n",
    "b_decode = tf.Variable(tf.random_normal([dec_dim[i+1]]))\n",
    "DecLayer1 = tf.nn.sigmoid(tf.add(tf.matmul(Code, W_decode), b_decode) , name = \"Decoder\")\n",
    "i = 1\n",
    "W_decode = tf.Variable(tf.random_normal(dec_dim[i:(i+2)]))\n",
    "b_decode = tf.Variable(tf.random_normal([dec_dim[i+1]]))\n",
    "DecLayer2 = tf.nn.sigmoid(tf.add(tf.matmul(DecLayer1, W_decode), b_decode) , name = \"Decoder\")\n",
    "i = 2\n",
    "W_decode = tf.Variable(tf.random_normal(dec_dim[i:(i+2)]))\n",
    "b_decode = tf.Variable(tf.random_normal([dec_dim[i+1]]))\n",
    "Decoder =  tf.add(tf.matmul(DecLayer2, W_decode), b_decode,  name = \"Final\")\n",
    "learning_rate = 0.001\n",
    "batch_size = 50\n",
    "training_epoch = 10000\n",
    "cost = tf.reduce_mean(tf.pow(X - Decoder, 2))\n",
    "optimizer = tf.train.RMSPropOptimizer(learning_rate).minimize(cost)\n",
    "init = tf.global_variables_initializer()\n",
    "sess = tf.Session()\n",
    "sess.run(init)\n",
    "batch_count = int( row / batch_size)\n",
    "loss = []\n",
    "for epoch in range(training_epoch):\n",
    "    total_cost = 0\n",
    "    for i in range(batch_count):\n",
    "        batch_xs = np_data[i*(batch_count) : (i+1)*(batch_count) ,:]\n",
    "        _, cost_val = sess.run([optimizer, cost],\n",
    "                               feed_dict={X: batch_xs})\n",
    "        total_cost += cost_val\n",
    "    loss.append(total_cost / batch_count)\n",
    "    if epoch % 100 == 0 :\n",
    "        print('Epoch:', '%04d' % (epoch + 1),\n",
    "              'Avg. cost =', '{:.4f}'.format(total_cost / batch_count))"
   ]
  },
  {
   "cell_type": "code",
   "execution_count": 20,
   "metadata": {},
   "outputs": [
    {
     "data": {
      "image/png": "[encoded data removed]",
      "text/plain": [
       "<Figure size 432x288 with 1 Axes>"
      ]
     },
     "metadata": {
      "needs_background": "light"
     },
     "output_type": "display_data"
    }
   ],
   "source": [
    "plt.plot( np.arange(len(loss)) , loss )\n",
    "plt.title(\"Loss Plot\")\n",
    "plt.show()"
   ]
  },
  {
   "cell_type": "code",
   "execution_count": 21,
   "metadata": {},
   "outputs": [],
   "source": [
    "__test_id__ = test_data.pop(\"id\")"
   ]
  },
  {
   "cell_type": "code",
   "execution_count": 22,
   "metadata": {},
   "outputs": [],
   "source": [
    "tr_NEW_Variable = sess.run(Code, feed_dict={X: np_data})\n",
    "# [select]\n",
    "np_test = test_data.values\n",
    "te_NEW_Variable = sess.run(Code, feed_dict={X: np_test})"
   ]
  },
  {
   "cell_type": "code",
   "execution_count": 23,
   "metadata": {},
   "outputs": [],
   "source": [
    "np_data = np.concatenate([np_data ,tr_NEW_Variable ] ,axis = 1)\n",
    "np_test = np.concatenate([np_test ,te_NEW_Variable ] ,axis = 1)"
   ]
  },
  {
   "cell_type": "markdown",
   "metadata": {},
   "source": [
    "#####"
   ]
  },
  {
   "cell_type": "code",
   "execution_count": 440,
   "metadata": {},
   "outputs": [],
   "source": [
    "from tensorflow.contrib.layers import *\n",
    "\n",
    "data = pd.read_csv(\"./../Data/DontOverfit/train.csv\")\n",
    "test_data = pd.read_csv(\"./../Data/DontOverfit/test.csv\")\n",
    "__id__ = data.pop(\"id\")"
   ]
  },
  {
   "cell_type": "code",
   "execution_count": 441,
   "metadata": {},
   "outputs": [],
   "source": [
    "target0_data = pd.read_csv(\"./DontOvefitTarget0.csv\").sample(400)\n",
    "target1_data = pd.read_csv(\"./DontOvefitTarget1.csv\").sample(400)"
   ]
  },
  {
   "cell_type": "code",
   "execution_count": 442,
   "metadata": {},
   "outputs": [],
   "source": [
    "target1_data[\"target\"] = 1"
   ]
  },
  {
   "cell_type": "code",
   "execution_count": 443,
   "metadata": {},
   "outputs": [],
   "source": [
    "gan_data = pd.concat([target0_data , target1_data])"
   ]
  },
  {
   "cell_type": "code",
   "execution_count": 444,
   "metadata": {},
   "outputs": [],
   "source": [
    "target_yy = data.pop(\"target\")\n",
    "gan_target_yy = gan_data.pop(\"target\")\n",
    "data = pd.concat([data , gan_data]).reset_index(drop=True)\n",
    "target_yy = pd.concat([target_yy ,gan_target_yy ]).reset_index(drop=True)\n",
    "target_y = target_yy.values.reshape(-1,1)"
   ]
  },
  {
   "cell_type": "code",
   "execution_count": 445,
   "metadata": {},
   "outputs": [],
   "source": [
    "target_1_list = target_yy[(target_yy == 1) == True].index.tolist()\n",
    "target_0_list = target_yy[(target_yy == 0) == True].index.tolist()"
   ]
  },
  {
   "cell_type": "code",
   "execution_count": 446,
   "metadata": {},
   "outputs": [],
   "source": [
    "np_data = data.values"
   ]
  },
  {
   "cell_type": "code",
   "execution_count": 447,
   "metadata": {},
   "outputs": [
    {
     "name": "stdout",
     "output_type": "stream",
     "text": [
      "1050 300\n"
     ]
    }
   ],
   "source": [
    "row , dim = np_data.shape\n",
    "print(row,dim)\n",
    "target_n = 2 \n",
    "tf.reset_default_graph()\n",
    "X = tf.placeholder(tf.float32, shape = [ None , dim])\n",
    "y = tf.placeholder(tf.float32, shape = [ None , 1])\n",
    "DropoutRate = tf.placeholder(tf.float32, name =\"dropoutRate\")\n",
    "training = tf.placeholder_with_default(False, shape=[], name=\"training\")"
   ]
  },
  {
   "cell_type": "code",
   "execution_count": 448,
   "metadata": {},
   "outputs": [],
   "source": [
    "def tf_mish(x) :\n",
    "    return x * tf.nn.tanh(tf.nn.softplus(x))\n",
    "activate_candidate = \\\n",
    "[tf.nn.selu, tf_mish , tf.nn.leaky_relu , tf.nn.elu ]"
   ]
  },
  {
   "cell_type": "code",
   "execution_count": 449,
   "metadata": {},
   "outputs": [],
   "source": [
    "def Classifier(X , hidden = [dim , 250,150,100,50,10 , target_n], \n",
    "               Nensemble = 3 ) :\n",
    "    Ensembles = []\n",
    "    with tf.variable_scope(\"Ensembles\"):\n",
    "        for N in np.arange(Nensemble) :\n",
    "            SELECT = np.random.randint(0 , len(activate_candidate) , 1)[0]\n",
    "            activation = activate_candidate[SELECT]\n",
    "            hidden_N = hidden[N]\n",
    "            for idx in np.arange(len( hidden_N )-1) : \n",
    "                hid = hidden_N[idx]\n",
    "                if (idx+1) < len(hidden_N) :\n",
    "                    w = (variance_scaling_initializer(uniform=False,\n",
    "                                                      factor=2.0, mode='FAN_IN', dtype=tf.float32)\n",
    "                         ((hid ,hidden_N[idx+1])))\n",
    "                    W = tf.Variable(w, name = \"Weight\")\n",
    "                    Bias = tf.Variable(tf.random_normal([hidden_N[idx+1]], stddev = 0.01))\n",
    "                    if idx == 0 :\n",
    "                        dropX = tf.nn.dropout(X , keep_prob = 1 , \n",
    "                                              seed = N + 1234 )\n",
    "                        Layer = activation(tf.matmul(dropX , W) + Bias)\n",
    "                        #Layer = tf.contrib.nn.alpha_dropout(Layer , DropoutRate ) \n",
    "                    else :\n",
    "                        if target_n == hidden_N[idx+1] :\n",
    "                            Layer = tf.matmul(Layer , W) + Bias\n",
    "                        else :\n",
    "                            Layer = tf.matmul(Layer , W) + Bias\n",
    "                            Layer = tf.layers.batch_normalization(Layer,\n",
    "                                                                  training= training ,\n",
    "                                                                  momentum = 0.999)\n",
    "                            Layer = activation(Layer)\n",
    "#                             Layer = tf.contrib.nn.alpha_dropout(Layer , DropoutRate ) \n",
    "                else : pass\n",
    "            Ensembles.append(Layer)\n",
    "        #Input = tf.concat(Ensembles, axis=1, name='Inputs')\n",
    "    return Ensembles\n"
   ]
  },
  {
   "cell_type": "code",
   "execution_count": 450,
   "metadata": {},
   "outputs": [],
   "source": [
    "HIDDEN = [\n",
    "    [dim , 200 , 150 , 10 ,  target_n] , \n",
    "    [dim , 180 , 125, target_n] ,\n",
    "    [dim , 170 , 55, target_n] ,\n",
    "    [dim , 150 , 100 , 30 , target_n] ,\n",
    "    [dim , 30 , 10, target_n]\n",
    "         ]\n",
    "NModels = Classifier(X , hidden = HIDDEN , Nensemble= 3 )\n",
    "NModels_MEAN = tf.reduce_mean(NModels , axis = 0)\n",
    "Probs = tf.nn.softmax(NModels_MEAN)\n",
    "y_one_hot = tf.one_hot( tf.cast(tf.squeeze(y , axis = 1 ) , tf.int32) , depth=2)"
   ]
  },
  {
   "cell_type": "code",
   "execution_count": 451,
   "metadata": {},
   "outputs": [],
   "source": [
    "from sklearn.utils.class_weight import compute_class_weight\n",
    "y_weight_info = compute_class_weight(class_weight= \"balanced\" , \n",
    "                     classes = np.unique(target_y),\n",
    "                     y= np.squeeze(target_y))\n",
    "weight = tf.constant([ y_weight_info[1] ] ) # "
   ]
  },
  {
   "cell_type": "markdown",
   "metadata": {},
   "source": [
    "## Version1 (Averaging)"
   ]
  },
  {
   "cell_type": "code",
   "execution_count": 452,
   "metadata": {},
   "outputs": [],
   "source": [
    "WCE = tf.nn.weighted_cross_entropy_with_logits(targets = y_one_hot ,\n",
    "                                               logits = NModels_MEAN , \n",
    "                                               pos_weight =  weight)\n",
    "Loss = tf.reduce_mean(WCE)"
   ]
  },
  {
   "cell_type": "markdown",
   "metadata": {},
   "source": [
    "## Version2 (개별)"
   ]
  },
  {
   "cell_type": "code",
   "execution_count": 453,
   "metadata": {},
   "outputs": [],
   "source": [
    "mod = sys.modules[__name__]\n",
    "# for i in range(10):\n",
    "#     setattr(mod, 'var_{}'.format(i), i)\n",
    "Loss = 0\n",
    "for idx , Model in enumerate(NModels) :\n",
    "    loss = tf.nn.weighted_cross_entropy_with_logits(targets = y_one_hot ,\n",
    "                                                     logits = Model , \n",
    "                                                     pos_weight = weight)\n",
    "    setattr(mod, 'model_{}_softmax'.format(idx), \n",
    "            tf.argmax( tf.nn.softmax(Model) , axis = 1 ))\n",
    "    Loss += tf.reduce_mean(loss)\n",
    "Loss /= len(NModels)"
   ]
  },
  {
   "cell_type": "code",
   "execution_count": 454,
   "metadata": {},
   "outputs": [],
   "source": [
    "vars = tf.get_collection(tf.GraphKeys.GLOBAL_VARIABLES,scope=\"Ensembles\")\n",
    "L2 = []\n",
    "WEIGHTS = []\n",
    "import re \n",
    "for v in vars :\n",
    "    if re.search('Weight' , v.name) :\n",
    "        WEIGHTS.append(v)\n",
    "        L2.append(tf.nn.l2_loss(v))\n",
    "Loss += tf.add_n(L2)  * 0.1\n",
    "l1_regularizer = tf.contrib.layers.l1_regularizer(scale=0.005, scope=None)\n",
    "regularization_penalty = tf.contrib.layers.apply_regularization(l1_regularizer, WEIGHTS )\n",
    "Loss += regularization_penalty"
   ]
  },
  {
   "cell_type": "code",
   "execution_count": 455,
   "metadata": {},
   "outputs": [],
   "source": [
    "solver = RAdamOptimizer(learning_rate= 1e-4).minimize(Loss ,var_list = vars )"
   ]
  },
  {
   "cell_type": "code",
   "execution_count": 456,
   "metadata": {},
   "outputs": [
    {
     "data": {
      "text/plain": [
       "(1050, 300)"
      ]
     },
     "execution_count": 456,
     "metadata": {},
     "output_type": "execute_result"
    }
   ],
   "source": [
    "np_data.shape "
   ]
  },
  {
   "cell_type": "code",
   "execution_count": 457,
   "metadata": {},
   "outputs": [
    {
     "data": {
      "text/plain": [
       "(467, 583, 1050)"
      ]
     },
     "execution_count": 457,
     "metadata": {},
     "output_type": "execute_result"
    }
   ],
   "source": [
    "len(target_1_list) , len(target_0_list) , len(np_data)"
   ]
  },
  {
   "cell_type": "code",
   "execution_count": null,
   "metadata": {},
   "outputs": [
    {
     "data": {
      "text/plain": [
       "set()"
      ]
     },
     "execution_count": 458,
     "metadata": {},
     "output_type": "execute_result"
    }
   ],
   "source": [
    "set(target_1_list) & set(target_0_list)"
   ]
  },
  {
   "cell_type": "markdown",
   "metadata": {},
   "source": [
    "```\n",
    "target1 = np.random.choice(target_1_list ,\n",
    "                           mb_size , replace = False )\n",
    "target0 = np.random.choice(target_0_list , \n",
    "                           mb_size , replace = False )\n",
    "target1 = list(target1)\n",
    "target0 = list(target0)\n",
    "XX = np_data[target1 + target0  , : ]\n",
    "YY = target_y[target1 + target0 , : ]\n",
    "shuffle_idx = np.random.permutation(len(XX))\n",
    "XXX = XX[shuffle_idx , : ]\n",
    "YYY = YY[shuffle_idx , : ]\n",
    "```"
   ]
  },
  {
   "cell_type": "code",
   "execution_count": null,
   "metadata": {
    "scrolled": false
   },
   "outputs": [
    {
     "data": {
      "image/png": "[encoded data removed]",
      "text/plain": [
       "<Figure size 432x288 with 1 Axes>"
      ]
     },
     "metadata": {
      "needs_background": "light"
     },
     "output_type": "display_data"
    },
    {
     "data": {
      "image/png": "[encoded data removed]",
      "text/plain": [
       "<Figure size 432x288 with 1 Axes>"
      ]
     },
     "metadata": {
      "needs_background": "light"
     },
     "output_type": "display_data"
    },
    {
     "data": {
      "image/png": "[encoded data removed]",
      "text/plain": [
       "<Figure size 432x288 with 1 Axes>"
      ]
     },
     "metadata": {
      "needs_background": "light"
     },
     "output_type": "display_data"
    }
   ],
   "source": [
    "from sklearn.metrics import confusion_matrix , f1_score\n",
    "Epoch = 4000\n",
    "mb_size = 300\n",
    "batch_iter = int(len(np_data)/mb_size)\n",
    "config=tf.ConfigProto(log_device_placement=True)\n",
    "config.gpu_options.allow_growth = True\n",
    "sess = tf.Session(config = config)\n",
    "sess.run(tf.global_variables_initializer())\n",
    "_Loss_ = []\n",
    "print(\"Train\")\n",
    "for epoch in range(Epoch) :\n",
    "    batch_iter = int(len(np_data) / mb_size)\n",
    "    loss_v2 = []\n",
    "    AUC_v2 = []\n",
    "    F1_v2 = []\n",
    "    for idx in range(batch_iter) :\n",
    "        target1 = np.random.choice(target_1_list ,\n",
    "                                   int(0.55*mb_size) , replace = False )\n",
    "        target0 = np.random.choice(target_0_list , \n",
    "                                   int(0.45*mb_size) , replace = False )\n",
    "        target1 = list(target1)\n",
    "        target0 = list(target0)\n",
    "        if epoch > 0 :\n",
    "            target1 = target1 + BoostingList * 2\n",
    "        XX = np_data[target1 + target0  , : ]\n",
    "        YY = target_y[target1 + target0 , : ]\n",
    "        shuffle_idx = np.random.permutation(len(XX))\n",
    "        X_mb = XX[shuffle_idx , : ]\n",
    "        Y_mb = YY[shuffle_idx , : ]\n",
    "        Feed = {X : X_mb ,\n",
    "                y : Y_mb , \n",
    "                DropoutRate : 0.5 ,\n",
    "                training : True \n",
    "               }\n",
    "        _ , LOSS  = sess.run([solver , Loss] , feed_dict= Feed)\n",
    "        loss_v2.append(LOSS)\n",
    "        probs  = sess.run(Probs , feed_dict= Feed)\n",
    "        pred = np.argmax(probs , axis = 1 ) \n",
    "        AUC = roc_auc_score(np.squeeze(Y_mb) , probs[:,1])\n",
    "        f1score = f1_score(np.squeeze(Y_mb) ,  pred)\n",
    "        AUC_v2.append(AUC)\n",
    "        F1_v2.append(f1score)\n",
    "    AUC_Score = np.mean(AUC_v2)\n",
    "    F1 = np.mean(F1_v2)\n",
    "    LOSS = np.mean(loss_v2)\n",
    "    _Loss_.append(LOSS)\n",
    "    \n",
    "    \n",
    "    Feed = { X : np_data  ,\n",
    "            DropoutRate : 1 ,\n",
    "            training : True \n",
    "           }\n",
    "    probs  = sess.run(Probs , feed_dict= Feed)\n",
    "    DD = pd.DataFrame([np.squeeze(target_y) ,\n",
    "                       np.argmax(probs,axis =1)], index = [\"t\",\"p\"]).T\n",
    "    DD2 = DD[(DD.t == 1) & (DD.p==0)]\n",
    "    BoostingList = DD2.index.tolist()\n",
    "#     DD = pd.DataFrame([np.squeeze(target_y) ,probs[:,1]],\n",
    "#                       index = [\"t\",\"prob\"]).T\n",
    "#     if epoch % 100 == 0 :\n",
    "#         dd = [sess.run( getattr(mod,  \"model_{}_softmax\".format(i)) , \n",
    "#                        feed_dict= Feed)  for i in np.arange(len(NModels))]\n",
    "# #         a,b,c = sess.run([model_0_softmax ,\n",
    "# #                           model_1_softmax ,\n",
    "# #                           model_2_softmax] , feed_dict= Feed)\n",
    "#         d = pd.DataFrame(dd).sum(axis = 0)\n",
    "#         plt.scatter( np.arange(len(d)) , d.values)\n",
    "#         plt.show()\n",
    "#         print( confusion_matrix(np.squeeze(target_y) , \n",
    "#                                 np.argmax(probs,axis =1) ))\n",
    "#         msg = \"Epoch : {} , Loss :{:.5f}, AUC : {:.2f}\".format(epoch ,\n",
    "#                                                                  LOSS ,\n",
    "#                                                                  AUC*100)\n",
    "#         print(msg)\n",
    "    \n",
    "    \n",
    "    if (epoch % 50 == 0) & (epoch > 0) :\n",
    "        clear_output()\n",
    "        DD = pd.DataFrame([np.squeeze(target_y) , np.round(probs[:,1],4) ],\n",
    "                          index = [\"t\",\"prob\"]).T\n",
    "        sns.boxplot(x=\"t\", y=\"prob\", data=DD , showfliers = False )\n",
    "        msg = \"Real+GAN EPOCH : {}, AUC : {:.2f}%, F1 : {:.2f}%\".\\\n",
    "        format(epoch , AUC_Score*100 , F1*100)\n",
    "        plt.title(msg)\n",
    "        plt.show()\n",
    "        real_idx = np.arange(0,250).tolist()\n",
    "        RealX = np_data[real_idx  , : ]\n",
    "        RealY = target_y[real_idx, : ]\n",
    "        Feed = { X : RealX  ,\n",
    "                DropoutRate : 1 ,\n",
    "                training : True \n",
    "               }\n",
    "        probs  = sess.run(Probs , feed_dict= Feed)\n",
    "        DD = pd.DataFrame([np.squeeze(RealY) , np.round(probs[:,1],4)] , \n",
    "                          index = [\"t\",\"prob\"]).T\n",
    "        sns.boxplot(x=\"t\", y=\"prob\", data=DD , showfliers = False )\n",
    "        pred = np.argmax(probs , axis = 1 ) \n",
    "        AUC = roc_auc_score(np.squeeze(RealY) , probs[:,1])\n",
    "        f1score = f1_score(np.squeeze(RealY) ,  pred)\n",
    "        msg = \"RealSet AUC : {:.2f}%, F1 : {:.2f}%\".\\\n",
    "        format(AUC*100 ,f1score*100)\n",
    "        plt.title(msg)\n",
    "        plt.show()\n",
    "        \n",
    "        plt.plot(np.arange(len(_Loss_)), _Loss_ )\n",
    "        msg = \"EPOCH : {} , LOSS : {:.3f}, AUC : {:.2f}, F1 : {:.2f}\".\\\n",
    "        format(epoch , LOSS , AUC_Score*100 , F1*100)\n",
    "        plt.title(msg)\n",
    "        plt.show()"
   ]
  },
  {
   "cell_type": "code",
   "execution_count": 432,
   "metadata": {},
   "outputs": [],
   "source": [
    "test_data = pd.read_csv(\"./../Data/DontOverfit/test.csv\")\n",
    "__test_id__ = test_data.pop(\"id\")\n",
    "np_test = test_data.values"
   ]
  },
  {
   "cell_type": "code",
   "execution_count": 433,
   "metadata": {},
   "outputs": [
    {
     "data": {
      "text/plain": [
       "(19750, 300)"
      ]
     },
     "execution_count": 433,
     "metadata": {},
     "output_type": "execute_result"
    }
   ],
   "source": [
    "np_test.shape"
   ]
  },
  {
   "cell_type": "code",
   "execution_count": 434,
   "metadata": {},
   "outputs": [],
   "source": [
    "\n",
    "Feed = { X : np_test  ,\n",
    "            DropoutRate : 1 ,\n",
    "            training : True \n",
    "           }\n",
    "probs  = sess.run(Probs , feed_dict= Feed)"
   ]
  },
  {
   "cell_type": "code",
   "execution_count": 435,
   "metadata": {},
   "outputs": [
    {
     "data": {
      "text/plain": [
       "(19750, 2)"
      ]
     },
     "execution_count": 435,
     "metadata": {},
     "output_type": "execute_result"
    }
   ],
   "source": [
    "probs.shape"
   ]
  },
  {
   "cell_type": "code",
   "execution_count": 474,
   "metadata": {},
   "outputs": [],
   "source": [
    "submission = pd.DataFrame(__test_id__)\n",
    "submission[\"target\"] = probs[:,1] #np.argmax( , axis = 1)"
   ]
  },
  {
   "cell_type": "code",
   "execution_count": 475,
   "metadata": {},
   "outputs": [],
   "source": [
    "submission.to_csv(\"dontovefit_submission_gan.csv\", index = False)"
   ]
  },
  {
   "cell_type": "code",
   "execution_count": 476,
   "metadata": {},
   "outputs": [
    {
     "data": {
      "text/html": [
       "<div>\n",
       "<style scoped>\n",
       "    .dataframe tbody tr th:only-of-type {\n",
       "        vertical-align: middle;\n",
       "    }\n",
       "\n",
       "    .dataframe tbody tr th {\n",
       "        vertical-align: top;\n",
       "    }\n",
       "\n",
       "    .dataframe thead th {\n",
       "        text-align: right;\n",
       "    }\n",
       "</style>\n",
       "<table border=\"1\" class=\"dataframe\">\n",
       "  <thead>\n",
       "    <tr style=\"text-align: right;\">\n",
       "      <th></th>\n",
       "      <th>id</th>\n",
       "      <th>target</th>\n",
       "    </tr>\n",
       "  </thead>\n",
       "  <tbody>\n",
       "    <tr>\n",
       "      <td>0</td>\n",
       "      <td>250</td>\n",
       "      <td>0.784326</td>\n",
       "    </tr>\n",
       "    <tr>\n",
       "      <td>1</td>\n",
       "      <td>251</td>\n",
       "      <td>0.496695</td>\n",
       "    </tr>\n",
       "    <tr>\n",
       "      <td>2</td>\n",
       "      <td>252</td>\n",
       "      <td>0.543942</td>\n",
       "    </tr>\n",
       "    <tr>\n",
       "      <td>3</td>\n",
       "      <td>253</td>\n",
       "      <td>0.374842</td>\n",
       "    </tr>\n",
       "    <tr>\n",
       "      <td>4</td>\n",
       "      <td>254</td>\n",
       "      <td>0.719719</td>\n",
       "    </tr>\n",
       "  </tbody>\n",
       "</table>\n",
       "</div>"
      ],
      "text/plain": [
       "    id    target\n",
       "0  250  0.784326\n",
       "1  251  0.496695\n",
       "2  252  0.543942\n",
       "3  253  0.374842\n",
       "4  254  0.719719"
      ]
     },
     "execution_count": 476,
     "metadata": {},
     "output_type": "execute_result"
    }
   ],
   "source": [
    "submission.head()"
   ]
  },
  {
   "cell_type": "code",
   "execution_count": 477,
   "metadata": {},
   "outputs": [
    {
     "data": {
      "text/plain": [
       "<matplotlib.axes._subplots.AxesSubplot at 0x7ff381fce940>"
      ]
     },
     "execution_count": 477,
     "metadata": {},
     "output_type": "execute_result"
    },
    {
     "data": {
      "image/png": "[encoded data removed]",
      "text/plain": [
       "<Figure size 432x288 with 1 Axes>"
      ]
     },
     "metadata": {
      "needs_background": "light"
     },
     "output_type": "display_data"
    }
   ],
   "source": [
    "submission.target.hist()"
   ]
  },
  {
   "cell_type": "markdown",
   "metadata": {},
   "source": [
    "## 변수 중요도를 이용한 변수 선택 및 AutoEncoder로 파생 변수 넣어보기 \n",
    "\n",
    "## gradient boosting 알고리즘 참고해보기.."
   ]
  },
  {
   "cell_type": "code",
   "execution_count": 29,
   "metadata": {},
   "outputs": [
    {
     "data": {
      "image/png": "[encoded data removed]",
      "text/plain": [
       "<Figure size 432x288 with 1 Axes>"
      ]
     },
     "metadata": {
      "needs_background": "light"
     },
     "output_type": "display_data"
    }
   ],
   "source": [
    "skplt.metrics.plot_roc(np.squeeze(target_y),\n",
    "                       probs)\n",
    "plt.show()"
   ]
  },
  {
   "cell_type": "code",
   "execution_count": 35,
   "metadata": {},
   "outputs": [
    {
     "name": "stdout",
     "output_type": "stream",
     "text": [
      "[0 0 0 0 0 0 0 0 0 0 0 0 0 0 0 0 0 0 0 0 0 0 0 0 0 0 0 0 0 0 0 0 0 0 0 0 0\n",
      " 0 0 0 0 0 0 0 0 0 0 0 0 0 0 0 0 0 0 0 0 0 0 0 0 0 0 0 0 0 0 0 0 0 0 0 0 0\n",
      " 0 0 0 0 0 0 0 0 0 0 0 0 0 0 0 0 0 0 0 0 0 0 0 0 0 0 0 0 0 0 0 0 0 0 0 0 0\n",
      " 0 0 0 0 0 0 0 0 0 0 0 0 0 0 0 0 0 0 0 0 0 0 0 0 0 0 0 0 0 0 0 0 0 0 0 0 0\n",
      " 0 0 0 0 0 0 0 0 0 0 0 0 0 0 0 0 0 0 0 0 0 0 0 0 0 0 0 0 0 0 0 0 0 0 0 0 0\n",
      " 0 0 0 0 0 0 0 0 0 0 0 0 0 0 0 0 0 0 0 0 0 0 0 0 0 0 0 0 0 0 0 0 0 0 0 0 0\n",
      " 0 0 0 0 0 0 0 0 0 0 0 0 0 0 0 0 0 0 0 0 0 0 0 0 0 0 0 0]\n"
     ]
    },
    {
     "data": {
      "image/png": "[encoded data removed]",
      "text/plain": [
       "<Figure size 432x288 with 2 Axes>"
      ]
     },
     "metadata": {
      "needs_background": "light"
     },
     "output_type": "display_data"
    }
   ],
   "source": [
    "pred  = np.argmax(probs , axis =1 )\n",
    "skplt.metrics.plot_confusion_matrix(np.squeeze(target_y), \n",
    "                                    pred,\n",
    "                                    normalize=True)\n",
    "plt.show()"
   ]
  },
  {
   "cell_type": "code",
   "execution_count": 37,
   "metadata": {},
   "outputs": [
    {
     "data": {
      "image/png": "[encoded data removed]",
      "text/plain": [
       "<Figure size 432x288 with 1 Axes>"
      ]
     },
     "metadata": {
      "needs_background": "light"
     },
     "output_type": "display_data"
    }
   ],
   "source": [
    "skplt.metrics.plot_ks_statistic(np.squeeze(target_y),\n",
    "                                probs )\n",
    "plt.show()"
   ]
  }
 ],
 "metadata": {
  "kernelspec": {
   "display_name": "base",
   "language": "python",
   "name": "base"
  },
  "language_info": {
   "codemirror_mode": {
    "name": "ipython",
    "version": 3
   },
   "file_extension": ".py",
   "mimetype": "text/x-python",
   "name": "python",
   "nbconvert_exporter": "python",
   "pygments_lexer": "ipython3",
   "version": "3.6.7"
  }
 },
 "nbformat": 4,
 "nbformat_minor": 2
}
