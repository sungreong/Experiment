{
 "cells": [
  {
   "cell_type": "code",
   "execution_count": 1,
   "metadata": {},
   "outputs": [
    {
     "name": "stdout",
     "output_type": "stream",
     "text": [
      "1.15.0\n"
     ]
    },
    {
     "name": "stderr",
     "output_type": "stream",
     "text": [
      "WARNING: Logging before flag parsing goes to stderr.\n",
      "W0112 21:24:25.390960 140577519961856 lazy_loader.py:50] \n",
      "The TensorFlow contrib module will not be included in TensorFlow 2.0.\n",
      "For more information, please see:\n",
      "  * https://github.com/tensorflow/community/blob/master/rfcs/20180907-contrib-sunset.md\n",
      "  * https://github.com/tensorflow/addons\n",
      "  * https://github.com/tensorflow/io (for I/O related ops)\n",
      "If you depend on functionality not listed there, please file an issue.\n",
      "\n"
     ]
    }
   ],
   "source": [
    "import tensorflow as tf\n",
    "import numpy as np\n",
    "import pandas as pd , sys\n",
    "import matplotlib.pyplot as plt\n",
    "import scikitplot as skplt\n",
    "from IPython.display import clear_output\n",
    "from sklearn.metrics import auc , roc_auc_score\n",
    "from sklearn.model_selection import train_test_split\n",
    "sys.path.append(\"/home/advice/Python/SR/Custom/\")\n",
    "from Init import spectral_norm\n",
    "from RAdam import RAdamOptimizer\n",
    "import seaborn as sns\n",
    "import re , os\n",
    "from sklearn.preprocessing import StandardScaler\n",
    "from sklearn.model_selection import train_test_split\n",
    "import scikitplot as skplot"
   ]
  },
  {
   "cell_type": "code",
   "execution_count": 2,
   "metadata": {},
   "outputs": [],
   "source": [
    "import shutil\n",
    "try :\n",
    "    os.makedirs(\"./NNEnsembleResult/g\")\n",
    "    os.makedirs(\"./NNEnsembleResult/h\")\n",
    "except Exception as e :\n",
    "    shutil.rmtree(\"./NNEnsembleResult/g\")\n",
    "    shutil.rmtree(\"./NNEnsembleResult/h\")\n",
    "    os.makedirs(\"./NNEnsembleResult/g\")\n",
    "    os.makedirs(\"./NNEnsembleResult/h\")"
   ]
  },
  {
   "cell_type": "code",
   "execution_count": 3,
   "metadata": {},
   "outputs": [],
   "source": [
    "from tensorflow.contrib.layers import *\n",
    "def get_weight_variable(shape, name=None,\n",
    "                        type='xavier_uniform', regularize=True, **kwargs):\n",
    "    initialise_from_constant = False\n",
    "    if type == 'xavier_uniform':\n",
    "        initial = xavier_initializer(uniform=True, dtype=tf.float32)\n",
    "    elif type == 'xavier_normal':\n",
    "        initial = xavier_initializer(uniform=False, dtype=tf.float32)\n",
    "    elif type == 'he_normal':\n",
    "        initial = variance_scaling_initializer(uniform=False, factor=2.0, mode='FAN_IN', dtype=tf.float32)\n",
    "    elif type == 'he_uniform':\n",
    "        initial = variance_scaling_initializer(uniform=True, factor=2.0, mode='FAN_IN', dtype=tf.float32)\n",
    "    elif type == 'caffe_uniform':\n",
    "        initial = variance_scaling_initializer(uniform=True, factor=1.0, mode='FAN_IN', dtype=tf.float32)\n",
    "    elif type == 'simple':\n",
    "        stddev = kwargs.get('stddev', 0.02)\n",
    "        initial = tf.truncated_normal(shape, stddev=stddev, dtype=tf.float32)\n",
    "        initialise_from_constant = True\n",
    "    elif type == 'bilinear':\n",
    "        weights = _bilinear_upsample_weights(shape)\n",
    "        initial = tf.constant(weights, shape=shape, dtype=tf.float32)\n",
    "        initialise_from_constant = True\n",
    "    else:\n",
    "        raise ValueError('Unknown initialisation requested: %s' % type)\n",
    "\n",
    "    if name is None:  # This keeps to option open to use unnamed Variables\n",
    "        weight = tf.Variable(initial)\n",
    "    else:\n",
    "        if initialise_from_constant:\n",
    "            weight = tf.get_variable(name, initializer=initial)\n",
    "            \n",
    "        else:\n",
    "            weight = tf.get_variable(name, shape=shape, initializer=initial)\n",
    "    if regularize:\n",
    "        tf.add_to_collection('weight_variables', weight)\n",
    "    return weight "
   ]
  },
  {
   "cell_type": "code",
   "execution_count": 4,
   "metadata": {},
   "outputs": [
    {
     "data": {
      "text/plain": [
       "4229710"
      ]
     },
     "execution_count": 4,
     "metadata": {},
     "output_type": "execute_result"
    }
   ],
   "source": [
    "data = pd.read_csv(\"./../Data/bakingsoda_data_creditcard-train-0.5-0.5.csv\")\n",
    "testdata = pd.read_csv(\"./../Data/bakingsoda_data_creditcard-test-0.5-0.5.csv\")\n",
    "data.isna().sum().sum()"
   ]
  },
  {
   "cell_type": "code",
   "execution_count": 5,
   "metadata": {},
   "outputs": [
    {
     "data": {
      "text/plain": [
       "1238077"
      ]
     },
     "execution_count": 5,
     "metadata": {},
     "output_type": "execute_result"
    }
   ],
   "source": [
    "testdata.isna().sum().sum()"
   ]
  },
  {
   "cell_type": "code",
   "execution_count": 6,
   "metadata": {},
   "outputs": [],
   "source": [
    "data = data.dropna(subset=[\"Class\"])\n",
    "testdata = testdata.dropna(subset=[\"Class\"])\n",
    "data = data.drop([\"sep_idx\"], axis = 1)\n",
    "testdata = testdata.drop([\"sep_idx\"], axis = 1)"
   ]
  },
  {
   "cell_type": "code",
   "execution_count": 7,
   "metadata": {},
   "outputs": [
    {
     "data": {
      "text/html": [
       "<div>\n",
       "<style scoped>\n",
       "    .dataframe tbody tr th:only-of-type {\n",
       "        vertical-align: middle;\n",
       "    }\n",
       "\n",
       "    .dataframe tbody tr th {\n",
       "        vertical-align: top;\n",
       "    }\n",
       "\n",
       "    .dataframe thead th {\n",
       "        text-align: right;\n",
       "    }\n",
       "</style>\n",
       "<table border=\"1\" class=\"dataframe\">\n",
       "  <thead>\n",
       "    <tr style=\"text-align: right;\">\n",
       "      <th></th>\n",
       "      <th>V1</th>\n",
       "      <th>V2</th>\n",
       "      <th>V3</th>\n",
       "      <th>V4</th>\n",
       "      <th>V5</th>\n",
       "      <th>V6</th>\n",
       "      <th>V7</th>\n",
       "      <th>V8</th>\n",
       "      <th>V9</th>\n",
       "      <th>V10</th>\n",
       "      <th>...</th>\n",
       "      <th>V21</th>\n",
       "      <th>V22</th>\n",
       "      <th>V23</th>\n",
       "      <th>V24</th>\n",
       "      <th>V25</th>\n",
       "      <th>V26</th>\n",
       "      <th>V27</th>\n",
       "      <th>V28</th>\n",
       "      <th>Amount</th>\n",
       "      <th>Class</th>\n",
       "    </tr>\n",
       "  </thead>\n",
       "  <tbody>\n",
       "    <tr>\n",
       "      <td>1</td>\n",
       "      <td>NaN</td>\n",
       "      <td>0.266151</td>\n",
       "      <td>NaN</td>\n",
       "      <td>NaN</td>\n",
       "      <td>0.060018</td>\n",
       "      <td>-0.082361</td>\n",
       "      <td>-0.078803</td>\n",
       "      <td>NaN</td>\n",
       "      <td>-0.255425</td>\n",
       "      <td>-0.166974</td>\n",
       "      <td>...</td>\n",
       "      <td>NaN</td>\n",
       "      <td>-0.638672</td>\n",
       "      <td>NaN</td>\n",
       "      <td>NaN</td>\n",
       "      <td>NaN</td>\n",
       "      <td>NaN</td>\n",
       "      <td>-0.008983</td>\n",
       "      <td>NaN</td>\n",
       "      <td>2.69</td>\n",
       "      <td>0.0</td>\n",
       "    </tr>\n",
       "    <tr>\n",
       "      <td>4</td>\n",
       "      <td>1.229658</td>\n",
       "      <td>NaN</td>\n",
       "      <td>NaN</td>\n",
       "      <td>NaN</td>\n",
       "      <td>0.191881</td>\n",
       "      <td>0.272708</td>\n",
       "      <td>-0.005159</td>\n",
       "      <td>NaN</td>\n",
       "      <td>NaN</td>\n",
       "      <td>-0.099254</td>\n",
       "      <td>...</td>\n",
       "      <td>NaN</td>\n",
       "      <td>-0.270710</td>\n",
       "      <td>-0.154104</td>\n",
       "      <td>NaN</td>\n",
       "      <td>NaN</td>\n",
       "      <td>NaN</td>\n",
       "      <td>NaN</td>\n",
       "      <td>NaN</td>\n",
       "      <td>4.99</td>\n",
       "      <td>0.0</td>\n",
       "    </tr>\n",
       "    <tr>\n",
       "      <td>5</td>\n",
       "      <td>NaN</td>\n",
       "      <td>0.286157</td>\n",
       "      <td>-0.113192</td>\n",
       "      <td>NaN</td>\n",
       "      <td>NaN</td>\n",
       "      <td>3.721818</td>\n",
       "      <td>0.370145</td>\n",
       "      <td>0.851084</td>\n",
       "      <td>-0.392048</td>\n",
       "      <td>-0.410430</td>\n",
       "      <td>...</td>\n",
       "      <td>-0.073425</td>\n",
       "      <td>-0.268092</td>\n",
       "      <td>-0.204233</td>\n",
       "      <td>1.011592</td>\n",
       "      <td>NaN</td>\n",
       "      <td>-0.384157</td>\n",
       "      <td>NaN</td>\n",
       "      <td>0.142404</td>\n",
       "      <td>93.20</td>\n",
       "      <td>0.0</td>\n",
       "    </tr>\n",
       "    <tr>\n",
       "      <td>8</td>\n",
       "      <td>-2.791855</td>\n",
       "      <td>NaN</td>\n",
       "      <td>1.641750</td>\n",
       "      <td>NaN</td>\n",
       "      <td>-0.136588</td>\n",
       "      <td>0.807596</td>\n",
       "      <td>-0.422911</td>\n",
       "      <td>NaN</td>\n",
       "      <td>NaN</td>\n",
       "      <td>NaN</td>\n",
       "      <td>...</td>\n",
       "      <td>NaN</td>\n",
       "      <td>NaN</td>\n",
       "      <td>1.020586</td>\n",
       "      <td>0.028317</td>\n",
       "      <td>NaN</td>\n",
       "      <td>-0.235557</td>\n",
       "      <td>-0.164778</td>\n",
       "      <td>NaN</td>\n",
       "      <td>58.80</td>\n",
       "      <td>0.0</td>\n",
       "    </tr>\n",
       "    <tr>\n",
       "      <td>9</td>\n",
       "      <td>-0.752417</td>\n",
       "      <td>NaN</td>\n",
       "      <td>NaN</td>\n",
       "      <td>NaN</td>\n",
       "      <td>-1.158394</td>\n",
       "      <td>NaN</td>\n",
       "      <td>NaN</td>\n",
       "      <td>NaN</td>\n",
       "      <td>NaN</td>\n",
       "      <td>0.747731</td>\n",
       "      <td>...</td>\n",
       "      <td>0.499625</td>\n",
       "      <td>1.353650</td>\n",
       "      <td>NaN</td>\n",
       "      <td>-0.065084</td>\n",
       "      <td>-0.039124</td>\n",
       "      <td>-0.087086</td>\n",
       "      <td>NaN</td>\n",
       "      <td>0.129394</td>\n",
       "      <td>15.99</td>\n",
       "      <td>0.0</td>\n",
       "    </tr>\n",
       "  </tbody>\n",
       "</table>\n",
       "<p>5 rows × 30 columns</p>\n",
       "</div>"
      ],
      "text/plain": [
       "         V1        V2        V3  V4        V5        V6        V7        V8  \\\n",
       "1       NaN  0.266151       NaN NaN  0.060018 -0.082361 -0.078803       NaN   \n",
       "4  1.229658       NaN       NaN NaN  0.191881  0.272708 -0.005159       NaN   \n",
       "5       NaN  0.286157 -0.113192 NaN       NaN  3.721818  0.370145  0.851084   \n",
       "8 -2.791855       NaN  1.641750 NaN -0.136588  0.807596 -0.422911       NaN   \n",
       "9 -0.752417       NaN       NaN NaN -1.158394       NaN       NaN       NaN   \n",
       "\n",
       "         V9       V10  ...       V21       V22       V23       V24       V25  \\\n",
       "1 -0.255425 -0.166974  ...       NaN -0.638672       NaN       NaN       NaN   \n",
       "4       NaN -0.099254  ...       NaN -0.270710 -0.154104       NaN       NaN   \n",
       "5 -0.392048 -0.410430  ... -0.073425 -0.268092 -0.204233  1.011592       NaN   \n",
       "8       NaN       NaN  ...       NaN       NaN  1.020586  0.028317       NaN   \n",
       "9       NaN  0.747731  ...  0.499625  1.353650       NaN -0.065084 -0.039124   \n",
       "\n",
       "        V26       V27       V28  Amount  Class  \n",
       "1       NaN -0.008983       NaN    2.69    0.0  \n",
       "4       NaN       NaN       NaN    4.99    0.0  \n",
       "5 -0.384157       NaN  0.142404   93.20    0.0  \n",
       "8 -0.235557 -0.164778       NaN   58.80    0.0  \n",
       "9 -0.087086       NaN  0.129394   15.99    0.0  \n",
       "\n",
       "[5 rows x 30 columns]"
      ]
     },
     "execution_count": 7,
     "metadata": {},
     "output_type": "execute_result"
    }
   ],
   "source": [
    "data.head()"
   ]
  },
  {
   "cell_type": "code",
   "execution_count": 8,
   "metadata": {},
   "outputs": [],
   "source": [
    "\n",
    "target = data.pop(\"Class\")\n",
    "testtarget =  testdata.pop(\"Class\")\n",
    "num_col = data.select_dtypes(\"float\").columns.tolist()"
   ]
  },
  {
   "cell_type": "code",
   "execution_count": 9,
   "metadata": {},
   "outputs": [],
   "source": [
    "# Trval_X , Test_X , Trval_y , Test_y = train_test_split(onehot_data , target , test_size = 0.3)\n",
    "# Trval_X.reset_index(drop=True , inplace=True)\n",
    "# Trval_y.reset_index(drop=True , inplace=True)\n",
    "Train_X , Test_X , Train_y , Test_y = data , testdata , target , testtarget\n",
    "#tr_idx = np.array(Train_X.index.tolist())\n",
    "#va_idx = np.array(Valid_X.index.tolist())"
   ]
  },
  {
   "cell_type": "code",
   "execution_count": 10,
   "metadata": {},
   "outputs": [],
   "source": [
    "one_hot_var = Train_X.columns.tolist()\n",
    "in_var = data.columns.tolist()"
   ]
  },
  {
   "cell_type": "code",
   "execution_count": 11,
   "metadata": {},
   "outputs": [],
   "source": [
    "def spectral_norm(w, iteration=1 , name = None):\n",
    "    w_shape = w.shape.as_list()\n",
    "    w = tf.reshape(w, [-1, w_shape[-1]])\n",
    "    u = tf.get_variable(name , [1, w_shape[-1]], \n",
    "                        initializer=tf.random_normal_initializer(), trainable=False)\n",
    "    u_hat = u\n",
    "    v_hat = None\n",
    "    for i in range(iteration):\n",
    "        v_ = tf.matmul(u_hat, tf.transpose(w))\n",
    "        v_hat = tf.nn.l2_normalize(v_)\n",
    "\n",
    "        u_ = tf.matmul(v_hat, w)\n",
    "        u_hat = tf.nn.l2_normalize(u_)\n",
    "\n",
    "    u_hat = tf.stop_gradient(u_hat)\n",
    "    v_hat = tf.stop_gradient(v_hat)\n",
    "\n",
    "    sigma = tf.matmul(tf.matmul(v_hat, w), tf.transpose(u_hat))\n",
    "\n",
    "    with tf.control_dependencies([u.assign(u_hat)]):\n",
    "        w_norm = w / sigma\n",
    "        w_norm = tf.reshape(w_norm, w_shape)\n",
    "    return w_norm \n",
    "\n",
    "def OneHotIndex(in_var , num_var , one_hot_var) :\n",
    "    start_idx = 0\n",
    "    key_store = {}\n",
    "    store = []\n",
    "    for idx , col in enumerate(in_var) :\n",
    "        if col in num_var :\n",
    "            aa = [start_idx , start_idx +1]\n",
    "            store.append(aa)\n",
    "            start_idx += 1\n",
    "        else :\n",
    "            find = [idx for idx , ck in enumerate(one_hot_var) if re.search(\"^{}_\".format(col) , ck)]\n",
    "            nn = len(find)\n",
    "            aa = [start_idx , start_idx + nn]\n",
    "            start_idx += nn\n",
    "            store.append(aa)\n",
    "        key_store[col] = aa\n",
    "    return key_store , store"
   ]
  },
  {
   "cell_type": "code",
   "execution_count": 12,
   "metadata": {},
   "outputs": [],
   "source": [
    "key_onehot_store , onehot_store = OneHotIndex(in_var , num_col , one_hot_var)"
   ]
  },
  {
   "cell_type": "code",
   "execution_count": 13,
   "metadata": {},
   "outputs": [],
   "source": [
    "Train_y.reset_index(drop=True ,inplace=True)\n",
    "target_1_list = Train_y[(Train_y == 1) == True].index.tolist()\n",
    "target_0_list = Train_y[(Train_y == 0) == True].index.tolist()"
   ]
  },
  {
   "cell_type": "code",
   "execution_count": 14,
   "metadata": {},
   "outputs": [],
   "source": [
    "ck = list(set(target_1_list) & set(target_0_list))\n",
    "assert ck == [], \"중복 발생 : {}\".format(ck)"
   ]
  },
  {
   "cell_type": "code",
   "execution_count": 15,
   "metadata": {},
   "outputs": [],
   "source": [
    "from sklearn.compose import ColumnTransformer\n",
    "from sklearn.pipeline import Pipeline\n",
    "from sklearn.impute import SimpleImputer\n",
    "from sklearn.preprocessing import StandardScaler, OneHotEncoder , MinMaxScaler\n",
    "\n",
    "numeric_features = num_col \n",
    "numeric_transformer = Pipeline(steps=[\n",
    "    ('imputer', SimpleImputer(strategy='mean')),\n",
    "    ('scaler', StandardScaler()),\n",
    "    ('minmax', MinMaxScaler(feature_range=(-1,1)))])\n",
    "preprocessor = ColumnTransformer(\n",
    "    transformers=[\n",
    "        ('num', numeric_transformer, numeric_features)])\n",
    "clf = Pipeline(steps=[('preprocessor', preprocessor),])"
   ]
  },
  {
   "cell_type": "code",
   "execution_count": 16,
   "metadata": {},
   "outputs": [],
   "source": [
    "clf.fit(Train_X)\n",
    "Train_X[num_col] = clf.transform(Train_X)\n",
    "#Valid_X[num_col] = clf.transform(Valid_X)\n",
    "Test_X[num_col] = clf.transform(Test_X)"
   ]
  },
  {
   "cell_type": "markdown",
   "metadata": {},
   "source": [
    "## 앙상블 테스트"
   ]
  },
  {
   "cell_type": "code",
   "execution_count": 17,
   "metadata": {},
   "outputs": [],
   "source": [
    "Train_X_np = Train_X.values\n",
    "#Valid_X_np = Valid_X.values\n",
    "Test_X_np = Test_X.values"
   ]
  },
  {
   "cell_type": "code",
   "execution_count": 18,
   "metadata": {},
   "outputs": [],
   "source": [
    "def tf_mish(x, name=\"mish\") :\n",
    "    act = x * tf.nn.tanh(tf.nn.softplus(x))\n",
    "    act = tf.identity(act , name)\n",
    "    return act"
   ]
  },
  {
   "cell_type": "code",
   "execution_count": 19,
   "metadata": {},
   "outputs": [
    {
     "name": "stdout",
     "output_type": "stream",
     "text": [
      "185078 29\n"
     ]
    }
   ],
   "source": [
    "row , dim = Train_X_np.shape\n",
    "print(row,dim)\n",
    "target_n = 2 \n",
    "tf.reset_default_graph()\n",
    "X = tf.placeholder(tf.float32, shape = [ None , dim])\n",
    "y = tf.placeholder(tf.float32, shape = [ None , 1])\n",
    "DropoutRate = tf.placeholder(tf.float32, name =\"dropoutRate\")\n",
    "training = tf.placeholder_with_default(False, shape=[], name=\"training\")"
   ]
  },
  {
   "cell_type": "code",
   "execution_count": 20,
   "metadata": {},
   "outputs": [
    {
     "name": "stdout",
     "output_type": "stream",
     "text": [
      "['V1', 'V2', 'V3', 'V4', 'V5', 'V6', 'V7', 'V8', 'V9', 'V10', 'V11', 'V12', 'V13', 'V14', 'V15', 'V16', 'V17', 'V18', 'V19', 'V20', 'V21', 'V22', 'V23', 'V24', 'V25', 'V26', 'V27', 'V28', 'Amount']\n"
     ]
    }
   ],
   "source": [
    "print(in_var)"
   ]
  },
  {
   "cell_type": "code",
   "execution_count": 21,
   "metadata": {},
   "outputs": [],
   "source": [
    "def variable_select(in_var = None , method = None , select_n = None , NTree = None) :\n",
    "    var_n = len(in_var)\n",
    "    if method== \"sqrt\" :\n",
    "        value =np.sqrt(var_n)\n",
    "    elif method == \"log2\" :\n",
    "        value =np.log2(var_n)\n",
    "    elif method == \"select\" :\n",
    "        value = select_n\n",
    "    else :\n",
    "        value = var_n\n",
    "    return [list(np.random.choice(in_var ,\n",
    "                                  replace = False , \n",
    "                                  size = value)) for _ in range(NTree)]\n",
    "select_var = variable_select(in_var=in_var , method=\"select\" , \n",
    "                               select_n= 10 , NTree= 5)"
   ]
  },
  {
   "cell_type": "code",
   "execution_count": 22,
   "metadata": {},
   "outputs": [
    {
     "name": "stdout",
     "output_type": "stream",
     "text": [
      "[['V17', 'V27', 'V11', 'V16', 'V26', 'V20', 'V14', 'V15', 'V6', 'V1'], ['V4', 'V2', 'V11', 'V6', 'V7', 'V17', 'V25', 'V20', 'V23', 'V12'], ['V19', 'V15', 'V3', 'V9', 'V22', 'V8', 'V23', 'V10', 'V12', 'V17'], ['V16', 'V19', 'V2', 'V21', 'V27', 'V8', 'Amount', 'V14', 'V6', 'V26'], ['V20', 'V5', 'V10', 'V15', 'V26', 'V12', 'V16', 'V1', 'V9', 'Amount']]\n"
     ]
    }
   ],
   "source": [
    "print(select_var)"
   ]
  },
  {
   "cell_type": "code",
   "execution_count": 23,
   "metadata": {},
   "outputs": [],
   "source": [
    "# var = select_var[0]\n",
    "# x_input = []\n",
    "# for key in var :\n",
    "#     start_node , terminal_node = key_onehot_store[key]\n",
    "#     diff = terminal_node - start_node\n",
    "#     X_Split = tf.slice(X , [0, start_node] , [-1 , diff])\n",
    "#     x_input.append(X_Split)  "
   ]
  },
  {
   "cell_type": "markdown",
   "metadata": {},
   "source": [
    "## NA -> 1.5 (outlier로 표시하기)"
   ]
  },
  {
   "cell_type": "code",
   "execution_count": null,
   "metadata": {},
   "outputs": [],
   "source": [
    "def Classifier_V2(X , hidden = [[],[]], Nensemble = select_var ) :\n",
    "    X = tf.where( tf.math.is_nan(X) , tf.ones_like(X) * 1.5 , X)\n",
    "    Ensembles = []\n",
    "    with tf.variable_scope(\"Ensembles\"):\n",
    "        for idx , __vars__ in enumerate(Nensemble) :\n",
    "            x_input = []\n",
    "            for key in __vars__ :\n",
    "                start_node , terminal_node = key_onehot_store[key]\n",
    "                diff = terminal_node - start_node\n",
    "                X_Split = tf.slice(X , [0, start_node] , [-1 , diff])\n",
    "                if diff > 4 : \n",
    "                    embeddings = tf.Variable(tf.truncated_normal([diff, int(diff/2)], \n",
    "                                                         stddev = 2/diff ))       \n",
    "                    X_Split = tf.argmax(X_Split , axis = 1)\n",
    "                    X_Split = tf.nn.embedding_lookup(embeddings, X_Split)\n",
    "                x_input.append(X_Split)\n",
    "            x_input = tf.concat(x_input , axis = 1)\n",
    "            #x_input = tf.layers.batch_normalization(x_input , training=training)\n",
    "            TOTAL_DIM = x_input.get_shape().as_list()[1]\n",
    "            SELECT = np.random.randint(0 , len(activate_candidate) , 1)[0]\n",
    "            activation = activate_candidate[SELECT]\n",
    "            dims = hidden[idx]\n",
    "            dims = [TOTAL_DIM] + dims\n",
    "            print(dims)\n",
    "            for idx2 , h_dim in enumerate(dims) :\n",
    "                if idx2 == 0 :\n",
    "                    Weight =get_weight_variable(shape = [TOTAL_DIM , h_dim], \n",
    "                                                name=\"W_{}{}\".format(idx , idx2),\n",
    "                                                type='xavier_normal', regularize=True)\n",
    "                    snw = spectral_norm(Weight , name = \"SN_{}{}\".format(idx , idx2))\n",
    "                    Bias = tf.get_variable(\"Bias_{}{}\".format(idx , idx2),\n",
    "                                           shape = [h_dim] , dtype = tf.float32 , \n",
    "                                           initializer = tf.constant_initializer(0.0))\n",
    "                    Layer = activation(tf.matmul( x_input , snw) + Bias)\n",
    "                    Layer = tf.contrib.nn.alpha_dropout(Layer , DropoutRate ) \n",
    "                else :\n",
    "                    Weight =get_weight_variable(shape = [dims[idx2-1] ,h_dim ], \n",
    "                                                name=\"W_{}{}\".format(idx , idx2),\n",
    "                                                type='xavier_normal', regularize=True)\n",
    "                    if len(dims) == idx2+1 : pass\n",
    "                    else : Weight = spectral_norm(Weight , name = \"SN_{}{}\".format(idx , idx2))\n",
    "                    Bias = tf.get_variable(\"Bias_{}{}\".format(idx , idx2),\n",
    "                                           shape = [h_dim] , dtype = tf.float32 , \n",
    "                                           initializer = tf.constant_initializer(0.0))\n",
    "                    Layer = tf.matmul( Layer , Weight) + Bias\n",
    "                    if len(dims) == idx2+1 : \n",
    "                        pass\n",
    "                    else : \n",
    "                        Layer = activation(Layer)\n",
    "                        Layer = tf.contrib.nn.alpha_dropout(Layer , DropoutRate ) \n",
    "            Ensembles.append(Layer)\n",
    "        return Ensembles"
   ]
  },
  {
   "cell_type": "code",
   "execution_count": null,
   "metadata": {},
   "outputs": [],
   "source": [
    "def tf_mish(x) :\n",
    "    return x * tf.nn.tanh(tf.nn.softplus(x))\n",
    "activate_candidate = \\\n",
    "[tf.nn.selu, tf_mish , tf.nn.leaky_relu , tf.nn.elu ]"
   ]
  },
  {
   "cell_type": "code",
   "execution_count": null,
   "metadata": {},
   "outputs": [
    {
     "name": "stderr",
     "output_type": "stream",
     "text": [
      "W0112 21:24:28.750107 140577519961856 deprecation.py:323] From <ipython-input-24-fb037db58d58>:2: where (from tensorflow.python.ops.array_ops) is deprecated and will be removed in a future version.\n",
      "Instructions for updating:\n",
      "Use tf.where in 2.0, which has the same broadcast rule as np.where\n"
     ]
    },
    {
     "name": "stdout",
     "output_type": "stream",
     "text": [
      "[10, 50, 50, 2]\n",
      "[10, 80, 50, 2]\n",
      "[10, 60, 50, 2]\n",
      "[10, 70, 50, 2]\n",
      "[10, 40, 20, 2]\n"
     ]
    }
   ],
   "source": [
    "HIDDEN = [\n",
    "    [ 50 , 50,  target_n] , \n",
    "    [ 80 , 50, target_n] ,\n",
    "    [ 60 , 50, target_n] ,\n",
    "    [ 70 , 50, target_n] ,\n",
    "    [ 40 , 20, target_n]\n",
    "         ]\n",
    "NModels = Classifier_V2(X , hidden = HIDDEN , Nensemble= select_var )"
   ]
  },
  {
   "cell_type": "code",
   "execution_count": null,
   "metadata": {},
   "outputs": [],
   "source": [
    "NModels_MEAN = tf.reduce_mean(NModels , axis = 0)\n",
    "Probs = tf.nn.softmax(NModels_MEAN)\n",
    "y_one_hot = tf.one_hot( tf.cast(tf.squeeze(y , axis = 1 ) , tf.int32) , depth=2)"
   ]
  },
  {
   "cell_type": "code",
   "execution_count": null,
   "metadata": {},
   "outputs": [
    {
     "data": {
      "text/plain": [
       "<tf.Tensor 'one_hot:0' shape=(?, 2) dtype=float32>"
      ]
     },
     "execution_count": 28,
     "metadata": {},
     "output_type": "execute_result"
    }
   ],
   "source": [
    "y_one_hot"
   ]
  },
  {
   "cell_type": "code",
   "execution_count": null,
   "metadata": {},
   "outputs": [],
   "source": []
  },
  {
   "cell_type": "code",
   "execution_count": null,
   "metadata": {},
   "outputs": [],
   "source": [
    "# tf.InteractiveSession()\n",
    "# #tf.one_hot(y , depth= 2).shape\n",
    "# y = Train_y.values.reshape(-1,1)[0:10].tolist()\n",
    "# tf.one_hot( tf.cast(tf.squeeze(y , axis = 1 ) , tf.int32) , depth=2).eval()"
   ]
  },
  {
   "cell_type": "code",
   "execution_count": null,
   "metadata": {},
   "outputs": [],
   "source": [
    "from sklearn.utils.class_weight import compute_class_weight\n",
    "y_weight_info = compute_class_weight(class_weight= \"balanced\" , \n",
    "                     classes = np.unique(Train_y),\n",
    "                     y= np.squeeze(Train_y))\n",
    "weight = tf.constant([ y_weight_info[1] ] ) # "
   ]
  },
  {
   "cell_type": "markdown",
   "metadata": {},
   "source": [
    "## Version1 (Averaging)"
   ]
  },
  {
   "cell_type": "code",
   "execution_count": null,
   "metadata": {},
   "outputs": [],
   "source": [
    "# WCE = tf.nn.weighted_cross_entropy_with_logits(targets = y_one_hot ,\n",
    "#                                                logits = NModels_MEAN , \n",
    "#                                                pos_weight =  weight)\n",
    "# Loss = tf.reduce_mean(WCE)"
   ]
  },
  {
   "cell_type": "code",
   "execution_count": null,
   "metadata": {},
   "outputs": [],
   "source": [
    "mod = sys.modules[__name__]\n",
    "for idx , Model in enumerate(NModels) :\n",
    "    setattr(mod, 'model_{}_softmax'.format(idx), \n",
    "            tf.argmax( tf.nn.softmax(Model) , axis = 1 ))"
   ]
  },
  {
   "cell_type": "markdown",
   "metadata": {},
   "source": [
    "## Version2 (개별)"
   ]
  },
  {
   "cell_type": "code",
   "execution_count": null,
   "metadata": {},
   "outputs": [
    {
     "name": "stderr",
     "output_type": "stream",
     "text": [
      "W0112 21:24:30.106624 140577519961856 deprecation.py:506] From <ipython-input-33-06487420356c>:7: calling weighted_cross_entropy_with_logits (from tensorflow.python.ops.nn_impl) with targets is deprecated and will be removed in a future version.\n",
      "Instructions for updating:\n",
      "targets is deprecated, use labels instead\n"
     ]
    }
   ],
   "source": [
    "mod = sys.modules[__name__]\n",
    "Loss = []\n",
    "Probs = 0\n",
    "for idx , Model in enumerate(NModels) :\n",
    "    loss = tf.nn.weighted_cross_entropy_with_logits(targets = y_one_hot ,\n",
    "                                                     logits = Model , \n",
    "                                                     pos_weight = weight)\n",
    "    Probs +=tf.nn.softmax(Model)\n",
    "    Loss.append(loss)\n",
    "    #Loss += loss\n",
    "Loss = tf.reduce_mean(Loss)\n",
    "#Loss /= len(NModels)\n",
    "Probs = tf.nn.softmax(Probs)"
   ]
  },
  {
   "cell_type": "code",
   "execution_count": null,
   "metadata": {},
   "outputs": [],
   "source": []
  },
  {
   "cell_type": "markdown",
   "metadata": {},
   "source": [
    "## L1 L2 Penalty"
   ]
  },
  {
   "cell_type": "code",
   "execution_count": null,
   "metadata": {},
   "outputs": [],
   "source": [
    "vars = tf.get_collection(tf.GraphKeys.GLOBAL_VARIABLES,scope=\"Ensembles\")"
   ]
  },
  {
   "cell_type": "code",
   "execution_count": null,
   "metadata": {},
   "outputs": [],
   "source": [
    "# L2 = []\n",
    "# WEIGHTS = []\n",
    "# import re \n",
    "# for v in vars :\n",
    "#     if re.search('W_' , v.name) :\n",
    "#         WEIGHTS.append(v)\n",
    "#         L2.append(tf.nn.l2_loss(v))\n",
    "# Loss += tf.add_n(L2)  * 0.0001\n",
    "# l1_regularizer = tf.contrib.layers.l1_regularizer(scale=0.005, scope=None)\n",
    "# regularization_penalty = tf.contrib.layers.apply_regularization(l1_regularizer, WEIGHTS )\n",
    "# Loss += regularization_penalty  * 0.0001"
   ]
  },
  {
   "cell_type": "code",
   "execution_count": null,
   "metadata": {},
   "outputs": [],
   "source": [
    "update_ops = tf.get_collection(tf.GraphKeys.UPDATE_OPS)\n",
    "with tf.control_dependencies(update_ops):\n",
    "    solver = RAdamOptimizer(learning_rate= 1e-4).minimize(Loss )\n",
    "# var_list = tf.trainable_variables()"
   ]
  },
  {
   "cell_type": "code",
   "execution_count": null,
   "metadata": {},
   "outputs": [
    {
     "name": "stdout",
     "output_type": "stream",
     "text": [
      "(185078, 29)\n",
      "0.0    184760\n",
      "1.0       318\n",
      "Name: Class, dtype: int64\n"
     ]
    }
   ],
   "source": [
    "print(Train_X.shape )\n",
    "print(Train_y.value_counts())"
   ]
  },
  {
   "cell_type": "code",
   "execution_count": null,
   "metadata": {
    "scrolled": false
   },
   "outputs": [
    {
     "name": "stdout",
     "output_type": "stream",
     "text": [
      "[[184760      0]\n",
      " [   318      0]]\n",
      "Epoch : 100 , Loss :4.39228, AUC : 59.04\n",
      "target 1 oversample n :  318\n"
     ]
    },
    {
     "data": {
      "image/png": "[encoded data removed]",
      "text/plain": [
       "<Figure size 1080x864 with 6 Axes>"
      ]
     },
     "metadata": {
      "needs_background": "light"
     },
     "output_type": "display_data"
    },
    {
     "name": "stdout",
     "output_type": "stream",
     "text": [
      "103\r"
     ]
    }
   ],
   "source": [
    "from sklearn.metrics import confusion_matrix\n",
    "Epoch = 10000\n",
    "mb_size = 2000\n",
    "config=tf.ConfigProto(log_device_placement=True)\n",
    "config.gpu_options.allow_growth = True\n",
    "sess = tf.Session(config = config)\n",
    "sess.run(tf.global_variables_initializer())\n",
    "_Loss_ = []\n",
    "_Epoch_ = []\n",
    "_Epoch2_ = [0]\n",
    "_trAUC_ , _teAUC_ = [0] , [0]\n",
    "print(\"Train\")\n",
    "for epoch in range(Epoch) :\n",
    "    print(epoch , end = \"\\r\")\n",
    "    target1 = np.random.choice(target_1_list ,\n",
    "                               int(len(target_1_list)/4) ,\n",
    "                               replace = False )\n",
    "    target0 = np.random.choice(target_0_list , \n",
    "                               len(target_0_list) ,\n",
    "                               replace = True )\n",
    "    target1 = list(target1)\n",
    "    target0 = list(target0)\n",
    "    if epoch > 10 :\n",
    "        target1 = target1 + 5 * checkpoint \n",
    "    XX = Train_X_np[target1 + target0  , : ]\n",
    "    YY = Train_y.values[target1 + target0]\n",
    "    idx = np.random.permutation(len(XX))\n",
    "    XX = XX[idx , : ]\n",
    "    YY = YY[idx]\n",
    "    batch_iter = int(len(XX) / mb_size)\n",
    "    batchLoss = 0\n",
    "    for idx in range(batch_iter) :\n",
    "        X_mb = XX[idx*mb_size:(idx+1)*mb_size]\n",
    "        Y_mb = YY[idx*mb_size:(idx+1)*mb_size]\n",
    "        Feed = {X : X_mb ,\n",
    "                y : Y_mb.reshape(-1,1) , \n",
    "                DropoutRate : 0.5 ,\n",
    "                training : True \n",
    "               }\n",
    "        _ , LOSS  = sess.run([solver , Loss] , feed_dict= Feed)\n",
    "        batchLoss += LOSS\n",
    "    batchLoss /= batch_iter\n",
    "    _Loss_.append(batchLoss)\n",
    "    _Epoch_.append(epoch)\n",
    "    \n",
    "    if epoch % 10 == 0 :\n",
    "        Feed = { X : Train_X_np  ,\n",
    "                DropoutRate : 1.0,\n",
    "                training : False \n",
    "               }\n",
    "        probs  = sess.run(Probs , feed_dict= Feed)\n",
    "        real_target = np.squeeze(Train_y.values)\n",
    "        pred_target = np.argmax(probs,axis =1)\n",
    "        AUC = roc_auc_score(real_target , probs[:,1])\n",
    "        DD = pd.DataFrame([real_target ,pred_target], index = [\"t\",\"p\"]).T\n",
    "        DD2 = DD[(DD.t == 1) & (DD.p==0)]\n",
    "        checkpoint = DD2.index.tolist()\n",
    "    \n",
    "    msg = \"Epoch : {} , Loss :{:.5f}, AUC : {:.2f}\".format(epoch ,LOSS ,AUC*100)\n",
    "    if (epoch % 50 == 0) & ( epoch > 0 ) :\n",
    "#         __idx__ = np.random.permutation(len(Train_X_np))\n",
    "#         __idx__ = np.random.choice(__idx__ , replace = False, size= 500)\n",
    "#         Feed = { X : Train_X_np[__idx__,:]  ,\n",
    "#                 DropoutRate : 1 ,\n",
    "#                 training : True }\n",
    "        dd = [sess.run( getattr(mod,  \"model_{}_softmax\".format(i)) , \n",
    "                       feed_dict= Feed)  for i in np.arange(len(NModels))]\n",
    "        s = pd.DataFrame(dd)\n",
    "        models = np.arange(s.shape[0])\n",
    "        indexs = np.arange(s.shape[1])\n",
    "        fig, ax = plt.subplots( figsize = (12,8))\n",
    "        plt.pcolor(s)\n",
    "        plt.yticks(np.arange(0.5, len(models), 1),models)\n",
    "        plt.title(msg)\n",
    "        plt.savefig(f\"./NNEnsembleResult/g/plot.{epoch:03d}.png\")\n",
    "        plt.close()    \n",
    "        #d = pd.DataFrame(dd).sum(axis = 0)\n",
    "        #plt.scatter( np.arange(len(d)) , d.values)\n",
    "    if (epoch % 50 == 0) & ( epoch > 0 ):\n",
    "        clear_output()\n",
    "        print(confusion_matrix(real_target , pred_target))\n",
    "        print(msg)\n",
    "        print(\"target 1 oversample n : \", len(checkpoint))\n",
    "        trainDD = pd.DataFrame([real_target ,probs[:,1]],\n",
    "                               index = [\"t\",\"prob\"]).T\n",
    "        trainAUC = AUC\n",
    "        Feed = { X : Test_X_np  ,\n",
    "            DropoutRate : 1.0 ,\n",
    "            training : False \n",
    "           }\n",
    "        testprobs  = sess.run(Probs , feed_dict= Feed)\n",
    "        real_target = np.squeeze(Test_y.values)\n",
    "        pred_target = np.argmax(testprobs,axis =1)\n",
    "        testAUC = roc_auc_score(real_target , testprobs[:,1])\n",
    "        testDD = pd.DataFrame([real_target ,testprobs[:,1]],\n",
    "                          index = [\"t\",\"prob\"]).T\n",
    "        ###################################################\n",
    "        fig , axes = plt.subplots(nrows=4 ,ncols=2,\n",
    "                  figsize=(15,12) )\n",
    "        plt.subplots_adjust(left=0.05, bottom=0.1, right=0.99, \n",
    "                            top=0.95, wspace=None, hspace=0.5)\n",
    "        ax = axes.flatten()\n",
    "        sns.boxplot(x=\"t\", y=\"prob\", data=trainDD, ax = ax[0])\n",
    "        ax[0].set_title(\"train : {:.3f}\".format(trainAUC), fontsize= 25)\n",
    "        sns.boxplot(x=\"t\", y=\"prob\", data=testDD, ax = ax[1])\n",
    "        ax[1].set_title(\"test : {:.3f}\".format(testAUC), fontsize= 25)\n",
    "        skplt.metrics.plot_ks_statistic(Train_y.values, probs , \n",
    "                                        ax = ax[2] , \n",
    "                                        title = \"[Train] KS Static PLOT\")\n",
    "        skplt.metrics.plot_ks_statistic(Test_y.values, testprobs ,\n",
    "                                        ax = ax[3], \n",
    "                                        title = \"[Test] KS Static PLOT\")\n",
    "\n",
    "        ax3 = plt.subplot(413)\n",
    "        plt.subplots_adjust(left=0.05, bottom=0.1, right=0.99, \n",
    "                            top=0.95, wspace=None, hspace=0.7)\n",
    "        ax3.plot(_Epoch_ , _Loss_ )\n",
    "        ax3.set_title(msg, fontsize= 20)\n",
    "        _Epoch2_.append(epoch)\n",
    "        _trAUC_.append(trainAUC)\n",
    "        _teAUC_.append(testAUC)\n",
    "        ax4 = plt.subplot(414)\n",
    "        ax4.plot(_Epoch2_ , _trAUC_ , label = \"train auc\")\n",
    "        ax4.plot(_Epoch2_ , _teAUC_ , label = \"test auc\")\n",
    "        ax4.legend()\n",
    "        msg = \"Epoch : {} / AUC | Train : {:.2f} Test : {:.2f}\".format(epoch , \n",
    "                                                               100*trainAUC ,\n",
    "                                                               100*testAUC)\n",
    "        ax4.set_title(msg, fontsize= 20)\n",
    "        plt.savefig(f\"./NNEnsembleResult/h/plot.{epoch:03d}.png\")\n",
    "        plt.show()"
   ]
  },
  {
   "cell_type": "code",
   "execution_count": null,
   "metadata": {},
   "outputs": [],
   "source": []
  },
  {
   "cell_type": "markdown",
   "metadata": {},
   "source": [
    "## Batch Normalization\n",
    "* http://openresearch.ai/t/topic/80\n",
    "* https://stackoverflow.com/questions/43234667/tf-layers-batch-normalization-large-test-error/43276405#43276405\n",
    "* https://stackoverflow.com/questions/47199514/using-batch-normalization-with-dropout-in-test-phase-gives-nan"
   ]
  },
  {
   "cell_type": "code",
   "execution_count": null,
   "metadata": {},
   "outputs": [],
   "source": []
  },
  {
   "cell_type": "code",
   "execution_count": 136,
   "metadata": {},
   "outputs": [
    {
     "data": {
      "text/plain": [
       "Text(0.5, 1.0, '[178] AUC / Train : 86.78 Test : 89.17')"
      ]
     },
     "execution_count": 136,
     "metadata": {},
     "output_type": "execute_result"
    },
    {
     "data": {
      "image/png": "[encoded data removed]",
      "text/plain": [
       "<Figure size 1080x864 with 6 Axes>"
      ]
     },
     "metadata": {
      "needs_background": "light"
     },
     "output_type": "display_data"
    }
   ],
   "source": [
    "fig , axes = plt.subplots(nrows=4 ,ncols=2,\n",
    "                  figsize=(15,12) )\n",
    "plt.subplots_adjust(left=0.05, bottom=0.1, right=0.99, \n",
    "                    top=0.95, wspace=None, hspace=0.3)\n",
    "ax = axes.flatten()\n",
    "sns.boxplot(x=\"t\", y=\"prob\", data=trainDD, ax = ax[0])\n",
    "ax[0].set_title(\"train : {:.3f}\".format(trainAUC), fontsize= 25)\n",
    "sns.boxplot(x=\"t\", y=\"prob\", data=testDD, ax = ax[1])\n",
    "ax[1].set_title(\"test : {:.3f}\".format(testAUC), fontsize= 25)\n",
    "skplt.metrics.plot_ks_statistic(Train_y.values, probs , \n",
    "                                ax = ax[2] , \n",
    "                                title = \"[Train] KS Static PLOT\")\n",
    "skplt.metrics.plot_ks_statistic(Test_y.values, testprobs ,\n",
    "                                ax = ax[3], \n",
    "                                title = \"[Test] KS Static PLOT\")\n",
    "\n",
    "ax3 = plt.subplot(413)\n",
    "plt.subplots_adjust(left=0.05, bottom=0.1, right=0.99, \n",
    "                    top=0.95, wspace=None, hspace=0.5)\n",
    "ax3.plot(_Epoch_ , _Loss_ )\n",
    "ax3.set_title(msg, fontsize= 20)\n",
    "_Epoch2_.append(epoch)\n",
    "_trAUC_.append(100*trainAUC)\n",
    "_teAUC_.append(100*testAUC)\n",
    "ax4 = plt.subplot(414)\n",
    "ax4.plot(_Epoch2_ , _trAUC_ , label = \"train auc\")\n",
    "ax4.plot(_Epoch2_ , _teAUC_ , label = \"test auc\")\n",
    "ax4.legend()\n",
    "msg = \"[{}] AUC / Train : {:.2f} Test : {:.2f}\".format(epoch , \n",
    "                                                       100*trainAUC ,\n",
    "                                                       100*testAUC\n",
    "                                                      )\n",
    "ax4.set_title(msg, fontsize= 20)"
   ]
  },
  {
   "cell_type": "code",
   "execution_count": null,
   "metadata": {},
   "outputs": [],
   "source": [
    "fig , axes = plt.subplots(nrows=3 ,ncols=2,\n",
    "                          figsize=(20,10) )\n",
    "plt.subplots_adjust(left=0.05, bottom=0.01, right=0.99, \n",
    "                    top=0.99, wspace=None, hspace=0.2)\n",
    "ax = axes.flatten()\n",
    "DD = pd.DataFrame([real_target ,probs[:,1]],\n",
    "                          index = [\"t\",\"prob\"]).T\n",
    "sns.boxplot(x=\"t\", y=\"prob\", data=DD , ax = ax[0])\n",
    "ax[0].set_title(\"train : {:.3f}\".format(AUC) , fontsize= 25)\n",
    "sns.boxplot(x=\"t\", y=\"prob\", data=DD , ax = ax[1])\n",
    "ax[1].set_title(\"test : {:.3f}\".format(AUC) , fontsize= 25)\n",
    "skplt.metrics.plot_ks_statistic(Test_y.values[0:100], probs[0:100,:] , \n",
    "                                     ax = ax[2] , title = \"[Train] KS Static PLOT\")\n",
    "skplt.metrics.plot_ks_statistic(Test_y.values[0:100], probs[0:100,:] , ax = ax[3], \n",
    "                                title = \"[Test] KS Static PLOT\"\n",
    "                                    )\n",
    "ax3 = plt.subplot(313)\n",
    "ax3.plot(np.arange(len(_Loss_)), _Loss_ )\n",
    "ax3.set_title(msg, fontsize= 20)\n",
    "plt.show()"
   ]
  }
 ],
 "metadata": {
  "kernelspec": {
   "display_name": "base",
   "language": "python",
   "name": "base"
  },
  "language_info": {
   "codemirror_mode": {
    "name": "ipython",
    "version": 3
   },
   "file_extension": ".py",
   "mimetype": "text/x-python",
   "name": "python",
   "nbconvert_exporter": "python",
   "pygments_lexer": "ipython3",
   "version": "3.6.7"
  }
 },
 "nbformat": 4,
 "nbformat_minor": 2
}
