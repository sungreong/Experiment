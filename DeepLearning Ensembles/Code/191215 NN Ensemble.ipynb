{
 "cells": [
  {
   "cell_type": "code",
   "execution_count": 22,
   "metadata": {},
   "outputs": [],
   "source": [
    "import tensorflow as tf\n",
    "import numpy as np\n",
    "import pandas as pd , sys\n",
    "import matplotlib.pyplot as plt\n",
    "import scikitplot as skplt\n",
    "from IPython.display import clear_output\n",
    "from sklearn.metrics import auc , roc_auc_score\n",
    "sys.path.append(\"/home/advice/Python/SR/Custom/\")\n",
    "from RAdam import RAdamOptimizer\n",
    "import seaborn as sns\n",
    "from sklearn.preprocessing import StandardScaler"
   ]
  },
  {
   "cell_type": "code",
   "execution_count": 23,
   "metadata": {},
   "outputs": [],
   "source": [
    "from tensorflow.contrib.layers import *\n",
    "def get_weight_variable(shape, name=None,\n",
    "                        type='xavier_uniform', regularize=True, **kwargs):\n",
    "    initialise_from_constant = False\n",
    "    if type == 'xavier_uniform':\n",
    "        initial = xavier_initializer(uniform=True, dtype=tf.float32)\n",
    "    elif type == 'xavier_normal':\n",
    "        initial = xavier_initializer(uniform=False, dtype=tf.float32)\n",
    "    elif type == 'he_normal':\n",
    "        initial = variance_scaling_initializer(uniform=False, factor=2.0, mode='FAN_IN', dtype=tf.float32)\n",
    "    elif type == 'he_uniform':\n",
    "        initial = variance_scaling_initializer(uniform=True, factor=2.0, mode='FAN_IN', dtype=tf.float32)\n",
    "    elif type == 'caffe_uniform':\n",
    "        initial = variance_scaling_initializer(uniform=True, factor=1.0, mode='FAN_IN', dtype=tf.float32)\n",
    "    elif type == 'simple':\n",
    "        stddev = kwargs.get('stddev', 0.02)\n",
    "        initial = tf.truncated_normal(shape, stddev=stddev, dtype=tf.float32)\n",
    "        initialise_from_constant = True\n",
    "    elif type == 'bilinear':\n",
    "        weights = _bilinear_upsample_weights(shape)\n",
    "        initial = tf.constant(weights, shape=shape, dtype=tf.float32)\n",
    "        initialise_from_constant = True\n",
    "    else:\n",
    "        raise ValueError('Unknown initialisation requested: %s' % type)\n",
    "\n",
    "    if name is None:  # This keeps to option open to use unnamed Variables\n",
    "        weight = tf.Variable(initial)\n",
    "    else:\n",
    "        if initialise_from_constant:\n",
    "            weight = tf.get_variable(name, initializer=initial)\n",
    "        else:\n",
    "            weight = tf.get_variable(name, shape=shape, initializer=initial)\n",
    "\n",
    "    if regularize:\n",
    "        tf.add_to_collection('weight_variables', weight)\n",
    "    return weight "
   ]
  },
  {
   "cell_type": "code",
   "execution_count": 24,
   "metadata": {},
   "outputs": [],
   "source": [
    "data = pd.read_csv(\"./../Data/DontOverfit/train.csv\")\n",
    "test_data = pd.read_csv(\"./../Data/DontOverfit/test.csv\")\n",
    "__id__ = data.pop(\"id\")"
   ]
  },
  {
   "cell_type": "code",
   "execution_count": 25,
   "metadata": {},
   "outputs": [],
   "source": [
    "target_yy = data.pop(\"target\")\n",
    "target_y = target_yy.values.reshape(-1,1)"
   ]
  },
  {
   "cell_type": "code",
   "execution_count": 26,
   "metadata": {},
   "outputs": [
    {
     "data": {
      "text/plain": [
       "0.0    0.732\n",
       "1.0    0.268\n",
       "Name: target, dtype: float64"
      ]
     },
     "execution_count": 26,
     "metadata": {},
     "output_type": "execute_result"
    }
   ],
   "source": [
    "target_yy.value_counts(normalize = True )"
   ]
  },
  {
   "cell_type": "code",
   "execution_count": 27,
   "metadata": {},
   "outputs": [
    {
     "data": {
      "text/plain": [
       "(250, 300)"
      ]
     },
     "execution_count": 27,
     "metadata": {},
     "output_type": "execute_result"
    }
   ],
   "source": [
    "data.shape"
   ]
  },
  {
   "cell_type": "code",
   "execution_count": 28,
   "metadata": {},
   "outputs": [],
   "source": [
    "target_1_list = target_yy[(target_yy == 1) == True].index.tolist()\n",
    "target_0_list = target_yy[(target_yy == 0) == True].index.tolist()"
   ]
  },
  {
   "cell_type": "code",
   "execution_count": 29,
   "metadata": {},
   "outputs": [
    {
     "name": "stdout",
     "output_type": "stream",
     "text": [
      "[0, 3, 6, 17, 19, 25, 27, 28, 30, 31, 32, 34, 36, 44, 53, 54, 57, 59, 66, 68, 70, 74, 86, 88, 90, 91, 99, 100, 103, 109, 115, 117, 122, 123, 130, 138, 145, 146, 149, 154, 156, 158, 164, 166, 169, 179, 185, 187, 188, 193, 195, 196, 197, 198, 200, 203, 204, 209, 213, 218, 220, 229, 230, 232, 242, 245, 248]\n"
     ]
    }
   ],
   "source": [
    "print(target_1_list)"
   ]
  },
  {
   "cell_type": "code",
   "execution_count": 30,
   "metadata": {},
   "outputs": [
    {
     "name": "stdout",
     "output_type": "stream",
     "text": [
      "[1, 2, 4, 5, 7, 8, 9, 10, 11, 12, 13, 14, 15, 16, 18, 20, 21, 22, 23, 24, 26, 29, 33, 35, 37, 38, 39, 40, 41, 42, 43, 45, 46, 47, 48, 49, 50, 51, 52, 55, 56, 58, 60, 61, 62, 63, 64, 65, 67, 69, 71, 72, 73, 75, 76, 77, 78, 79, 80, 81, 82, 83, 84, 85, 87, 89, 92, 93, 94, 95, 96, 97, 98, 101, 102, 104, 105, 106, 107, 108, 110, 111, 112, 113, 114, 116, 118, 119, 120, 121, 124, 125, 126, 127, 128, 129, 131, 132, 133, 134, 135, 136, 137, 139, 140, 141, 142, 143, 144, 147, 148, 150, 151, 152, 153, 155, 157, 159, 160, 161, 162, 163, 165, 167, 168, 170, 171, 172, 173, 174, 175, 176, 177, 178, 180, 181, 182, 183, 184, 186, 189, 190, 191, 192, 194, 199, 201, 202, 205, 206, 207, 208, 210, 211, 212, 214, 215, 216, 217, 219, 221, 222, 223, 224, 225, 226, 227, 228, 231, 233, 234, 235, 236, 237, 238, 239, 240, 241, 243, 244, 246, 247, 249]\n"
     ]
    }
   ],
   "source": [
    "print(target_0_list)"
   ]
  },
  {
   "cell_type": "markdown",
   "metadata": {},
   "source": [
    "## 앙상블 테스트"
   ]
  },
  {
   "cell_type": "code",
   "execution_count": 31,
   "metadata": {},
   "outputs": [],
   "source": [
    "select = ['243', '29', '35', '299', '219', '32', '59', '133', '150', '127', '103', '199', '78', '77', '74', '23', '267', '264', '14', '152', '177', '54', '215', '93', '52', '162', '176', '76', '220', '159', '297', '94', '185', '140', '115', '108', '95', '198', '34', '130', '137', '240', '18', '49', '141', '260', '17', '50', '161', '104', '57', '63', '214', '56', '62', '201', '53', '48', '80', '277', '247', '261', '258', '287', '119', '284', '12', '100', '135', '33', '273', '167', '225', '279', '216', '292', '75', '69', '268', '276', '90', '223', '106', '281', '92', '112', '3', '128', '111', '20', '250', '192', '269', '60', '190', '84', '205', '251', '91', '270', '191', '136', '160', '182', '68', '180', '99', '290', '66', '79', '25', '11', '142', '8', '27', '193', '282', '30', '202', '7', '203', '31', '58', '253', '43', '244', '246', '126', '224', '262', '121', '172', '125', '265', '0']\n",
    "#sample_dim = np.random.permutation(data.shape[1])[:200]\n",
    "\n",
    "np_data = data.values\n",
    "#[select].values\n",
    "# np_data = StandardScaler().fit_transform(np_data)"
   ]
  },
  {
   "cell_type": "code",
   "execution_count": 32,
   "metadata": {},
   "outputs": [
    {
     "data": {
      "text/plain": [
       "(250, 300)"
      ]
     },
     "execution_count": 32,
     "metadata": {},
     "output_type": "execute_result"
    }
   ],
   "source": [
    "np_data.shape"
   ]
  },
  {
   "cell_type": "code",
   "execution_count": 33,
   "metadata": {},
   "outputs": [
    {
     "name": "stdout",
     "output_type": "stream",
     "text": [
      "250 300\n"
     ]
    }
   ],
   "source": [
    "row , dim = np_data.shape\n",
    "print(row,dim)\n",
    "target_n = 2 \n",
    "tf.reset_default_graph()\n",
    "X = tf.placeholder(tf.float32, shape = [ None , dim])\n",
    "y = tf.placeholder(tf.float32, shape = [ None , 1])\n",
    "DropoutRate = tf.placeholder(tf.float32, name =\"dropoutRate\")\n",
    "training = tf.placeholder_with_default(False, shape=[], name=\"training\")"
   ]
  },
  {
   "cell_type": "code",
   "execution_count": 34,
   "metadata": {},
   "outputs": [],
   "source": [
    "# mod = sys.modules[__name__]\n",
    "# for i in range(10):\n",
    "#     setattr(mod, 'var_{}'.format(i), i)"
   ]
  },
  {
   "cell_type": "code",
   "execution_count": 35,
   "metadata": {},
   "outputs": [],
   "source": [
    "def tf_mish(x) :\n",
    "    return x * tf.nn.tanh(tf.nn.softplus(x))\n",
    "\n",
    "activate_candidate = \\\n",
    "[tf.nn.selu, tf_mish , tf.nn.leaky_relu ]"
   ]
  },
  {
   "cell_type": "code",
   "execution_count": null,
   "metadata": {},
   "outputs": [],
   "source": []
  },
  {
   "cell_type": "code",
   "execution_count": 36,
   "metadata": {},
   "outputs": [],
   "source": [
    "def Classifier(X , hidden = [dim , 250,150,100,50,10 , target_n], \n",
    "               Nensemble = 3 ) :\n",
    "    Ensembles = []\n",
    "    with tf.variable_scope(\"Ensembles\"):\n",
    "        for N in np.arange(Nensemble) :\n",
    "            SELECT = np.random.randint(0 , len(activate_candidate) , 1)[0]\n",
    "            activation = activate_candidate[SELECT]\n",
    "            hidden_N = hidden[N]\n",
    "            for idx in np.arange(len( hidden_N )-1) : \n",
    "                hid = hidden_N[idx]\n",
    "                if (idx+1) < len(hidden_N) :\n",
    "                    w = (variance_scaling_initializer(uniform=False,\n",
    "                                                      factor=2.0, mode='FAN_IN', dtype=tf.float32)\n",
    "                         ((hid ,hidden_N[idx+1])))\n",
    "                    W = tf.Variable(w, name = \"Weight\")\n",
    "                    Bias = tf.Variable(tf.random_normal([hidden_N[idx+1]], stddev = 0.01))\n",
    "                    if idx == 0 :\n",
    "                        dropX = tf.nn.dropout(X , keep_prob = 0.5 , \n",
    "                                              seed = N + 1234 )\n",
    "                        Layer = activation(tf.matmul(dropX , W) + Bias)\n",
    "                        #Layer = tf.contrib.nn.alpha_dropout(Layer , DropoutRate ) \n",
    "                    else :\n",
    "                        if target_n == hidden_N[idx+1] :\n",
    "                            Layer = tf.matmul(Layer , W) + Bias\n",
    "                        else :\n",
    "                            Layer = tf.matmul(Layer , W) + Bias\n",
    "                            Layer = tf.layers.batch_normalization(Layer,\n",
    "                                                                  training= training ,\n",
    "                                                                  momentum = 0.999)\n",
    "                            Layer = activation(Layer)\n",
    "#                             Layer = tf.contrib.nn.alpha_dropout(Layer , DropoutRate ) \n",
    "                else : pass\n",
    "            Ensembles.append(Layer)\n",
    "        #Input = tf.concat(Ensembles, axis=1, name='Inputs')\n",
    "    return Ensembles\n"
   ]
  },
  {
   "cell_type": "code",
   "execution_count": 37,
   "metadata": {},
   "outputs": [],
   "source": [
    "HIDDEN = [[dim , 100 , 50 , 10 ,  target_n] , \n",
    "          [dim , 80 , 25, target_n] ,\n",
    "          [dim , 50 , 10, target_n]\n",
    "         ]\n",
    "NModels = Classifier(X , hidden = HIDDEN , Nensemble= 3)\n",
    "NModels_MEAN = tf.reduce_mean(NModels , axis = 0)\n",
    "Probs = tf.nn.softmax(NModels_MEAN)\n",
    "y_one_hot = tf.one_hot( tf.cast(tf.squeeze(y , axis = 1 ) , tf.int32) , depth=2)"
   ]
  },
  {
   "cell_type": "code",
   "execution_count": 38,
   "metadata": {},
   "outputs": [],
   "source": [
    "from sklearn.utils.class_weight import compute_class_weight\n",
    "y_weight_info = compute_class_weight(class_weight= \"balanced\" , \n",
    "                     classes = np.unique(target_y),\n",
    "                     y= np.squeeze(target_y))\n",
    "weight = tf.constant([ y_weight_info[1] ] ) # "
   ]
  },
  {
   "cell_type": "markdown",
   "metadata": {},
   "source": [
    "## Version1 (Averaging)"
   ]
  },
  {
   "cell_type": "code",
   "execution_count": 41,
   "metadata": {},
   "outputs": [],
   "source": [
    "WCE = tf.nn.weighted_cross_entropy_with_logits(targets = y_one_hot ,\n",
    "                                               logits = NModels_MEAN , \n",
    "                                               pos_weight =  weight)\n",
    "Loss = tf.reduce_mean(WCE)"
   ]
  },
  {
   "cell_type": "markdown",
   "metadata": {},
   "source": [
    "## Version2 (개별)"
   ]
  },
  {
   "cell_type": "code",
   "execution_count": 40,
   "metadata": {},
   "outputs": [],
   "source": [
    "Loss = 0\n",
    "for Model in NModels :\n",
    "    loss = tf.nn.weighted_cross_entropy_with_logits(targets = y_one_hot ,\n",
    "                                                     logits = Model , \n",
    "                                                     pos_weight = weight)\n",
    "    Loss += tf.reduce_mean(loss)\n",
    "Loss /= len(NModels)"
   ]
  },
  {
   "cell_type": "code",
   "execution_count": 42,
   "metadata": {},
   "outputs": [],
   "source": [
    "vars = tf.get_collection(tf.GraphKeys.GLOBAL_VARIABLES,scope=\"Ensembles\")\n",
    "L2 = []\n",
    "import re \n",
    "for v in vars :\n",
    "    if re.search('Weight' , v.name) :\n",
    "        L2.append(tf.nn.l2_loss(v))\n",
    "Loss += tf.add_n(L2)  * 0.001"
   ]
  },
  {
   "cell_type": "code",
   "execution_count": 43,
   "metadata": {},
   "outputs": [],
   "source": [
    "solver = RAdamOptimizer(learning_rate= 1e-4).minimize(Loss ,var_list = vars )"
   ]
  },
  {
   "cell_type": "code",
   "execution_count": 51,
   "metadata": {
    "scrolled": false
   },
   "outputs": [
    {
     "data": {
      "image/png": "[encoded data removed]",
      "text/plain": [
       "<Figure size 432x288 with 1 Axes>"
      ]
     },
     "metadata": {
      "needs_background": "light"
     },
     "output_type": "display_data"
    },
    {
     "data": {
      "image/png": "[encoded data removed]",
      "text/plain": [
       "<Figure size 432x288 with 1 Axes>"
      ]
     },
     "metadata": {
      "needs_background": "light"
     },
     "output_type": "display_data"
    },
    {
     "name": "stdout",
     "output_type": "stream",
     "text": [
      "[[183   0]\n",
      " [  0  67]]\n",
      "Epoch : 2500 , Loss :0.05768, AUC : 100.00\n"
     ]
    },
    {
     "ename": "KeyboardInterrupt",
     "evalue": "",
     "output_type": "error",
     "traceback": [
      "\u001b[0;31m-----------------------------------------------------------\u001b[0m",
      "\u001b[0;31mKeyboardInterrupt\u001b[0m         Traceback (most recent call last)",
      "\u001b[0;32m<ipython-input-51-b0853f83c0ec>\u001b[0m in \u001b[0;36m<module>\u001b[0;34m\u001b[0m\n\u001b[1;32m     33\u001b[0m                 \u001b[0mtraining\u001b[0m \u001b[0;34m:\u001b[0m \u001b[0;32mTrue\u001b[0m\u001b[0;34m\u001b[0m\u001b[0;34m\u001b[0m\u001b[0m\n\u001b[1;32m     34\u001b[0m                }\n\u001b[0;32m---> 35\u001b[0;31m         \u001b[0m_\u001b[0m \u001b[0;34m,\u001b[0m \u001b[0mLOSS\u001b[0m  \u001b[0;34m=\u001b[0m \u001b[0msess\u001b[0m\u001b[0;34m.\u001b[0m\u001b[0mrun\u001b[0m\u001b[0;34m(\u001b[0m\u001b[0;34m[\u001b[0m\u001b[0msolver\u001b[0m \u001b[0;34m,\u001b[0m \u001b[0mLoss\u001b[0m\u001b[0;34m]\u001b[0m \u001b[0;34m,\u001b[0m \u001b[0mfeed_dict\u001b[0m\u001b[0;34m=\u001b[0m \u001b[0mFeed\u001b[0m\u001b[0;34m)\u001b[0m\u001b[0;34m\u001b[0m\u001b[0;34m\u001b[0m\u001b[0m\n\u001b[0m\u001b[1;32m     36\u001b[0m         \u001b[0m_Loss_\u001b[0m\u001b[0;34m.\u001b[0m\u001b[0mappend\u001b[0m\u001b[0;34m(\u001b[0m\u001b[0mLOSS\u001b[0m\u001b[0;34m)\u001b[0m\u001b[0;34m\u001b[0m\u001b[0;34m\u001b[0m\u001b[0m\n\u001b[1;32m     37\u001b[0m \u001b[0;34m\u001b[0m\u001b[0m\n",
      "\u001b[0;32m~/anaconda3/lib/python3.6/site-packages/tensorflow/python/client/session.py\u001b[0m in \u001b[0;36mrun\u001b[0;34m(self, fetches, feed_dict, options, run_metadata)\u001b[0m\n\u001b[1;32m    927\u001b[0m     \u001b[0;32mtry\u001b[0m\u001b[0;34m:\u001b[0m\u001b[0;34m\u001b[0m\u001b[0;34m\u001b[0m\u001b[0m\n\u001b[1;32m    928\u001b[0m       result = self._run(None, fetches, feed_dict, options_ptr,\n\u001b[0;32m--> 929\u001b[0;31m                          run_metadata_ptr)\n\u001b[0m\u001b[1;32m    930\u001b[0m       \u001b[0;32mif\u001b[0m \u001b[0mrun_metadata\u001b[0m\u001b[0;34m:\u001b[0m\u001b[0;34m\u001b[0m\u001b[0;34m\u001b[0m\u001b[0m\n\u001b[1;32m    931\u001b[0m         \u001b[0mproto_data\u001b[0m \u001b[0;34m=\u001b[0m \u001b[0mtf_session\u001b[0m\u001b[0;34m.\u001b[0m\u001b[0mTF_GetBuffer\u001b[0m\u001b[0;34m(\u001b[0m\u001b[0mrun_metadata_ptr\u001b[0m\u001b[0;34m)\u001b[0m\u001b[0;34m\u001b[0m\u001b[0;34m\u001b[0m\u001b[0m\n",
      "\u001b[0;32m~/anaconda3/lib/python3.6/site-packages/tensorflow/python/client/session.py\u001b[0m in \u001b[0;36m_run\u001b[0;34m(self, handle, fetches, feed_dict, options, run_metadata)\u001b[0m\n\u001b[1;32m   1150\u001b[0m     \u001b[0;32mif\u001b[0m \u001b[0mfinal_fetches\u001b[0m \u001b[0;32mor\u001b[0m \u001b[0mfinal_targets\u001b[0m \u001b[0;32mor\u001b[0m \u001b[0;34m(\u001b[0m\u001b[0mhandle\u001b[0m \u001b[0;32mand\u001b[0m \u001b[0mfeed_dict_tensor\u001b[0m\u001b[0;34m)\u001b[0m\u001b[0;34m:\u001b[0m\u001b[0;34m\u001b[0m\u001b[0;34m\u001b[0m\u001b[0m\n\u001b[1;32m   1151\u001b[0m       results = self._do_run(handle, final_targets, final_fetches,\n\u001b[0;32m-> 1152\u001b[0;31m                              feed_dict_tensor, options, run_metadata)\n\u001b[0m\u001b[1;32m   1153\u001b[0m     \u001b[0;32melse\u001b[0m\u001b[0;34m:\u001b[0m\u001b[0;34m\u001b[0m\u001b[0;34m\u001b[0m\u001b[0m\n\u001b[1;32m   1154\u001b[0m       \u001b[0mresults\u001b[0m \u001b[0;34m=\u001b[0m \u001b[0;34m[\u001b[0m\u001b[0;34m]\u001b[0m\u001b[0;34m\u001b[0m\u001b[0;34m\u001b[0m\u001b[0m\n",
      "\u001b[0;32m~/anaconda3/lib/python3.6/site-packages/tensorflow/python/client/session.py\u001b[0m in \u001b[0;36m_do_run\u001b[0;34m(self, handle, target_list, fetch_list, feed_dict, options, run_metadata)\u001b[0m\n\u001b[1;32m   1326\u001b[0m     \u001b[0;32mif\u001b[0m \u001b[0mhandle\u001b[0m \u001b[0;32mis\u001b[0m \u001b[0;32mNone\u001b[0m\u001b[0;34m:\u001b[0m\u001b[0;34m\u001b[0m\u001b[0;34m\u001b[0m\u001b[0m\n\u001b[1;32m   1327\u001b[0m       return self._do_call(_run_fn, feeds, fetches, targets, options,\n\u001b[0;32m-> 1328\u001b[0;31m                            run_metadata)\n\u001b[0m\u001b[1;32m   1329\u001b[0m     \u001b[0;32melse\u001b[0m\u001b[0;34m:\u001b[0m\u001b[0;34m\u001b[0m\u001b[0;34m\u001b[0m\u001b[0m\n\u001b[1;32m   1330\u001b[0m       \u001b[0;32mreturn\u001b[0m \u001b[0mself\u001b[0m\u001b[0;34m.\u001b[0m\u001b[0m_do_call\u001b[0m\u001b[0;34m(\u001b[0m\u001b[0m_prun_fn\u001b[0m\u001b[0;34m,\u001b[0m \u001b[0mhandle\u001b[0m\u001b[0;34m,\u001b[0m \u001b[0mfeeds\u001b[0m\u001b[0;34m,\u001b[0m \u001b[0mfetches\u001b[0m\u001b[0;34m)\u001b[0m\u001b[0;34m\u001b[0m\u001b[0;34m\u001b[0m\u001b[0m\n",
      "\u001b[0;32m~/anaconda3/lib/python3.6/site-packages/tensorflow/python/client/session.py\u001b[0m in \u001b[0;36m_do_call\u001b[0;34m(self, fn, *args)\u001b[0m\n\u001b[1;32m   1332\u001b[0m   \u001b[0;32mdef\u001b[0m \u001b[0m_do_call\u001b[0m\u001b[0;34m(\u001b[0m\u001b[0mself\u001b[0m\u001b[0;34m,\u001b[0m \u001b[0mfn\u001b[0m\u001b[0;34m,\u001b[0m \u001b[0;34m*\u001b[0m\u001b[0margs\u001b[0m\u001b[0;34m)\u001b[0m\u001b[0;34m:\u001b[0m\u001b[0;34m\u001b[0m\u001b[0;34m\u001b[0m\u001b[0m\n\u001b[1;32m   1333\u001b[0m     \u001b[0;32mtry\u001b[0m\u001b[0;34m:\u001b[0m\u001b[0;34m\u001b[0m\u001b[0;34m\u001b[0m\u001b[0m\n\u001b[0;32m-> 1334\u001b[0;31m       \u001b[0;32mreturn\u001b[0m \u001b[0mfn\u001b[0m\u001b[0;34m(\u001b[0m\u001b[0;34m*\u001b[0m\u001b[0margs\u001b[0m\u001b[0;34m)\u001b[0m\u001b[0;34m\u001b[0m\u001b[0;34m\u001b[0m\u001b[0m\n\u001b[0m\u001b[1;32m   1335\u001b[0m     \u001b[0;32mexcept\u001b[0m \u001b[0merrors\u001b[0m\u001b[0;34m.\u001b[0m\u001b[0mOpError\u001b[0m \u001b[0;32mas\u001b[0m \u001b[0me\u001b[0m\u001b[0;34m:\u001b[0m\u001b[0;34m\u001b[0m\u001b[0;34m\u001b[0m\u001b[0m\n\u001b[1;32m   1336\u001b[0m       \u001b[0mmessage\u001b[0m \u001b[0;34m=\u001b[0m \u001b[0mcompat\u001b[0m\u001b[0;34m.\u001b[0m\u001b[0mas_text\u001b[0m\u001b[0;34m(\u001b[0m\u001b[0me\u001b[0m\u001b[0;34m.\u001b[0m\u001b[0mmessage\u001b[0m\u001b[0;34m)\u001b[0m\u001b[0;34m\u001b[0m\u001b[0;34m\u001b[0m\u001b[0m\n",
      "\u001b[0;32m~/anaconda3/lib/python3.6/site-packages/tensorflow/python/client/session.py\u001b[0m in \u001b[0;36m_run_fn\u001b[0;34m(feed_dict, fetch_list, target_list, options, run_metadata)\u001b[0m\n\u001b[1;32m   1317\u001b[0m       \u001b[0mself\u001b[0m\u001b[0;34m.\u001b[0m\u001b[0m_extend_graph\u001b[0m\u001b[0;34m(\u001b[0m\u001b[0;34m)\u001b[0m\u001b[0;34m\u001b[0m\u001b[0;34m\u001b[0m\u001b[0m\n\u001b[1;32m   1318\u001b[0m       return self._call_tf_sessionrun(\n\u001b[0;32m-> 1319\u001b[0;31m           options, feed_dict, fetch_list, target_list, run_metadata)\n\u001b[0m\u001b[1;32m   1320\u001b[0m \u001b[0;34m\u001b[0m\u001b[0m\n\u001b[1;32m   1321\u001b[0m     \u001b[0;32mdef\u001b[0m \u001b[0m_prun_fn\u001b[0m\u001b[0;34m(\u001b[0m\u001b[0mhandle\u001b[0m\u001b[0;34m,\u001b[0m \u001b[0mfeed_dict\u001b[0m\u001b[0;34m,\u001b[0m \u001b[0mfetch_list\u001b[0m\u001b[0;34m)\u001b[0m\u001b[0;34m:\u001b[0m\u001b[0;34m\u001b[0m\u001b[0;34m\u001b[0m\u001b[0m\n",
      "\u001b[0;32m~/anaconda3/lib/python3.6/site-packages/tensorflow/python/client/session.py\u001b[0m in \u001b[0;36m_call_tf_sessionrun\u001b[0;34m(self, options, feed_dict, fetch_list, target_list, run_metadata)\u001b[0m\n\u001b[1;32m   1405\u001b[0m     return tf_session.TF_SessionRun_wrapper(\n\u001b[1;32m   1406\u001b[0m         \u001b[0mself\u001b[0m\u001b[0;34m.\u001b[0m\u001b[0m_session\u001b[0m\u001b[0;34m,\u001b[0m \u001b[0moptions\u001b[0m\u001b[0;34m,\u001b[0m \u001b[0mfeed_dict\u001b[0m\u001b[0;34m,\u001b[0m \u001b[0mfetch_list\u001b[0m\u001b[0;34m,\u001b[0m \u001b[0mtarget_list\u001b[0m\u001b[0;34m,\u001b[0m\u001b[0;34m\u001b[0m\u001b[0;34m\u001b[0m\u001b[0m\n\u001b[0;32m-> 1407\u001b[0;31m         run_metadata)\n\u001b[0m\u001b[1;32m   1408\u001b[0m \u001b[0;34m\u001b[0m\u001b[0m\n\u001b[1;32m   1409\u001b[0m   \u001b[0;32mdef\u001b[0m \u001b[0m_call_tf_sessionprun\u001b[0m\u001b[0;34m(\u001b[0m\u001b[0mself\u001b[0m\u001b[0;34m,\u001b[0m \u001b[0mhandle\u001b[0m\u001b[0;34m,\u001b[0m \u001b[0mfeed_dict\u001b[0m\u001b[0;34m,\u001b[0m \u001b[0mfetch_list\u001b[0m\u001b[0;34m)\u001b[0m\u001b[0;34m:\u001b[0m\u001b[0;34m\u001b[0m\u001b[0;34m\u001b[0m\u001b[0m\n",
      "\u001b[0;31mKeyboardInterrupt\u001b[0m: "
     ]
    }
   ],
   "source": [
    "from sklearn.metrics import confusion_matrix\n",
    "Epoch = 10000\n",
    "mb_size = 50\n",
    "config=tf.ConfigProto(log_device_placement=True)\n",
    "config.gpu_options.allow_growth = True\n",
    "sess = tf.Session(config = config)\n",
    "sess.run(tf.global_variables_initializer())\n",
    "_Loss_ = []\n",
    "print(\"Train\")\n",
    "for epoch in range(Epoch) :\n",
    "    target1 = np.random.choice(target_1_list ,\n",
    "                               len(target_1_list) ,\n",
    "                               replace = False )\n",
    "    target0 = np.random.choice(target_0_list , \n",
    "                               len(target_0_list) ,\n",
    "                               replace = True )\n",
    "    target1 = list(target1)\n",
    "    target0 = list(target0)\n",
    "    if epoch > 0 :\n",
    "        target1 = target1 + checkpoint \n",
    "    XX = np_data[target1 + target0  , : ]\n",
    "    YY = target_y[target1 + target0 , : ]\n",
    "    idx = np.random.permutation(len(XX))\n",
    "    XX = XX[idx , : ]\n",
    "    YY = YY[idx , : ]\n",
    "    batch_iter = int(len(XX) / mb_size)\n",
    "    for idx in range(batch_iter) :\n",
    "        X_mb = XX[idx*mb_size:(idx+1)*mb_size]\n",
    "        Y_mb = YY[idx*mb_size:(idx+1)*mb_size]\n",
    "        Feed = {X : X_mb ,\n",
    "                y : Y_mb , \n",
    "                DropoutRate : 0.1 ,\n",
    "                training : True \n",
    "               }\n",
    "        _ , LOSS  = sess.run([solver , Loss] , feed_dict= Feed)\n",
    "        _Loss_.append(LOSS)\n",
    "    \n",
    "    Feed = { X : np_data  ,\n",
    "            DropoutRate : 1 ,\n",
    "            training : True \n",
    "           }\n",
    "    probs  = sess.run(Probs , feed_dict= Feed)\n",
    "    AUC = roc_auc_score(np.squeeze(target_y) ,  probs[:,1])\n",
    "    DD = pd.DataFrame([np.squeeze(target_y) ,\n",
    "                       np.argmax(probs,axis =1)], index = [\"t\",\"p\"]).T\n",
    "    DD2 = DD[(DD.t == 1) & (DD.p==0)]\n",
    "    checkpoint = DD2.index.tolist()\n",
    "    DD = pd.DataFrame([np.squeeze(target_y) ,probs[:,1]],\n",
    "                      index = [\"t\",\"prob\"]).T\n",
    "    if epoch % 100 == 0 :\n",
    "        print( confusion_matrix(np.squeeze(target_y) , \n",
    "                                np.argmax(probs,axis =1) ))\n",
    "        msg = \"Epoch : {} , Loss :{:.5f}, AUC : {:.2f}\".format(epoch ,\n",
    "                                                                 LOSS ,\n",
    "                                                                 AUC*100)\n",
    "        print(msg)\n",
    "\n",
    "    if epoch % 300 == 0 :\n",
    "        clear_output()\n",
    "        sns.boxplot(x=\"t\", y=\"prob\", data=DD)\n",
    "        plt.show()\n",
    "        plt.plot(np.arange(len(_Loss_)), _Loss_ )\n",
    "        plt.title(msg)\n",
    "        plt.show()"
   ]
  },
  {
   "cell_type": "code",
   "execution_count": 45,
   "metadata": {},
   "outputs": [],
   "source": [
    "test_data.head()\n",
    "__test_id__ = test_data.pop(\"id\")\n",
    "np_test = test_data.values"
   ]
  },
  {
   "cell_type": "code",
   "execution_count": 46,
   "metadata": {},
   "outputs": [],
   "source": [
    "Feed = { X : np_test  ,\n",
    "            DropoutRate : 1 ,\n",
    "            training : True \n",
    "           }\n",
    "probs  = sess.run(Probs , feed_dict= Feed)"
   ]
  },
  {
   "cell_type": "code",
   "execution_count": 47,
   "metadata": {},
   "outputs": [],
   "source": [
    "submission = pd.DataFrame(__test_id__)\n",
    "submission[\"target\"] = np.argmax(probs, axis = 1)"
   ]
  },
  {
   "cell_type": "code",
   "execution_count": 49,
   "metadata": {},
   "outputs": [],
   "source": [
    "submission.to_csv(\"dontovefit_submission2.csv\", index = False)"
   ]
  },
  {
   "cell_type": "code",
   "execution_count": 50,
   "metadata": {},
   "outputs": [
    {
     "data": {
      "text/html": [
       "<div>\n",
       "<style scoped>\n",
       "    .dataframe tbody tr th:only-of-type {\n",
       "        vertical-align: middle;\n",
       "    }\n",
       "\n",
       "    .dataframe tbody tr th {\n",
       "        vertical-align: top;\n",
       "    }\n",
       "\n",
       "    .dataframe thead th {\n",
       "        text-align: right;\n",
       "    }\n",
       "</style>\n",
       "<table border=\"1\" class=\"dataframe\">\n",
       "  <thead>\n",
       "    <tr style=\"text-align: right;\">\n",
       "      <th></th>\n",
       "      <th>id</th>\n",
       "      <th>target</th>\n",
       "    </tr>\n",
       "  </thead>\n",
       "  <tbody>\n",
       "    <tr>\n",
       "      <td>0</td>\n",
       "      <td>250</td>\n",
       "      <td>1</td>\n",
       "    </tr>\n",
       "    <tr>\n",
       "      <td>1</td>\n",
       "      <td>251</td>\n",
       "      <td>1</td>\n",
       "    </tr>\n",
       "    <tr>\n",
       "      <td>2</td>\n",
       "      <td>252</td>\n",
       "      <td>0</td>\n",
       "    </tr>\n",
       "    <tr>\n",
       "      <td>3</td>\n",
       "      <td>253</td>\n",
       "      <td>0</td>\n",
       "    </tr>\n",
       "    <tr>\n",
       "      <td>4</td>\n",
       "      <td>254</td>\n",
       "      <td>1</td>\n",
       "    </tr>\n",
       "  </tbody>\n",
       "</table>\n",
       "</div>"
      ],
      "text/plain": [
       "    id  target\n",
       "0  250       1\n",
       "1  251       1\n",
       "2  252       0\n",
       "3  253       0\n",
       "4  254       1"
      ]
     },
     "execution_count": 50,
     "metadata": {},
     "output_type": "execute_result"
    }
   ],
   "source": [
    "submission.head()"
   ]
  },
  {
   "cell_type": "markdown",
   "metadata": {},
   "source": [
    "## 변수 중요도를 이용한 변수 선택 및 AutoEncoder로 파생 변수 넣어보기 \n",
    "\n",
    "## gradient boosting 알고리즘 참고해보기.."
   ]
  },
  {
   "cell_type": "code",
   "execution_count": 29,
   "metadata": {},
   "outputs": [
    {
     "data": {
      "image/png": "[encoded data removed]",
      "text/plain": [
       "<Figure size 432x288 with 1 Axes>"
      ]
     },
     "metadata": {
      "needs_background": "light"
     },
     "output_type": "display_data"
    }
   ],
   "source": [
    "skplt.metrics.plot_roc(np.squeeze(target_y),\n",
    "                       probs)\n",
    "plt.show()"
   ]
  },
  {
   "cell_type": "code",
   "execution_count": 35,
   "metadata": {},
   "outputs": [
    {
     "name": "stdout",
     "output_type": "stream",
     "text": [
      "[0 0 0 0 0 0 0 0 0 0 0 0 0 0 0 0 0 0 0 0 0 0 0 0 0 0 0 0 0 0 0 0 0 0 0 0 0\n",
      " 0 0 0 0 0 0 0 0 0 0 0 0 0 0 0 0 0 0 0 0 0 0 0 0 0 0 0 0 0 0 0 0 0 0 0 0 0\n",
      " 0 0 0 0 0 0 0 0 0 0 0 0 0 0 0 0 0 0 0 0 0 0 0 0 0 0 0 0 0 0 0 0 0 0 0 0 0\n",
      " 0 0 0 0 0 0 0 0 0 0 0 0 0 0 0 0 0 0 0 0 0 0 0 0 0 0 0 0 0 0 0 0 0 0 0 0 0\n",
      " 0 0 0 0 0 0 0 0 0 0 0 0 0 0 0 0 0 0 0 0 0 0 0 0 0 0 0 0 0 0 0 0 0 0 0 0 0\n",
      " 0 0 0 0 0 0 0 0 0 0 0 0 0 0 0 0 0 0 0 0 0 0 0 0 0 0 0 0 0 0 0 0 0 0 0 0 0\n",
      " 0 0 0 0 0 0 0 0 0 0 0 0 0 0 0 0 0 0 0 0 0 0 0 0 0 0 0 0]\n"
     ]
    },
    {
     "data": {
      "image/png": "[encoded data removed]",
      "text/plain": [
       "<Figure size 432x288 with 2 Axes>"
      ]
     },
     "metadata": {
      "needs_background": "light"
     },
     "output_type": "display_data"
    }
   ],
   "source": [
    "pred  = np.argmax(probs , axis =1 )\n",
    "skplt.metrics.plot_confusion_matrix(np.squeeze(target_y), \n",
    "                                    pred,\n",
    "                                    normalize=True)\n",
    "plt.show()"
   ]
  },
  {
   "cell_type": "code",
   "execution_count": 37,
   "metadata": {},
   "outputs": [
    {
     "data": {
      "image/png": "[encoded data removed]",
      "text/plain": [
       "<Figure size 432x288 with 1 Axes>"
      ]
     },
     "metadata": {
      "needs_background": "light"
     },
     "output_type": "display_data"
    }
   ],
   "source": [
    "skplt.metrics.plot_ks_statistic(np.squeeze(target_y),\n",
    "                                probs )\n",
    "plt.show()"
   ]
  },
  {
   "cell_type": "code",
   "execution_count": 89,
   "metadata": {},
   "outputs": [
    {
     "name": "stdout",
     "output_type": "stream",
     "text": [
      "Checking whether there is an H2O instance running at http://localhost:54321. connected.\n",
      "Warning: Your H2O cluster version is too old (10 months and 26 days)! Please download and install the latest version from http://h2o.ai/download/\n"
     ]
    },
    {
     "data": {
      "text/html": [
       "<div style=\"overflow:auto\"><table style=\"width:50%\"><tr><td>H2O cluster uptime:</td>\n",
       "<td>23 secs</td></tr>\n",
       "<tr><td>H2O cluster timezone:</td>\n",
       "<td>Asia/Seoul</td></tr>\n",
       "<tr><td>H2O data parsing timezone:</td>\n",
       "<td>UTC</td></tr>\n",
       "<tr><td>H2O cluster version:</td>\n",
       "<td>3.22.1.2</td></tr>\n",
       "<tr><td>H2O cluster version age:</td>\n",
       "<td>10 months and 26 days !!!</td></tr>\n",
       "<tr><td>H2O cluster name:</td>\n",
       "<td>H2O_from_python_root_cckef0</td></tr>\n",
       "<tr><td>H2O cluster total nodes:</td>\n",
       "<td>1</td></tr>\n",
       "<tr><td>H2O cluster free memory:</td>\n",
       "<td>26.62 Gb</td></tr>\n",
       "<tr><td>H2O cluster total cores:</td>\n",
       "<td>40</td></tr>\n",
       "<tr><td>H2O cluster allowed cores:</td>\n",
       "<td>10</td></tr>\n",
       "<tr><td>H2O cluster status:</td>\n",
       "<td>locked, healthy</td></tr>\n",
       "<tr><td>H2O connection url:</td>\n",
       "<td>http://localhost:54321</td></tr>\n",
       "<tr><td>H2O connection proxy:</td>\n",
       "<td>None</td></tr>\n",
       "<tr><td>H2O internal security:</td>\n",
       "<td>False</td></tr>\n",
       "<tr><td>H2O API Extensions:</td>\n",
       "<td>XGBoost, Algos, AutoML, Core V3, Core V4</td></tr>\n",
       "<tr><td>Python version:</td>\n",
       "<td>3.6.7 final</td></tr></table></div>"
      ],
      "text/plain": [
       "--------------------------  ----------------------------------------\n",
       "H2O cluster uptime:         23 secs\n",
       "H2O cluster timezone:       Asia/Seoul\n",
       "H2O data parsing timezone:  UTC\n",
       "H2O cluster version:        3.22.1.2\n",
       "H2O cluster version age:    10 months and 26 days !!!\n",
       "H2O cluster name:           H2O_from_python_root_cckef0\n",
       "H2O cluster total nodes:    1\n",
       "H2O cluster free memory:    26.62 Gb\n",
       "H2O cluster total cores:    40\n",
       "H2O cluster allowed cores:  10\n",
       "H2O cluster status:         locked, healthy\n",
       "H2O connection url:         http://localhost:54321\n",
       "H2O connection proxy:\n",
       "H2O internal security:      False\n",
       "H2O API Extensions:         XGBoost, Algos, AutoML, Core V3, Core V4\n",
       "Python version:             3.6.7 final\n",
       "--------------------------  ----------------------------------------"
      ]
     },
     "metadata": {},
     "output_type": "display_data"
    }
   ],
   "source": [
    "import h2o\n",
    "from h2o.estimators import H2OXGBoostEstimator\n",
    "h2o.init(nthreads = 10 )"
   ]
  },
  {
   "cell_type": "code",
   "execution_count": 90,
   "metadata": {},
   "outputs": [
    {
     "data": {
      "text/html": [
       "<div>\n",
       "<style scoped>\n",
       "    .dataframe tbody tr th:only-of-type {\n",
       "        vertical-align: middle;\n",
       "    }\n",
       "\n",
       "    .dataframe tbody tr th {\n",
       "        vertical-align: top;\n",
       "    }\n",
       "\n",
       "    .dataframe thead th {\n",
       "        text-align: right;\n",
       "    }\n",
       "</style>\n",
       "<table border=\"1\" class=\"dataframe\">\n",
       "  <thead>\n",
       "    <tr style=\"text-align: right;\">\n",
       "      <th></th>\n",
       "      <th>key</th>\n",
       "    </tr>\n",
       "  </thead>\n",
       "  <tbody>\n",
       "  </tbody>\n",
       "</table>\n",
       "</div>"
      ],
      "text/plain": [
       "Empty DataFrame\n",
       "Columns: [key]\n",
       "Index: []"
      ]
     },
     "execution_count": 90,
     "metadata": {},
     "output_type": "execute_result"
    }
   ],
   "source": [
    "h2o.remove_all()\n",
    "h2o.ls()"
   ]
  },
  {
   "cell_type": "code",
   "execution_count": 91,
   "metadata": {},
   "outputs": [
    {
     "name": "stdout",
     "output_type": "stream",
     "text": [
      "Parse progress: |█████████████████████████████████████████████████████████| 100%\n"
     ]
    }
   ],
   "source": [
    "h2o_data = h2o.H2OFrame(data)"
   ]
  },
  {
   "cell_type": "code",
   "execution_count": 92,
   "metadata": {},
   "outputs": [
    {
     "name": "stdout",
     "output_type": "stream",
     "text": [
      "Parse progress: |█████████████████████████████████████████████████████████| 100%\n"
     ]
    }
   ],
   "source": [
    "h2o_y = h2o.H2OFrame(target_y)\n",
    "h2o_y = h2o_y.asfactor()"
   ]
  },
  {
   "cell_type": "code",
   "execution_count": 96,
   "metadata": {},
   "outputs": [],
   "source": [
    "df = h2o_data.cbind(h2o_y)\n",
    "train, valid = df.split_frame(seed = 1234, \n",
    "                             destination_frames=[\"train.hex\", \"test.hex\"])\n",
    "xgb = H2OXGBoostEstimator(max_depth = 7 , ntrees = 300 , \n",
    "                          colsample_bytree = 0.9 , learn_rate= 0.001 , \n",
    "                          gamma = 0.0 , sample_rate = 1.0 , \n",
    "                          stopping_rounds = 50, stopping_tolerance = 0.001, \n",
    "                          stopping_metric = \"AUC\", \n",
    "                         )"
   ]
  },
  {
   "cell_type": "code",
   "execution_count": 97,
   "metadata": {},
   "outputs": [],
   "source": [
    "# http://docs.h2o.ai/h2o/latest-stable/h2o-py/docs/_modules/h2o/estimators/xgboost.html\n",
    "# https://github.com/h2oai/h2o-tutorials/blob/master/best-practices/categorical-predictors/gbm_drf.ipynb\n",
    "# https://towardsdatascience.com/fine-tuning-xgboost-in-python-like-a-boss-b4543ed8b1e"
   ]
  },
  {
   "cell_type": "code",
   "execution_count": 41,
   "metadata": {},
   "outputs": [],
   "source": []
  },
  {
   "cell_type": "code",
   "execution_count": 45,
   "metadata": {},
   "outputs": [],
   "source": []
  },
  {
   "cell_type": "code",
   "execution_count": null,
   "metadata": {},
   "outputs": [],
   "source": []
  },
  {
   "cell_type": "code",
   "execution_count": 98,
   "metadata": {},
   "outputs": [
    {
     "name": "stdout",
     "output_type": "stream",
     "text": [
      "xgboost Model Build progress: |███████████████████████████████████████████| 100%\n"
     ]
    }
   ],
   "source": [
    "xgb.train(x= h2o_data.col_names ,\n",
    "          y = h2o_y.col_names[0] ,\n",
    "          training_frame= train ,\n",
    "          validation_frame = valid ,\n",
    "         )"
   ]
  },
  {
   "cell_type": "code",
   "execution_count": 99,
   "metadata": {},
   "outputs": [
    {
     "data": {
      "image/png": "[encoded data removed]",
      "text/plain": [
       "<Figure size 432x288 with 1 Axes>"
      ]
     },
     "metadata": {
      "needs_background": "light"
     },
     "output_type": "display_data"
    }
   ],
   "source": [
    "xgb.plot()"
   ]
  },
  {
   "cell_type": "code",
   "execution_count": 100,
   "metadata": {},
   "outputs": [
    {
     "name": "stdout",
     "output_type": "stream",
     "text": [
      "\n",
      "ModelMetricsBinomial: xgboost\n",
      "** Reported on train data. **\n",
      "\n",
      "MSE: 0.17137135004997153\n",
      "RMSE: 0.4139702284584865\n",
      "LogLoss: 0.5339180751316165\n",
      "Mean Per-Class Error: 0.0036231884057971175\n",
      "AUC: 0.999860646599777\n",
      "pr_auc: 0.9804028971753935\n",
      "Gini: 0.999721293199554\n",
      "Confusion Matrix (Act/Pred) for max f1 @ threshold = 0.4584940969944: \n"
     ]
    },
    {
     "data": {
      "text/html": [
       "<div style=\"overflow:auto\"><table style=\"width:50%\"><tr><td><b></b></td>\n",
       "<td><b>0</b></td>\n",
       "<td><b>1</b></td>\n",
       "<td><b>Error</b></td>\n",
       "<td><b>Rate</b></td></tr>\n",
       "<tr><td>0</td>\n",
       "<td>137.0</td>\n",
       "<td>1.0</td>\n",
       "<td>0.0072</td>\n",
       "<td> (1.0/138.0)</td></tr>\n",
       "<tr><td>1</td>\n",
       "<td>0.0</td>\n",
       "<td>52.0</td>\n",
       "<td>0.0</td>\n",
       "<td> (0.0/52.0)</td></tr>\n",
       "<tr><td>Total</td>\n",
       "<td>137.0</td>\n",
       "<td>53.0</td>\n",
       "<td>0.0053</td>\n",
       "<td> (1.0/190.0)</td></tr></table></div>"
      ],
      "text/plain": [
       "       0    1    Error    Rate\n",
       "-----  ---  ---  -------  -----------\n",
       "0      137  1    0.0072   (1.0/138.0)\n",
       "1      0    52   0        (0.0/52.0)\n",
       "Total  137  53   0.0053   (1.0/190.0)"
      ]
     },
     "metadata": {},
     "output_type": "display_data"
    },
    {
     "name": "stdout",
     "output_type": "stream",
     "text": [
      "Maximum Metrics: Maximum metrics at their respective thresholds\n",
      "\n"
     ]
    },
    {
     "data": {
      "text/html": [
       "<div style=\"overflow:auto\"><table style=\"width:50%\"><tr><td><b>metric</b></td>\n",
       "<td><b>threshold</b></td>\n",
       "<td><b>value</b></td>\n",
       "<td><b>idx</b></td></tr>\n",
       "<tr><td>max f1</td>\n",
       "<td>0.4584941</td>\n",
       "<td>0.9904762</td>\n",
       "<td>52.0</td></tr>\n",
       "<tr><td>max f2</td>\n",
       "<td>0.4584941</td>\n",
       "<td>0.9961686</td>\n",
       "<td>52.0</td></tr>\n",
       "<tr><td>max f0point5</td>\n",
       "<td>0.4980001</td>\n",
       "<td>0.9960937</td>\n",
       "<td>50.0</td></tr>\n",
       "<tr><td>max accuracy</td>\n",
       "<td>0.4980001</td>\n",
       "<td>0.9947368</td>\n",
       "<td>50.0</td></tr>\n",
       "<tr><td>max precision</td>\n",
       "<td>0.6040001</td>\n",
       "<td>1.0</td>\n",
       "<td>0.0</td></tr>\n",
       "<tr><td>max recall</td>\n",
       "<td>0.4584941</td>\n",
       "<td>1.0</td>\n",
       "<td>52.0</td></tr>\n",
       "<tr><td>max specificity</td>\n",
       "<td>0.6040001</td>\n",
       "<td>1.0</td>\n",
       "<td>0.0</td></tr>\n",
       "<tr><td>max absolute_mcc</td>\n",
       "<td>0.4584941</td>\n",
       "<td>0.9869257</td>\n",
       "<td>52.0</td></tr>\n",
       "<tr><td>max min_per_class_accuracy</td>\n",
       "<td>0.4584941</td>\n",
       "<td>0.9927536</td>\n",
       "<td>52.0</td></tr>\n",
       "<tr><td>max mean_per_class_accuracy</td>\n",
       "<td>0.4584941</td>\n",
       "<td>0.9963768</td>\n",
       "<td>52.0</td></tr></table></div>"
      ],
      "text/plain": [
       "metric                       threshold    value     idx\n",
       "---------------------------  -----------  --------  -----\n",
       "max f1                       0.458494     0.990476  52\n",
       "max f2                       0.458494     0.996169  52\n",
       "max f0point5                 0.498        0.996094  50\n",
       "max accuracy                 0.498        0.994737  50\n",
       "max precision                0.604        1         0\n",
       "max recall                   0.458494     1         52\n",
       "max specificity              0.604        1         0\n",
       "max absolute_mcc             0.458494     0.986926  52\n",
       "max min_per_class_accuracy   0.458494     0.992754  52\n",
       "max mean_per_class_accuracy  0.458494     0.996377  52"
      ]
     },
     "metadata": {},
     "output_type": "display_data"
    },
    {
     "name": "stdout",
     "output_type": "stream",
     "text": [
      "Gains/Lift Table: Avg response rate: 27.37 %, avg score: 44.29 %\n",
      "\n"
     ]
    },
    {
     "data": {
      "text/html": [
       "<div style=\"overflow:auto\"><table style=\"width:50%\"><tr><td><b></b></td>\n",
       "<td><b>group</b></td>\n",
       "<td><b>cumulative_data_fraction</b></td>\n",
       "<td><b>lower_threshold</b></td>\n",
       "<td><b>lift</b></td>\n",
       "<td><b>cumulative_lift</b></td>\n",
       "<td><b>response_rate</b></td>\n",
       "<td><b>score</b></td>\n",
       "<td><b>cumulative_response_rate</b></td>\n",
       "<td><b>cumulative_score</b></td>\n",
       "<td><b>capture_rate</b></td>\n",
       "<td><b>cumulative_capture_rate</b></td>\n",
       "<td><b>gain</b></td>\n",
       "<td><b>cumulative_gain</b></td></tr>\n",
       "<tr><td></td>\n",
       "<td>1</td>\n",
       "<td>0.0105263</td>\n",
       "<td>0.5948251</td>\n",
       "<td>3.6538462</td>\n",
       "<td>3.6538462</td>\n",
       "<td>1.0</td>\n",
       "<td>0.5995193</td>\n",
       "<td>1.0</td>\n",
       "<td>0.5995193</td>\n",
       "<td>0.0384615</td>\n",
       "<td>0.0384615</td>\n",
       "<td>265.3846154</td>\n",
       "<td>265.3846154</td></tr>\n",
       "<tr><td></td>\n",
       "<td>2</td>\n",
       "<td>0.0210526</td>\n",
       "<td>0.5919032</td>\n",
       "<td>3.6538462</td>\n",
       "<td>3.6538462</td>\n",
       "<td>1.0</td>\n",
       "<td>0.5940889</td>\n",
       "<td>1.0</td>\n",
       "<td>0.5968041</td>\n",
       "<td>0.0384615</td>\n",
       "<td>0.0769231</td>\n",
       "<td>265.3846154</td>\n",
       "<td>265.3846154</td></tr>\n",
       "<tr><td></td>\n",
       "<td>3</td>\n",
       "<td>0.0315789</td>\n",
       "<td>0.5850073</td>\n",
       "<td>3.6538462</td>\n",
       "<td>3.6538462</td>\n",
       "<td>1.0</td>\n",
       "<td>0.5884565</td>\n",
       "<td>1.0</td>\n",
       "<td>0.5940215</td>\n",
       "<td>0.0384615</td>\n",
       "<td>0.1153846</td>\n",
       "<td>265.3846154</td>\n",
       "<td>265.3846154</td></tr>\n",
       "<tr><td></td>\n",
       "<td>4</td>\n",
       "<td>0.0421053</td>\n",
       "<td>0.5826264</td>\n",
       "<td>3.6538462</td>\n",
       "<td>3.6538462</td>\n",
       "<td>1.0</td>\n",
       "<td>0.5846617</td>\n",
       "<td>1.0</td>\n",
       "<td>0.5916816</td>\n",
       "<td>0.0384615</td>\n",
       "<td>0.1538462</td>\n",
       "<td>265.3846154</td>\n",
       "<td>265.3846154</td></tr>\n",
       "<tr><td></td>\n",
       "<td>5</td>\n",
       "<td>0.0526316</td>\n",
       "<td>0.5770178</td>\n",
       "<td>3.6538462</td>\n",
       "<td>3.6538462</td>\n",
       "<td>1.0</td>\n",
       "<td>0.5790797</td>\n",
       "<td>1.0</td>\n",
       "<td>0.5891612</td>\n",
       "<td>0.0384615</td>\n",
       "<td>0.1923077</td>\n",
       "<td>265.3846154</td>\n",
       "<td>265.3846154</td></tr>\n",
       "<tr><td></td>\n",
       "<td>6</td>\n",
       "<td>0.1</td>\n",
       "<td>0.5706316</td>\n",
       "<td>3.6538462</td>\n",
       "<td>3.6538462</td>\n",
       "<td>1.0</td>\n",
       "<td>0.5737290</td>\n",
       "<td>1.0</td>\n",
       "<td>0.5818512</td>\n",
       "<td>0.1730769</td>\n",
       "<td>0.3653846</td>\n",
       "<td>265.3846154</td>\n",
       "<td>265.3846154</td></tr>\n",
       "<tr><td></td>\n",
       "<td>7</td>\n",
       "<td>0.1526316</td>\n",
       "<td>0.5586152</td>\n",
       "<td>3.6538462</td>\n",
       "<td>3.6538462</td>\n",
       "<td>1.0</td>\n",
       "<td>0.5661587</td>\n",
       "<td>1.0</td>\n",
       "<td>0.5764400</td>\n",
       "<td>0.1923077</td>\n",
       "<td>0.5576923</td>\n",
       "<td>265.3846154</td>\n",
       "<td>265.3846154</td></tr>\n",
       "<tr><td></td>\n",
       "<td>8</td>\n",
       "<td>0.2</td>\n",
       "<td>0.5377676</td>\n",
       "<td>3.6538462</td>\n",
       "<td>3.6538462</td>\n",
       "<td>1.0</td>\n",
       "<td>0.5486896</td>\n",
       "<td>1.0</td>\n",
       "<td>0.5698676</td>\n",
       "<td>0.1730769</td>\n",
       "<td>0.7307692</td>\n",
       "<td>265.3846154</td>\n",
       "<td>265.3846154</td></tr>\n",
       "<tr><td></td>\n",
       "<td>9</td>\n",
       "<td>0.3</td>\n",
       "<td>0.4426871</td>\n",
       "<td>2.6923077</td>\n",
       "<td>3.3333333</td>\n",
       "<td>0.7368421</td>\n",
       "<td>0.4964944</td>\n",
       "<td>0.9122807</td>\n",
       "<td>0.5454098</td>\n",
       "<td>0.2692308</td>\n",
       "<td>1.0</td>\n",
       "<td>169.2307692</td>\n",
       "<td>233.3333333</td></tr>\n",
       "<tr><td></td>\n",
       "<td>10</td>\n",
       "<td>0.4</td>\n",
       "<td>0.4164131</td>\n",
       "<td>0.0</td>\n",
       "<td>2.5</td>\n",
       "<td>0.0</td>\n",
       "<td>0.4280768</td>\n",
       "<td>0.6842105</td>\n",
       "<td>0.5160766</td>\n",
       "<td>0.0</td>\n",
       "<td>1.0</td>\n",
       "<td>-100.0</td>\n",
       "<td>150.0</td></tr>\n",
       "<tr><td></td>\n",
       "<td>11</td>\n",
       "<td>0.5</td>\n",
       "<td>0.4055949</td>\n",
       "<td>0.0</td>\n",
       "<td>2.0</td>\n",
       "<td>0.0</td>\n",
       "<td>0.4108945</td>\n",
       "<td>0.5473684</td>\n",
       "<td>0.4950402</td>\n",
       "<td>0.0</td>\n",
       "<td>1.0</td>\n",
       "<td>-100.0</td>\n",
       "<td>100.0</td></tr>\n",
       "<tr><td></td>\n",
       "<td>12</td>\n",
       "<td>0.6</td>\n",
       "<td>0.3983102</td>\n",
       "<td>0.0</td>\n",
       "<td>1.6666667</td>\n",
       "<td>0.0</td>\n",
       "<td>0.4018419</td>\n",
       "<td>0.4561404</td>\n",
       "<td>0.4795071</td>\n",
       "<td>0.0</td>\n",
       "<td>1.0</td>\n",
       "<td>-100.0</td>\n",
       "<td>66.6666667</td></tr>\n",
       "<tr><td></td>\n",
       "<td>13</td>\n",
       "<td>0.7</td>\n",
       "<td>0.3911275</td>\n",
       "<td>0.0</td>\n",
       "<td>1.4285714</td>\n",
       "<td>0.0</td>\n",
       "<td>0.3948115</td>\n",
       "<td>0.3909774</td>\n",
       "<td>0.4674077</td>\n",
       "<td>0.0</td>\n",
       "<td>1.0</td>\n",
       "<td>-100.0</td>\n",
       "<td>42.8571429</td></tr>\n",
       "<tr><td></td>\n",
       "<td>14</td>\n",
       "<td>0.8</td>\n",
       "<td>0.3874359</td>\n",
       "<td>0.0</td>\n",
       "<td>1.25</td>\n",
       "<td>0.0</td>\n",
       "<td>0.3894176</td>\n",
       "<td>0.3421053</td>\n",
       "<td>0.4576590</td>\n",
       "<td>0.0</td>\n",
       "<td>1.0</td>\n",
       "<td>-100.0</td>\n",
       "<td>25.0</td></tr>\n",
       "<tr><td></td>\n",
       "<td>15</td>\n",
       "<td>0.9</td>\n",
       "<td>0.3837549</td>\n",
       "<td>0.0</td>\n",
       "<td>1.1111111</td>\n",
       "<td>0.0</td>\n",
       "<td>0.3855734</td>\n",
       "<td>0.3040936</td>\n",
       "<td>0.4496495</td>\n",
       "<td>0.0</td>\n",
       "<td>1.0</td>\n",
       "<td>-100.0</td>\n",
       "<td>11.1111111</td></tr>\n",
       "<tr><td></td>\n",
       "<td>16</td>\n",
       "<td>1.0</td>\n",
       "<td>0.3794830</td>\n",
       "<td>0.0</td>\n",
       "<td>1.0</td>\n",
       "<td>0.0</td>\n",
       "<td>0.3817831</td>\n",
       "<td>0.2736842</td>\n",
       "<td>0.4428628</td>\n",
       "<td>0.0</td>\n",
       "<td>1.0</td>\n",
       "<td>-100.0</td>\n",
       "<td>0.0</td></tr></table></div>"
      ],
      "text/plain": [
       "    group    cumulative_data_fraction    lower_threshold    lift     cumulative_lift    response_rate    score     cumulative_response_rate    cumulative_score    capture_rate    cumulative_capture_rate    gain     cumulative_gain\n",
       "--  -------  --------------------------  -----------------  -------  -----------------  ---------------  --------  --------------------------  ------------------  --------------  -------------------------  -------  -----------------\n",
       "    1        0.0105263                   0.594825           3.65385  3.65385            1                0.599519  1                           0.599519            0.0384615       0.0384615                  265.385  265.385\n",
       "    2        0.0210526                   0.591903           3.65385  3.65385            1                0.594089  1                           0.596804            0.0384615       0.0769231                  265.385  265.385\n",
       "    3        0.0315789                   0.585007           3.65385  3.65385            1                0.588456  1                           0.594022            0.0384615       0.115385                   265.385  265.385\n",
       "    4        0.0421053                   0.582626           3.65385  3.65385            1                0.584662  1                           0.591682            0.0384615       0.153846                   265.385  265.385\n",
       "    5        0.0526316                   0.577018           3.65385  3.65385            1                0.57908   1                           0.589161            0.0384615       0.192308                   265.385  265.385\n",
       "    6        0.1                         0.570632           3.65385  3.65385            1                0.573729  1                           0.581851            0.173077        0.365385                   265.385  265.385\n",
       "    7        0.152632                    0.558615           3.65385  3.65385            1                0.566159  1                           0.57644             0.192308        0.557692                   265.385  265.385\n",
       "    8        0.2                         0.537768           3.65385  3.65385            1                0.54869   1                           0.569868            0.173077        0.730769                   265.385  265.385\n",
       "    9        0.3                         0.442687           2.69231  3.33333            0.736842         0.496494  0.912281                    0.54541             0.269231        1                          169.231  233.333\n",
       "    10       0.4                         0.416413           0        2.5                0                0.428077  0.684211                    0.516077            0               1                          -100     150\n",
       "    11       0.5                         0.405595           0        2                  0                0.410895  0.547368                    0.49504             0               1                          -100     100\n",
       "    12       0.6                         0.39831            0        1.66667            0                0.401842  0.45614                     0.479507            0               1                          -100     66.6667\n",
       "    13       0.7                         0.391127           0        1.42857            0                0.394811  0.390977                    0.467408            0               1                          -100     42.8571\n",
       "    14       0.8                         0.387436           0        1.25               0                0.389418  0.342105                    0.457659            0               1                          -100     25\n",
       "    15       0.9                         0.383755           0        1.11111            0                0.385573  0.304094                    0.449649            0               1                          -100     11.1111\n",
       "    16       1                           0.379483           0        1                  0                0.381783  0.273684                    0.442863            0               1                          -100     0"
      ]
     },
     "metadata": {},
     "output_type": "display_data"
    },
    {
     "name": "stdout",
     "output_type": "stream",
     "text": [
      "\n"
     ]
    },
    {
     "data": {
      "text/plain": []
     },
     "execution_count": 100,
     "metadata": {},
     "output_type": "execute_result"
    }
   ],
   "source": [
    "xgb.model_performance(train = True )"
   ]
  },
  {
   "cell_type": "code",
   "execution_count": 101,
   "metadata": {},
   "outputs": [
    {
     "name": "stdout",
     "output_type": "stream",
     "text": [
      "\n",
      "ModelMetricsBinomial: xgboost\n",
      "** Reported on validation data. **\n",
      "\n",
      "MSE: 0.22042639978281522\n",
      "RMSE: 0.4694958996443049\n",
      "LogLoss: 0.6333331148000774\n",
      "Mean Per-Class Error: 0.38888888888888884\n",
      "AUC: 0.5629629629629629\n",
      "pr_auc: 0.3040824550798613\n",
      "Gini: 0.12592592592592577\n",
      "Confusion Matrix (Act/Pred) for max f1 @ threshold = 0.3959825038909912: \n"
     ]
    },
    {
     "data": {
      "text/html": [
       "<div style=\"overflow:auto\"><table style=\"width:50%\"><tr><td><b></b></td>\n",
       "<td><b>0</b></td>\n",
       "<td><b>1</b></td>\n",
       "<td><b>Error</b></td>\n",
       "<td><b>Rate</b></td></tr>\n",
       "<tr><td>0</td>\n",
       "<td>13.0</td>\n",
       "<td>32.0</td>\n",
       "<td>0.7111</td>\n",
       "<td> (32.0/45.0)</td></tr>\n",
       "<tr><td>1</td>\n",
       "<td>1.0</td>\n",
       "<td>14.0</td>\n",
       "<td>0.0667</td>\n",
       "<td> (1.0/15.0)</td></tr>\n",
       "<tr><td>Total</td>\n",
       "<td>14.0</td>\n",
       "<td>46.0</td>\n",
       "<td>0.55</td>\n",
       "<td> (33.0/60.0)</td></tr></table></div>"
      ],
      "text/plain": [
       "       0    1    Error    Rate\n",
       "-----  ---  ---  -------  -----------\n",
       "0      13   32   0.7111   (32.0/45.0)\n",
       "1      1    14   0.0667   (1.0/15.0)\n",
       "Total  14   46   0.55     (33.0/60.0)"
      ]
     },
     "metadata": {},
     "output_type": "display_data"
    },
    {
     "name": "stdout",
     "output_type": "stream",
     "text": [
      "Maximum Metrics: Maximum metrics at their respective thresholds\n",
      "\n"
     ]
    },
    {
     "data": {
      "text/html": [
       "<div style=\"overflow:auto\"><table style=\"width:50%\"><tr><td><b>metric</b></td>\n",
       "<td><b>threshold</b></td>\n",
       "<td><b>value</b></td>\n",
       "<td><b>idx</b></td></tr>\n",
       "<tr><td>max f1</td>\n",
       "<td>0.3959825</td>\n",
       "<td>0.4590164</td>\n",
       "<td>45.0</td></tr>\n",
       "<tr><td>max f2</td>\n",
       "<td>0.3959825</td>\n",
       "<td>0.6603774</td>\n",
       "<td>45.0</td></tr>\n",
       "<tr><td>max f0point5</td>\n",
       "<td>0.4806994</td>\n",
       "<td>0.3968254</td>\n",
       "<td>11.0</td></tr>\n",
       "<tr><td>max accuracy</td>\n",
       "<td>0.5112829</td>\n",
       "<td>0.7666667</td>\n",
       "<td>2.0</td></tr>\n",
       "<tr><td>max precision</td>\n",
       "<td>0.5112829</td>\n",
       "<td>0.6666667</td>\n",
       "<td>2.0</td></tr>\n",
       "<tr><td>max recall</td>\n",
       "<td>0.3865817</td>\n",
       "<td>1.0</td>\n",
       "<td>55.0</td></tr>\n",
       "<tr><td>max specificity</td>\n",
       "<td>0.5532895</td>\n",
       "<td>0.9777778</td>\n",
       "<td>0.0</td></tr>\n",
       "<tr><td>max absolute_mcc</td>\n",
       "<td>0.3959825</td>\n",
       "<td>0.2275079</td>\n",
       "<td>45.0</td></tr>\n",
       "<tr><td>max min_per_class_accuracy</td>\n",
       "<td>0.4188367</td>\n",
       "<td>0.5111111</td>\n",
       "<td>29.0</td></tr>\n",
       "<tr><td>max mean_per_class_accuracy</td>\n",
       "<td>0.3959825</td>\n",
       "<td>0.6111111</td>\n",
       "<td>45.0</td></tr></table></div>"
      ],
      "text/plain": [
       "metric                       threshold    value     idx\n",
       "---------------------------  -----------  --------  -----\n",
       "max f1                       0.395983     0.459016  45\n",
       "max f2                       0.395983     0.660377  45\n",
       "max f0point5                 0.480699     0.396825  11\n",
       "max accuracy                 0.511283     0.766667  2\n",
       "max precision                0.511283     0.666667  2\n",
       "max recall                   0.386582     1         55\n",
       "max specificity              0.553289     0.977778  0\n",
       "max absolute_mcc             0.395983     0.227508  45\n",
       "max min_per_class_accuracy   0.418837     0.511111  29\n",
       "max mean_per_class_accuracy  0.395983     0.611111  45"
      ]
     },
     "metadata": {},
     "output_type": "display_data"
    },
    {
     "name": "stdout",
     "output_type": "stream",
     "text": [
      "Gains/Lift Table: Avg response rate: 25.00 %, avg score: 43.44 %\n",
      "\n"
     ]
    },
    {
     "data": {
      "text/html": [
       "<div style=\"overflow:auto\"><table style=\"width:50%\"><tr><td><b></b></td>\n",
       "<td><b>group</b></td>\n",
       "<td><b>cumulative_data_fraction</b></td>\n",
       "<td><b>lower_threshold</b></td>\n",
       "<td><b>lift</b></td>\n",
       "<td><b>cumulative_lift</b></td>\n",
       "<td><b>response_rate</b></td>\n",
       "<td><b>score</b></td>\n",
       "<td><b>cumulative_response_rate</b></td>\n",
       "<td><b>cumulative_score</b></td>\n",
       "<td><b>capture_rate</b></td>\n",
       "<td><b>cumulative_capture_rate</b></td>\n",
       "<td><b>gain</b></td>\n",
       "<td><b>cumulative_gain</b></td></tr>\n",
       "<tr><td></td>\n",
       "<td>1</td>\n",
       "<td>0.0166667</td>\n",
       "<td>0.5427096</td>\n",
       "<td>0.0</td>\n",
       "<td>0.0</td>\n",
       "<td>0.0</td>\n",
       "<td>0.5532895</td>\n",
       "<td>0.0</td>\n",
       "<td>0.5532895</td>\n",
       "<td>0.0</td>\n",
       "<td>0.0</td>\n",
       "<td>-100.0</td>\n",
       "<td>-100.0</td></tr>\n",
       "<tr><td></td>\n",
       "<td>2</td>\n",
       "<td>0.0333333</td>\n",
       "<td>0.5310241</td>\n",
       "<td>4.0</td>\n",
       "<td>2.0</td>\n",
       "<td>1.0</td>\n",
       "<td>0.5353575</td>\n",
       "<td>0.5</td>\n",
       "<td>0.5443235</td>\n",
       "<td>0.0666667</td>\n",
       "<td>0.0666667</td>\n",
       "<td>300.0</td>\n",
       "<td>100.0</td></tr>\n",
       "<tr><td></td>\n",
       "<td>3</td>\n",
       "<td>0.0333333</td>\n",
       "<td>0.5168201</td>\n",
       "<td>0.0</td>\n",
       "<td>2.0</td>\n",
       "<td>0.0</td>\n",
       "<td>0.0</td>\n",
       "<td>0.5</td>\n",
       "<td>0.5443235</td>\n",
       "<td>0.0</td>\n",
       "<td>0.0666667</td>\n",
       "<td>-100.0</td>\n",
       "<td>100.0</td></tr>\n",
       "<tr><td></td>\n",
       "<td>4</td>\n",
       "<td>0.05</td>\n",
       "<td>0.5106337</td>\n",
       "<td>4.0</td>\n",
       "<td>2.6666667</td>\n",
       "<td>1.0</td>\n",
       "<td>0.5112829</td>\n",
       "<td>0.6666667</td>\n",
       "<td>0.5333100</td>\n",
       "<td>0.0666667</td>\n",
       "<td>0.1333333</td>\n",
       "<td>300.0</td>\n",
       "<td>166.6666667</td></tr>\n",
       "<tr><td></td>\n",
       "<td>5</td>\n",
       "<td>0.05</td>\n",
       "<td>0.5095698</td>\n",
       "<td>0.0</td>\n",
       "<td>2.6666667</td>\n",
       "<td>0.0</td>\n",
       "<td>0.0</td>\n",
       "<td>0.6666667</td>\n",
       "<td>0.5333100</td>\n",
       "<td>0.0</td>\n",
       "<td>0.1333333</td>\n",
       "<td>-100.0</td>\n",
       "<td>166.6666667</td></tr>\n",
       "<tr><td></td>\n",
       "<td>6</td>\n",
       "<td>0.1</td>\n",
       "<td>0.4990013</td>\n",
       "<td>0.0</td>\n",
       "<td>1.3333333</td>\n",
       "<td>0.0</td>\n",
       "<td>0.5041822</td>\n",
       "<td>0.3333333</td>\n",
       "<td>0.5187461</td>\n",
       "<td>0.0</td>\n",
       "<td>0.1333333</td>\n",
       "<td>-100.0</td>\n",
       "<td>33.3333333</td></tr>\n",
       "<tr><td></td>\n",
       "<td>7</td>\n",
       "<td>0.15</td>\n",
       "<td>0.4912541</td>\n",
       "<td>1.3333333</td>\n",
       "<td>1.3333333</td>\n",
       "<td>0.3333333</td>\n",
       "<td>0.4950066</td>\n",
       "<td>0.3333333</td>\n",
       "<td>0.5108329</td>\n",
       "<td>0.0666667</td>\n",
       "<td>0.2</td>\n",
       "<td>33.3333333</td>\n",
       "<td>33.3333333</td></tr>\n",
       "<tr><td></td>\n",
       "<td>8</td>\n",
       "<td>0.2</td>\n",
       "<td>0.4777059</td>\n",
       "<td>2.6666667</td>\n",
       "<td>1.6666667</td>\n",
       "<td>0.6666667</td>\n",
       "<td>0.4868118</td>\n",
       "<td>0.4166667</td>\n",
       "<td>0.5048277</td>\n",
       "<td>0.1333333</td>\n",
       "<td>0.3333333</td>\n",
       "<td>166.6666667</td>\n",
       "<td>66.6666667</td></tr>\n",
       "<tr><td></td>\n",
       "<td>9</td>\n",
       "<td>0.3</td>\n",
       "<td>0.4582327</td>\n",
       "<td>0.0</td>\n",
       "<td>1.1111111</td>\n",
       "<td>0.0</td>\n",
       "<td>0.4667884</td>\n",
       "<td>0.2777778</td>\n",
       "<td>0.4921479</td>\n",
       "<td>0.0</td>\n",
       "<td>0.3333333</td>\n",
       "<td>-100.0</td>\n",
       "<td>11.1111111</td></tr>\n",
       "<tr><td></td>\n",
       "<td>10</td>\n",
       "<td>0.4</td>\n",
       "<td>0.4363998</td>\n",
       "<td>0.6666667</td>\n",
       "<td>1.0</td>\n",
       "<td>0.1666667</td>\n",
       "<td>0.4500237</td>\n",
       "<td>0.25</td>\n",
       "<td>0.4816169</td>\n",
       "<td>0.0666667</td>\n",
       "<td>0.4</td>\n",
       "<td>-33.3333333</td>\n",
       "<td>0.0</td></tr>\n",
       "<tr><td></td>\n",
       "<td>11</td>\n",
       "<td>0.5</td>\n",
       "<td>0.4186729</td>\n",
       "<td>1.3333333</td>\n",
       "<td>1.0666667</td>\n",
       "<td>0.3333333</td>\n",
       "<td>0.4269054</td>\n",
       "<td>0.2666667</td>\n",
       "<td>0.4706746</td>\n",
       "<td>0.1333333</td>\n",
       "<td>0.5333333</td>\n",
       "<td>33.3333333</td>\n",
       "<td>6.6666667</td></tr>\n",
       "<tr><td></td>\n",
       "<td>12</td>\n",
       "<td>0.6</td>\n",
       "<td>0.4114244</td>\n",
       "<td>0.6666667</td>\n",
       "<td>1.0</td>\n",
       "<td>0.1666667</td>\n",
       "<td>0.4148859</td>\n",
       "<td>0.25</td>\n",
       "<td>0.4613765</td>\n",
       "<td>0.0666667</td>\n",
       "<td>0.6</td>\n",
       "<td>-33.3333333</td>\n",
       "<td>0.0</td></tr>\n",
       "<tr><td></td>\n",
       "<td>13</td>\n",
       "<td>0.7</td>\n",
       "<td>0.4006209</td>\n",
       "<td>2.0</td>\n",
       "<td>1.1428571</td>\n",
       "<td>0.5</td>\n",
       "<td>0.4057290</td>\n",
       "<td>0.2857143</td>\n",
       "<td>0.4534268</td>\n",
       "<td>0.2</td>\n",
       "<td>0.8</td>\n",
       "<td>100.0</td>\n",
       "<td>14.2857143</td></tr>\n",
       "<tr><td></td>\n",
       "<td>14</td>\n",
       "<td>0.8</td>\n",
       "<td>0.3934533</td>\n",
       "<td>1.3333333</td>\n",
       "<td>1.1666667</td>\n",
       "<td>0.3333333</td>\n",
       "<td>0.3962114</td>\n",
       "<td>0.2916667</td>\n",
       "<td>0.4462749</td>\n",
       "<td>0.1333333</td>\n",
       "<td>0.9333333</td>\n",
       "<td>33.3333333</td>\n",
       "<td>16.6666667</td></tr>\n",
       "<tr><td></td>\n",
       "<td>15</td>\n",
       "<td>0.9</td>\n",
       "<td>0.3876954</td>\n",
       "<td>0.0</td>\n",
       "<td>1.0370370</td>\n",
       "<td>0.0</td>\n",
       "<td>0.3902719</td>\n",
       "<td>0.2592593</td>\n",
       "<td>0.4400523</td>\n",
       "<td>0.0</td>\n",
       "<td>0.9333333</td>\n",
       "<td>-100.0</td>\n",
       "<td>3.7037037</td></tr>\n",
       "<tr><td></td>\n",
       "<td>16</td>\n",
       "<td>1.0</td>\n",
       "<td>0.3798145</td>\n",
       "<td>0.6666667</td>\n",
       "<td>1.0</td>\n",
       "<td>0.1666667</td>\n",
       "<td>0.3836864</td>\n",
       "<td>0.25</td>\n",
       "<td>0.4344157</td>\n",
       "<td>0.0666667</td>\n",
       "<td>1.0</td>\n",
       "<td>-33.3333333</td>\n",
       "<td>0.0</td></tr></table></div>"
      ],
      "text/plain": [
       "    group    cumulative_data_fraction    lower_threshold    lift      cumulative_lift    response_rate    score     cumulative_response_rate    cumulative_score    capture_rate    cumulative_capture_rate    gain      cumulative_gain\n",
       "--  -------  --------------------------  -----------------  --------  -----------------  ---------------  --------  --------------------------  ------------------  --------------  -------------------------  --------  -----------------\n",
       "    1        0.0166667                   0.54271            0         0                  0                0.553289  0                           0.553289            0               0                          -100      -100\n",
       "    2        0.0333333                   0.531024           4         2                  1                0.535357  0.5                         0.544323            0.0666667       0.0666667                  300       100\n",
       "    3        0.0333333                   0.51682            0         2                  0                0         0.5                         0.544323            0               0.0666667                  -100      100\n",
       "    4        0.05                        0.510634           4         2.66667            1                0.511283  0.666667                    0.53331             0.0666667       0.133333                   300       166.667\n",
       "    5        0.05                        0.50957            0         2.66667            0                0         0.666667                    0.53331             0               0.133333                   -100      166.667\n",
       "    6        0.1                         0.499001           0         1.33333            0                0.504182  0.333333                    0.518746            0               0.133333                   -100      33.3333\n",
       "    7        0.15                        0.491254           1.33333   1.33333            0.333333         0.495007  0.333333                    0.510833            0.0666667       0.2                        33.3333   33.3333\n",
       "    8        0.2                         0.477706           2.66667   1.66667            0.666667         0.486812  0.416667                    0.504828            0.133333        0.333333                   166.667   66.6667\n",
       "    9        0.3                         0.458233           0         1.11111            0                0.466788  0.277778                    0.492148            0               0.333333                   -100      11.1111\n",
       "    10       0.4                         0.4364             0.666667  1                  0.166667         0.450024  0.25                        0.481617            0.0666667       0.4                        -33.3333  0\n",
       "    11       0.5                         0.418673           1.33333   1.06667            0.333333         0.426905  0.266667                    0.470675            0.133333        0.533333                   33.3333   6.66667\n",
       "    12       0.6                         0.411424           0.666667  1                  0.166667         0.414886  0.25                        0.461376            0.0666667       0.6                        -33.3333  0\n",
       "    13       0.7                         0.400621           2         1.14286            0.5              0.405729  0.285714                    0.453427            0.2             0.8                        100       14.2857\n",
       "    14       0.8                         0.393453           1.33333   1.16667            0.333333         0.396211  0.291667                    0.446275            0.133333        0.933333                   33.3333   16.6667\n",
       "    15       0.9                         0.387695           0         1.03704            0                0.390272  0.259259                    0.440052            0               0.933333                   -100      3.7037\n",
       "    16       1                           0.379815           0.666667  1                  0.166667         0.383686  0.25                        0.434416            0.0666667       1                          -33.3333  0"
      ]
     },
     "metadata": {},
     "output_type": "display_data"
    },
    {
     "name": "stdout",
     "output_type": "stream",
     "text": [
      "\n"
     ]
    },
    {
     "data": {
      "text/plain": []
     },
     "execution_count": 101,
     "metadata": {},
     "output_type": "execute_result"
    }
   ],
   "source": [
    "xgb.model_performance(valid = True )"
   ]
  },
  {
   "cell_type": "code",
   "execution_count": 104,
   "metadata": {},
   "outputs": [
    {
     "data": {
      "text/plain": [
       "dict_keys(['__meta', 'model_id', 'algo', 'algo_full_name', 'response_column_name', 'data_frame', 'timestamp', 'have_pojo', 'have_mojo', 'parameters', 'output', 'compatible_frames'])"
      ]
     },
     "execution_count": 104,
     "metadata": {},
     "output_type": "execute_result"
    }
   ],
   "source": [
    "xgb._model_json.keys()"
   ]
  },
  {
   "cell_type": "code",
   "execution_count": 105,
   "metadata": {},
   "outputs": [
    {
     "data": {
      "text/plain": [
       "dict_keys(['__meta', 'names', 'domains', 'cross_validation_models', 'cross_validation_predictions', 'cross_validation_holdout_predictions_frame_id', 'cross_validation_fold_assignment_frame_id', 'model_category', 'model_summary', 'scoring_history', 'training_metrics', 'validation_metrics', 'cross_validation_metrics', 'cross_validation_metrics_summary', 'status', 'start_time', 'end_time', 'run_time', 'help', 'variable_importances', 'variable_importances_cover', 'variable_importances_frequency', 'native_parameters', 'sparse'])"
      ]
     },
     "execution_count": 105,
     "metadata": {},
     "output_type": "execute_result"
    }
   ],
   "source": [
    "xgb._model_json[\"output\"].keys()"
   ]
  },
  {
   "cell_type": "code",
   "execution_count": 106,
   "metadata": {},
   "outputs": [
    {
     "data": {
      "text/html": [
       "<div>\n",
       "<style scoped>\n",
       "    .dataframe tbody tr th:only-of-type {\n",
       "        vertical-align: middle;\n",
       "    }\n",
       "\n",
       "    .dataframe tbody tr th {\n",
       "        vertical-align: top;\n",
       "    }\n",
       "\n",
       "    .dataframe thead th {\n",
       "        text-align: right;\n",
       "    }\n",
       "</style>\n",
       "<table border=\"1\" class=\"dataframe\">\n",
       "  <thead>\n",
       "    <tr style=\"text-align: right;\">\n",
       "      <th></th>\n",
       "      <th>variable</th>\n",
       "      <th>relative_importance</th>\n",
       "      <th>scaled_importance</th>\n",
       "      <th>percentage</th>\n",
       "    </tr>\n",
       "  </thead>\n",
       "  <tbody>\n",
       "    <tr>\n",
       "      <td>0</td>\n",
       "      <td>243</td>\n",
       "      <td>7814.436035</td>\n",
       "      <td>1.000000</td>\n",
       "      <td>0.087597</td>\n",
       "    </tr>\n",
       "    <tr>\n",
       "      <td>1</td>\n",
       "      <td>29</td>\n",
       "      <td>7449.145996</td>\n",
       "      <td>0.953254</td>\n",
       "      <td>0.083502</td>\n",
       "    </tr>\n",
       "    <tr>\n",
       "      <td>2</td>\n",
       "      <td>35</td>\n",
       "      <td>6703.432617</td>\n",
       "      <td>0.857827</td>\n",
       "      <td>0.075143</td>\n",
       "    </tr>\n",
       "    <tr>\n",
       "      <td>3</td>\n",
       "      <td>299</td>\n",
       "      <td>6406.179688</td>\n",
       "      <td>0.819788</td>\n",
       "      <td>0.071811</td>\n",
       "    </tr>\n",
       "    <tr>\n",
       "      <td>4</td>\n",
       "      <td>219</td>\n",
       "      <td>5972.325684</td>\n",
       "      <td>0.764268</td>\n",
       "      <td>0.066947</td>\n",
       "    </tr>\n",
       "  </tbody>\n",
       "</table>\n",
       "</div>"
      ],
      "text/plain": [
       "  variable  relative_importance  scaled_importance  percentage\n",
       "0      243          7814.436035           1.000000    0.087597\n",
       "1       29          7449.145996           0.953254    0.083502\n",
       "2       35          6703.432617           0.857827    0.075143\n",
       "3      299          6406.179688           0.819788    0.071811\n",
       "4      219          5972.325684           0.764268    0.066947"
      ]
     },
     "execution_count": 106,
     "metadata": {},
     "output_type": "execute_result"
    }
   ],
   "source": [
    "importances = xgb._model_json[\"output\"][\"variable_importances\"].as_data_frame()\n",
    "importances.head()"
   ]
  },
  {
   "cell_type": "code",
   "execution_count": 107,
   "metadata": {},
   "outputs": [],
   "source": [
    "importances[\"variable\"] = importances[\"variable\"].astype(object)"
   ]
  },
  {
   "cell_type": "code",
   "execution_count": 108,
   "metadata": {},
   "outputs": [
    {
     "name": "stdout",
     "output_type": "stream",
     "text": [
      "['243', '29', '35', '299', '219', '32', '59', '133', '150', '127', '103', '199', '78', '77', '74', '23', '267', '264', '14', '152', '177', '54', '215', '93', '52', '162', '176', '76', '220', '159', '297', '94', '185', '140', '115', '108', '95', '198', '34', '130', '137', '240', '18', '49', '141', '260', '17', '50', '161', '104', '57', '63', '214', '56', '62', '201', '53', '48', '80', '277', '247', '261', '258', '287', '119', '284', '12', '100', '135', '33', '273', '167', '225', '279', '216', '292', '75', '69', '268', '276', '90', '223', '106', '281', '92', '112', '3', '128', '111', '20', '250', '192', '269', '60', '190', '84', '205', '251', '91', '270', '191', '136', '160', '182', '68', '180', '99', '290', '66', '79', '25', '11', '142', '8', '27', '193', '282', '30', '202', '7', '203', '31', '58', '253', '43', '244', '246', '126', '224', '262', '121', '172', '125', '265', '0']\n"
     ]
    }
   ],
   "source": [
    "select_col = importances[importances[\"relative_importance\"] > 5][\"variable\"].values.tolist()\n",
    "print(select_col)"
   ]
  },
  {
   "cell_type": "code",
   "execution_count": 105,
   "metadata": {},
   "outputs": [
    {
     "data": {
      "image/png": "[encoded data removed]",
      "text/plain": [
       "<Figure size 432x288 with 1 Axes>"
      ]
     },
     "metadata": {
      "needs_background": "light"
     },
     "output_type": "display_data"
    }
   ],
   "source": [
    "sns.barplot(x = \"variable\", \n",
    "            y=\"relative_importance\", data = importances.head(100))\n",
    "plt.show()"
   ]
  },
  {
   "cell_type": "code",
   "execution_count": 107,
   "metadata": {},
   "outputs": [
    {
     "data": {
      "image/png": "[encoded data removed]",
      "text/plain": [
       "<Figure size 1008x720 with 1 Axes>"
      ]
     },
     "metadata": {
      "needs_background": "light"
     },
     "output_type": "display_data"
    }
   ],
   "source": [
    "xgb.varimp_plot(num_of_features =20)"
   ]
  },
  {
   "cell_type": "code",
   "execution_count": null,
   "metadata": {},
   "outputs": [],
   "source": []
  }
 ],
 "metadata": {
  "kernelspec": {
   "display_name": "base",
   "language": "python",
   "name": "base"
  },
  "language_info": {
   "codemirror_mode": {
    "name": "ipython",
    "version": 3
   },
   "file_extension": ".py",
   "mimetype": "text/x-python",
   "name": "python",
   "nbconvert_exporter": "python",
   "pygments_lexer": "ipython3",
   "version": "3.6.7"
  }
 },
 "nbformat": 4,
 "nbformat_minor": 2
}
