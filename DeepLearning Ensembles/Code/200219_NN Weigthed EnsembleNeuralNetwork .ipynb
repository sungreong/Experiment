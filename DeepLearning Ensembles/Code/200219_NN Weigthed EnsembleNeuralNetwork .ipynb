{
 "cells": [
  {
   "cell_type": "code",
   "execution_count": 1,
   "metadata": {},
   "outputs": [],
   "source": [
    "import tensorflow as tf\n",
    "import numpy as np\n",
    "import pandas as pd , sys\n",
    "import matplotlib.pyplot as plt\n",
    "import scikitplot as skplt\n",
    "from IPython.display import clear_output\n",
    "from sklearn.metrics import auc , roc_auc_score\n",
    "from sklearn.model_selection import train_test_split\n",
    "sys.path.append(\"/home/advice/Python/SR/Custom/\")\n",
    "from RAdam import RAdamOptimizer\n",
    "import seaborn as sns\n",
    "import re , os\n",
    "from sklearn.preprocessing import StandardScaler\n",
    "from sklearn.model_selection import train_test_split\n",
    "import scikitplot as skplot\n",
    "from ColumnMatch import MatchVariable"
   ]
  },
  {
   "cell_type": "code",
   "execution_count": 2,
   "metadata": {},
   "outputs": [],
   "source": [
    "%load_ext autoreload\n",
    "%autoreload 2"
   ]
  },
  {
   "cell_type": "code",
   "execution_count": null,
   "metadata": {},
   "outputs": [],
   "source": []
  },
  {
   "cell_type": "code",
   "execution_count": 3,
   "metadata": {},
   "outputs": [],
   "source": [
    "from tensorflow.contrib.layers import *\n",
    "def get_weight_variable(shape, name=None,\n",
    "                        type='xavier_uniform', regularize=True, **kwargs):\n",
    "    initialise_from_constant = False\n",
    "    if type == 'xavier_uniform':\n",
    "        initial = xavier_initializer(uniform=True, dtype=tf.float32)\n",
    "    elif type == 'xavier_normal':\n",
    "        initial = xavier_initializer(uniform=False, dtype=tf.float32)\n",
    "    elif type == 'he_normal':\n",
    "        initial = variance_scaling_initializer(uniform=False, factor=2.0, mode='FAN_IN', dtype=tf.float32)\n",
    "    elif type == 'he_uniform':\n",
    "        initial = variance_scaling_initializer(uniform=True, factor=2.0, mode='FAN_IN', dtype=tf.float32)\n",
    "    elif type == 'caffe_uniform':\n",
    "        initial = variance_scaling_initializer(uniform=True, factor=1.0, mode='FAN_IN', dtype=tf.float32)\n",
    "    elif type == 'simple':\n",
    "        stddev = kwargs.get('stddev', 0.02)\n",
    "        initial = tf.truncated_normal(shape, stddev=stddev, dtype=tf.float32)\n",
    "        initialise_from_constant = True\n",
    "    elif type == 'bilinear':\n",
    "        weights = _bilinear_upsample_weights(shape)\n",
    "        initial = tf.constant(weights, shape=shape, dtype=tf.float32)\n",
    "        initialise_from_constant = True\n",
    "    else:\n",
    "        raise ValueError('Unknown initialisation requested: %s' % type)\n",
    "\n",
    "    if name is None:  # This keeps to option open to use unnamed Variables\n",
    "        weight = tf.Variable(initial)\n",
    "    else:\n",
    "        if initialise_from_constant:\n",
    "            weight = tf.get_variable(name, initializer=initial)\n",
    "        else:\n",
    "            weight = tf.get_variable(name, shape=shape, initializer=initial)\n",
    "    if regularize:\n",
    "        tf.add_to_collection('weight_variables', weight)\n",
    "    return weight "
   ]
  },
  {
   "cell_type": "code",
   "execution_count": 4,
   "metadata": {},
   "outputs": [
    {
     "data": {
      "text/plain": [
       "'/home/advice/Python/SR/Data'"
      ]
     },
     "execution_count": 4,
     "metadata": {},
     "output_type": "execute_result"
    }
   ],
   "source": [
    "import os\n",
    "os.path.abspath(\"./../../../Data/\")"
   ]
  },
  {
   "cell_type": "code",
   "execution_count": 5,
   "metadata": {},
   "outputs": [],
   "source": [
    "data = pd.read_csv(\"./../../../Data/kdd/uci/uci_creditcard-train-0.2-0.0.csv\")\n",
    "in_var = [\"LIMIT_BAL\", \"SEX\", \"EDUCATION\", \"MARRIAGE\", \"AGE\", \"PAY_0\", \"PAY_2\", \"PAY_3\", \"PAY_4\", \"PAY_5\", \"PAY_6\",\n",
    "          \"BILL_AMT1\", \"BILL_AMT2\", \"BILL_AMT3\", \"BILL_AMT4\", \"BILL_AMT5\", \"BILL_AMT6\",\n",
    "          \"PAY_AMT1\", \"PAY_AMT2\", \"PAY_AMT3\", \"PAY_AMT4\", \"PAY_AMT5\", \"PAY_AMT6\"]\n",
    "target_var = ['default payment next month']\n",
    "fac_var = [ 'SEX','EDUCATION','MARRIAGE',]\n",
    "num_var = [i for i in in_var if not i in fac_var]\n",
    "#in_var = num_var + fac_var\n",
    "data[fac_var] = data[fac_var].astype(\"category\")"
   ]
  },
  {
   "cell_type": "code",
   "execution_count": 6,
   "metadata": {},
   "outputs": [],
   "source": [
    "cat_col = data.select_dtypes(\"category\").columns.tolist()\n",
    "onehot_data = pd.get_dummies(data , columns= cat_col)"
   ]
  },
  {
   "cell_type": "code",
   "execution_count": 7,
   "metadata": {},
   "outputs": [],
   "source": [
    "select_var = in_var + target_var + [\"sep_idx\"]\n",
    "data = data[select_var]"
   ]
  },
  {
   "cell_type": "code",
   "execution_count": 8,
   "metadata": {},
   "outputs": [],
   "source": [
    "train = data[data.sep_idx ==1 ]\n",
    "valid = data[data.sep_idx ==0 ]\n",
    "_ = train.pop(\"sep_idx\")\n",
    "_ = valid.pop(\"sep_idx\")"
   ]
  },
  {
   "cell_type": "code",
   "execution_count": 9,
   "metadata": {},
   "outputs": [],
   "source": [
    "Train_X = pd.get_dummies(train , columns= cat_col)\n",
    "Train_y = Train_X.pop(target_var[0])"
   ]
  },
  {
   "cell_type": "code",
   "execution_count": 10,
   "metadata": {},
   "outputs": [],
   "source": [
    "num_var = ['LIMIT_BAL', 'AGE', 'PAY_0', 'PAY_2', 'PAY_3', 'PAY_4', 'PAY_5', 'PAY_6', 'BILL_AMT1', 'BILL_AMT2', 'BILL_AMT3', 'BILL_AMT4', 'BILL_AMT5', 'BILL_AMT6', 'PAY_AMT1', 'PAY_AMT2', 'PAY_AMT3', 'PAY_AMT4', 'PAY_AMT5', 'PAY_AMT6']"
   ]
  },
  {
   "cell_type": "code",
   "execution_count": 11,
   "metadata": {},
   "outputs": [],
   "source": [
    "one_hot_var = Train_X.columns.tolist()\n",
    "#in_var = data.columns.tolist()"
   ]
  },
  {
   "cell_type": "code",
   "execution_count": 12,
   "metadata": {},
   "outputs": [],
   "source": [
    "MV = MatchVariable()\n",
    "in_var = MV.match_invar(one_hot_var , in_var)"
   ]
  },
  {
   "cell_type": "code",
   "execution_count": 13,
   "metadata": {},
   "outputs": [],
   "source": [
    "key_onehot_store , onehot_store = MV.OneHotIndex(in_var , num_var , one_hot_var)"
   ]
  },
  {
   "cell_type": "code",
   "execution_count": 14,
   "metadata": {},
   "outputs": [],
   "source": [
    "#key_onehot_store , onehot_store = OneHotIndex(in_var , num_var , one_hot_var)"
   ]
  },
  {
   "cell_type": "code",
   "execution_count": 15,
   "metadata": {},
   "outputs": [],
   "source": [
    "test = pd.read_csv(\"./../../../Data/kdd/uci/uci_creditcard-test-0.2-0.0.csv\")\n",
    "Test_y = test.pop(target_var[0])\n",
    "Test_X = pd.get_dummies(test , columns= fac_var)[one_hot_var]"
   ]
  },
  {
   "cell_type": "code",
   "execution_count": 16,
   "metadata": {},
   "outputs": [],
   "source": [
    "Train_y.reset_index(drop=True ,inplace=True)\n",
    "target_1_list = Train_y[(Train_y == 1) == True].index.tolist()\n",
    "target_0_list = Train_y[(Train_y == 0) == True].index.tolist()"
   ]
  },
  {
   "cell_type": "code",
   "execution_count": 17,
   "metadata": {},
   "outputs": [],
   "source": [
    "ck = list(set(target_1_list) & set(target_0_list))\n",
    "assert ck == [], \"중복 발생 : {}\".format(ck)"
   ]
  },
  {
   "cell_type": "code",
   "execution_count": 18,
   "metadata": {},
   "outputs": [],
   "source": [
    "from sklearn.compose import ColumnTransformer\n",
    "from sklearn.pipeline import Pipeline\n",
    "from sklearn.impute import SimpleImputer\n",
    "from sklearn.preprocessing import StandardScaler, OneHotEncoder , MinMaxScaler\n",
    "\n",
    "numeric_features = num_var\n",
    "numeric_transformer = Pipeline(steps=[\n",
    "    ('imputer', SimpleImputer(strategy='mean')),\n",
    "    ('scaler', StandardScaler()),\n",
    "    ('scaler2', MinMaxScaler(feature_range=(-1,1)))\n",
    "])\n",
    "preprocessor = ColumnTransformer(\n",
    "    transformers=[\n",
    "        ('num', numeric_transformer, numeric_features)])\n",
    "clf = Pipeline(steps=[('preprocessor', preprocessor),])"
   ]
  },
  {
   "cell_type": "code",
   "execution_count": 19,
   "metadata": {},
   "outputs": [],
   "source": [
    "clf.fit(Train_X)\n",
    "Train_X[num_var] = clf.transform(Train_X)\n",
    "Test_X[num_var] = clf.transform(Test_X)"
   ]
  },
  {
   "cell_type": "code",
   "execution_count": 20,
   "metadata": {},
   "outputs": [
    {
     "data": {
      "text/html": [
       "<div>\n",
       "<style scoped>\n",
       "    .dataframe tbody tr th:only-of-type {\n",
       "        vertical-align: middle;\n",
       "    }\n",
       "\n",
       "    .dataframe tbody tr th {\n",
       "        vertical-align: top;\n",
       "    }\n",
       "\n",
       "    .dataframe thead th {\n",
       "        text-align: right;\n",
       "    }\n",
       "</style>\n",
       "<table border=\"1\" class=\"dataframe\">\n",
       "  <thead>\n",
       "    <tr style=\"text-align: right;\">\n",
       "      <th></th>\n",
       "      <th>LIMIT_BAL</th>\n",
       "      <th>AGE</th>\n",
       "      <th>PAY_0</th>\n",
       "      <th>PAY_2</th>\n",
       "      <th>PAY_3</th>\n",
       "      <th>PAY_4</th>\n",
       "      <th>PAY_5</th>\n",
       "      <th>PAY_6</th>\n",
       "      <th>BILL_AMT1</th>\n",
       "      <th>BILL_AMT2</th>\n",
       "      <th>BILL_AMT3</th>\n",
       "      <th>BILL_AMT4</th>\n",
       "      <th>BILL_AMT5</th>\n",
       "      <th>BILL_AMT6</th>\n",
       "      <th>PAY_AMT1</th>\n",
       "      <th>PAY_AMT2</th>\n",
       "      <th>PAY_AMT3</th>\n",
       "      <th>PAY_AMT4</th>\n",
       "      <th>PAY_AMT5</th>\n",
       "      <th>PAY_AMT6</th>\n",
       "    </tr>\n",
       "  </thead>\n",
       "  <tbody>\n",
       "    <tr>\n",
       "      <td>count</td>\n",
       "      <td>21018.000000</td>\n",
       "      <td>21018.000000</td>\n",
       "      <td>21018.000000</td>\n",
       "      <td>21018.000000</td>\n",
       "      <td>21018.000000</td>\n",
       "      <td>21018.000000</td>\n",
       "      <td>21018.000000</td>\n",
       "      <td>21018.000000</td>\n",
       "      <td>21018.000000</td>\n",
       "      <td>21018.000000</td>\n",
       "      <td>21018.000000</td>\n",
       "      <td>21018.000000</td>\n",
       "      <td>21018.000000</td>\n",
       "      <td>21018.000000</td>\n",
       "      <td>21018.000000</td>\n",
       "      <td>21018.000000</td>\n",
       "      <td>21018.000000</td>\n",
       "      <td>21018.000000</td>\n",
       "      <td>21018.000000</td>\n",
       "      <td>21018.000000</td>\n",
       "    </tr>\n",
       "    <tr>\n",
       "      <td>mean</td>\n",
       "      <td>-0.682829</td>\n",
       "      <td>-0.464902</td>\n",
       "      <td>-0.602925</td>\n",
       "      <td>-0.584080</td>\n",
       "      <td>-0.634142</td>\n",
       "      <td>-0.643974</td>\n",
       "      <td>-0.652306</td>\n",
       "      <td>-0.617542</td>\n",
       "      <td>-0.616212</td>\n",
       "      <td>-0.843085</td>\n",
       "      <td>-0.596590</td>\n",
       "      <td>-0.513785</td>\n",
       "      <td>-0.758775</td>\n",
       "      <td>-0.441184</td>\n",
       "      <td>-0.977627</td>\n",
       "      <td>-0.988815</td>\n",
       "      <td>-0.979883</td>\n",
       "      <td>-0.975954</td>\n",
       "      <td>-0.975658</td>\n",
       "      <td>-0.979912</td>\n",
       "    </tr>\n",
       "    <tr>\n",
       "      <td>std</td>\n",
       "      <td>0.261871</td>\n",
       "      <td>0.304673</td>\n",
       "      <td>0.200752</td>\n",
       "      <td>0.236843</td>\n",
       "      <td>0.215053</td>\n",
       "      <td>0.210186</td>\n",
       "      <td>0.201708</td>\n",
       "      <td>0.229504</td>\n",
       "      <td>0.116821</td>\n",
       "      <td>0.126500</td>\n",
       "      <td>0.122235</td>\n",
       "      <td>0.130944</td>\n",
       "      <td>0.108722</td>\n",
       "      <td>0.156250</td>\n",
       "      <td>0.058224</td>\n",
       "      <td>0.032573</td>\n",
       "      <td>0.057007</td>\n",
       "      <td>0.064662</td>\n",
       "      <td>0.068661</td>\n",
       "      <td>0.063035</td>\n",
       "    </tr>\n",
       "    <tr>\n",
       "      <td>min</td>\n",
       "      <td>-1.000000</td>\n",
       "      <td>-1.000000</td>\n",
       "      <td>-1.000000</td>\n",
       "      <td>-1.000000</td>\n",
       "      <td>-1.000000</td>\n",
       "      <td>-1.000000</td>\n",
       "      <td>-1.000000</td>\n",
       "      <td>-1.000000</td>\n",
       "      <td>-1.000000</td>\n",
       "      <td>-1.000000</td>\n",
       "      <td>-1.000000</td>\n",
       "      <td>-1.000000</td>\n",
       "      <td>-1.000000</td>\n",
       "      <td>-1.000000</td>\n",
       "      <td>-1.000000</td>\n",
       "      <td>-1.000000</td>\n",
       "      <td>-1.000000</td>\n",
       "      <td>-1.000000</td>\n",
       "      <td>-1.000000</td>\n",
       "      <td>-1.000000</td>\n",
       "    </tr>\n",
       "    <tr>\n",
       "      <td>25%</td>\n",
       "      <td>-0.919192</td>\n",
       "      <td>-0.703704</td>\n",
       "      <td>-0.602925</td>\n",
       "      <td>-0.777778</td>\n",
       "      <td>-0.800000</td>\n",
       "      <td>-0.800000</td>\n",
       "      <td>-0.800000</td>\n",
       "      <td>-0.777778</td>\n",
       "      <td>-0.694879</td>\n",
       "      <td>-0.928608</td>\n",
       "      <td>-0.677603</td>\n",
       "      <td>-0.599542</td>\n",
       "      <td>-0.829762</td>\n",
       "      <td>-0.545490</td>\n",
       "      <td>-0.994851</td>\n",
       "      <td>-0.997657</td>\n",
       "      <td>-0.996537</td>\n",
       "      <td>-0.997110</td>\n",
       "      <td>-0.996908</td>\n",
       "      <td>-0.998108</td>\n",
       "    </tr>\n",
       "    <tr>\n",
       "      <td>50%</td>\n",
       "      <td>-0.737374</td>\n",
       "      <td>-0.464902</td>\n",
       "      <td>-0.600000</td>\n",
       "      <td>-0.555556</td>\n",
       "      <td>-0.600000</td>\n",
       "      <td>-0.600000</td>\n",
       "      <td>-0.600000</td>\n",
       "      <td>-0.555556</td>\n",
       "      <td>-0.631570</td>\n",
       "      <td>-0.861943</td>\n",
       "      <td>-0.618323</td>\n",
       "      <td>-0.542094</td>\n",
       "      <td>-0.781518</td>\n",
       "      <td>-0.472475</td>\n",
       "      <td>-0.987457</td>\n",
       "      <td>-0.994126</td>\n",
       "      <td>-0.989082</td>\n",
       "      <td>-0.987834</td>\n",
       "      <td>-0.987123</td>\n",
       "      <td>-0.990845</td>\n",
       "    </tr>\n",
       "    <tr>\n",
       "      <td>75%</td>\n",
       "      <td>-0.535354</td>\n",
       "      <td>-0.333333</td>\n",
       "      <td>-0.600000</td>\n",
       "      <td>-0.555556</td>\n",
       "      <td>-0.600000</td>\n",
       "      <td>-0.600000</td>\n",
       "      <td>-0.600000</td>\n",
       "      <td>-0.555556</td>\n",
       "      <td>-0.616212</td>\n",
       "      <td>-0.842906</td>\n",
       "      <td>-0.594776</td>\n",
       "      <td>-0.513785</td>\n",
       "      <td>-0.758775</td>\n",
       "      <td>-0.441184</td>\n",
       "      <td>-0.977627</td>\n",
       "      <td>-0.988815</td>\n",
       "      <td>-0.979883</td>\n",
       "      <td>-0.975954</td>\n",
       "      <td>-0.975658</td>\n",
       "      <td>-0.979912</td>\n",
       "    </tr>\n",
       "    <tr>\n",
       "      <td>max</td>\n",
       "      <td>1.000000</td>\n",
       "      <td>1.000000</td>\n",
       "      <td>1.000000</td>\n",
       "      <td>1.000000</td>\n",
       "      <td>1.000000</td>\n",
       "      <td>1.000000</td>\n",
       "      <td>1.000000</td>\n",
       "      <td>1.000000</td>\n",
       "      <td>1.000000</td>\n",
       "      <td>1.000000</td>\n",
       "      <td>1.000000</td>\n",
       "      <td>1.000000</td>\n",
       "      <td>1.000000</td>\n",
       "      <td>1.000000</td>\n",
       "      <td>1.000000</td>\n",
       "      <td>1.000000</td>\n",
       "      <td>1.000000</td>\n",
       "      <td>1.000000</td>\n",
       "      <td>1.000000</td>\n",
       "      <td>1.000000</td>\n",
       "    </tr>\n",
       "  </tbody>\n",
       "</table>\n",
       "</div>"
      ],
      "text/plain": [
       "          LIMIT_BAL           AGE         PAY_0         PAY_2         PAY_3  \\\n",
       "count  21018.000000  21018.000000  21018.000000  21018.000000  21018.000000   \n",
       "mean      -0.682829     -0.464902     -0.602925     -0.584080     -0.634142   \n",
       "std        0.261871      0.304673      0.200752      0.236843      0.215053   \n",
       "min       -1.000000     -1.000000     -1.000000     -1.000000     -1.000000   \n",
       "25%       -0.919192     -0.703704     -0.602925     -0.777778     -0.800000   \n",
       "50%       -0.737374     -0.464902     -0.600000     -0.555556     -0.600000   \n",
       "75%       -0.535354     -0.333333     -0.600000     -0.555556     -0.600000   \n",
       "max        1.000000      1.000000      1.000000      1.000000      1.000000   \n",
       "\n",
       "              PAY_4         PAY_5         PAY_6     BILL_AMT1     BILL_AMT2  \\\n",
       "count  21018.000000  21018.000000  21018.000000  21018.000000  21018.000000   \n",
       "mean      -0.643974     -0.652306     -0.617542     -0.616212     -0.843085   \n",
       "std        0.210186      0.201708      0.229504      0.116821      0.126500   \n",
       "min       -1.000000     -1.000000     -1.000000     -1.000000     -1.000000   \n",
       "25%       -0.800000     -0.800000     -0.777778     -0.694879     -0.928608   \n",
       "50%       -0.600000     -0.600000     -0.555556     -0.631570     -0.861943   \n",
       "75%       -0.600000     -0.600000     -0.555556     -0.616212     -0.842906   \n",
       "max        1.000000      1.000000      1.000000      1.000000      1.000000   \n",
       "\n",
       "          BILL_AMT3     BILL_AMT4     BILL_AMT5     BILL_AMT6      PAY_AMT1  \\\n",
       "count  21018.000000  21018.000000  21018.000000  21018.000000  21018.000000   \n",
       "mean      -0.596590     -0.513785     -0.758775     -0.441184     -0.977627   \n",
       "std        0.122235      0.130944      0.108722      0.156250      0.058224   \n",
       "min       -1.000000     -1.000000     -1.000000     -1.000000     -1.000000   \n",
       "25%       -0.677603     -0.599542     -0.829762     -0.545490     -0.994851   \n",
       "50%       -0.618323     -0.542094     -0.781518     -0.472475     -0.987457   \n",
       "75%       -0.594776     -0.513785     -0.758775     -0.441184     -0.977627   \n",
       "max        1.000000      1.000000      1.000000      1.000000      1.000000   \n",
       "\n",
       "           PAY_AMT2      PAY_AMT3      PAY_AMT4      PAY_AMT5      PAY_AMT6  \n",
       "count  21018.000000  21018.000000  21018.000000  21018.000000  21018.000000  \n",
       "mean      -0.988815     -0.979883     -0.975954     -0.975658     -0.979912  \n",
       "std        0.032573      0.057007      0.064662      0.068661      0.063035  \n",
       "min       -1.000000     -1.000000     -1.000000     -1.000000     -1.000000  \n",
       "25%       -0.997657     -0.996537     -0.997110     -0.996908     -0.998108  \n",
       "50%       -0.994126     -0.989082     -0.987834     -0.987123     -0.990845  \n",
       "75%       -0.988815     -0.979883     -0.975954     -0.975658     -0.979912  \n",
       "max        1.000000      1.000000      1.000000      1.000000      1.000000  "
      ]
     },
     "execution_count": 20,
     "metadata": {},
     "output_type": "execute_result"
    }
   ],
   "source": [
    "Train_X[num_var].describe()"
   ]
  },
  {
   "cell_type": "markdown",
   "metadata": {},
   "source": [
    "## 앙상블 테스트"
   ]
  },
  {
   "cell_type": "code",
   "execution_count": 21,
   "metadata": {},
   "outputs": [],
   "source": [
    "Train_X_np = Train_X.values\n",
    "#Valid_X_np = Valid_X.values\n",
    "Test_X_np = Test_X.values"
   ]
  },
  {
   "cell_type": "code",
   "execution_count": 22,
   "metadata": {},
   "outputs": [],
   "source": [
    "def tf_mish(x, name=\"mish\") :\n",
    "    act = x * tf.nn.tanh(tf.nn.softplus(x))\n",
    "    act = tf.identity(act , name)\n",
    "    return act"
   ]
  },
  {
   "cell_type": "code",
   "execution_count": 87,
   "metadata": {},
   "outputs": [
    {
     "name": "stdout",
     "output_type": "stream",
     "text": [
      "21018 33\n"
     ]
    }
   ],
   "source": [
    "row , dim = Train_X_np.shape\n",
    "print(row,dim)\n",
    "target_n = 2 \n",
    "tf.reset_default_graph()\n",
    "X = tf.placeholder(tf.float32, shape = [ None , dim])\n",
    "y = tf.placeholder(tf.float32, shape = [ None , 1])\n",
    "DropoutRate = tf.placeholder(tf.float32, name =\"dropoutRate\")\n",
    "training = tf.placeholder_with_default(False, shape=[], name=\"training\")"
   ]
  },
  {
   "cell_type": "code",
   "execution_count": 88,
   "metadata": {},
   "outputs": [],
   "source": [
    "def variable_select(in_var = None , method = None , select_n = None , NTree = None) :\n",
    "    var_n = len(in_var)\n",
    "    if method== \"sqrt\" :\n",
    "        value =np.sqrt(var_n)\n",
    "    elif method == \"log2\" :\n",
    "        value =np.log2(var_n)\n",
    "    elif method == \"select\" :\n",
    "        value = select_n\n",
    "    else :\n",
    "        value = var_n\n",
    "    return [list(np.random.choice(in_var ,\n",
    "                                  replace = False , \n",
    "                                  size = value)) for _ in range(NTree)]\n",
    "SELECT_N = 5\n",
    "select_var = variable_select(in_var=in_var , method=\"select\" , \n",
    "                               select_n= 15 , NTree= SELECT_N)"
   ]
  },
  {
   "cell_type": "code",
   "execution_count": 89,
   "metadata": {},
   "outputs": [
    {
     "name": "stdout",
     "output_type": "stream",
     "text": [
      "[['BILL_AMT3', 'BILL_AMT2', 'PAY_AMT1', 'BILL_AMT1', 'BILL_AMT6', 'PAY_3', 'PAY_AMT4', 'BILL_AMT5', 'LIMIT_BAL', 'MARRIAGE', 'PAY_5', 'PAY_2', 'PAY_AMT6', 'BILL_AMT4', 'PAY_0'], ['PAY_5', 'PAY_3', 'EDUCATION', 'BILL_AMT1', 'BILL_AMT4', 'LIMIT_BAL', 'BILL_AMT5', 'PAY_2', 'SEX', 'PAY_4', 'PAY_AMT4', 'PAY_AMT5', 'MARRIAGE', 'BILL_AMT3', 'AGE'], ['PAY_AMT3', 'BILL_AMT5', 'PAY_AMT6', 'LIMIT_BAL', 'PAY_5', 'PAY_AMT1', 'PAY_AMT5', 'EDUCATION', 'MARRIAGE', 'AGE', 'BILL_AMT6', 'BILL_AMT1', 'PAY_4', 'PAY_AMT4', 'PAY_6'], ['PAY_AMT1', 'EDUCATION', 'PAY_0', 'PAY_5', 'PAY_3', 'PAY_4', 'PAY_AMT3', 'AGE', 'PAY_2', 'PAY_AMT6', 'PAY_AMT5', 'SEX', 'BILL_AMT2', 'PAY_6', 'PAY_AMT4'], ['BILL_AMT6', 'BILL_AMT1', 'LIMIT_BAL', 'PAY_5', 'BILL_AMT2', 'PAY_AMT6', 'PAY_AMT5', 'MARRIAGE', 'PAY_2', 'PAY_3', 'PAY_6', 'BILL_AMT4', 'BILL_AMT3', 'AGE', 'PAY_AMT4']]\n"
     ]
    }
   ],
   "source": [
    "print(select_var)"
   ]
  },
  {
   "cell_type": "code",
   "execution_count": 90,
   "metadata": {},
   "outputs": [],
   "source": [
    "var = select_var[0]\n",
    "x_input = []\n",
    "for key in var :\n",
    "    start_node , terminal_node = key_onehot_store[key]\n",
    "    diff = terminal_node - start_node\n",
    "    X_Split = tf.slice(X , [0, start_node] , [-1 , diff])\n",
    "    x_input.append(X_Split)"
   ]
  },
  {
   "cell_type": "code",
   "execution_count": 91,
   "metadata": {},
   "outputs": [
    {
     "data": {
      "text/plain": [
       "<tf.Tensor 'ArgMax:0' shape=(?,) dtype=int64>"
      ]
     },
     "execution_count": 91,
     "metadata": {},
     "output_type": "execute_result"
    }
   ],
   "source": [
    "tf.argmax(x_input[0] , axis = 1 )"
   ]
  },
  {
   "cell_type": "code",
   "execution_count": 92,
   "metadata": {},
   "outputs": [],
   "source": [
    "def Classifier_V2(X , hidden = [[],[]], Nensemble = select_var ) :\n",
    "    Ensembles = []\n",
    "    with tf.variable_scope(\"Ensembles\"):\n",
    "        for idx , __vars__ in enumerate(Nensemble) :\n",
    "            x_input = []\n",
    "            for key in __vars__ :\n",
    "                start_node , terminal_node = key_onehot_store[key]\n",
    "                diff = terminal_node - start_node\n",
    "                X_Split = tf.slice(X , [0, start_node] , [-1 , diff])\n",
    "                if diff > 4 : \n",
    "                    embeddings = tf.Variable(tf.truncated_normal([diff, int(diff/2)], \n",
    "                                                         stddev = 2/diff ))       \n",
    "                    X_Split = tf.argmax(X_Split , axis = 1)\n",
    "                    X_Split = tf.nn.embedding_lookup(embeddings, X_Split)\n",
    "                x_input.append(X_Split)\n",
    "            x_input = tf.concat(x_input , axis = 1)\n",
    "            TOTAL_DIM = x_input.get_shape().as_list()[1]\n",
    "            SELECT = np.random.randint(0 , len(activate_candidate) , 1)[0]\n",
    "            activation = activate_candidate[SELECT]\n",
    "            dims = hidden[idx]\n",
    "            dims = [TOTAL_DIM] + dims\n",
    "            print(dims)\n",
    "            for idx2 , h_dim in enumerate(dims) :\n",
    "                if idx2 == 0 :\n",
    "                    Weight =get_weight_variable(shape = [TOTAL_DIM , h_dim], \n",
    "                                                name=f\"W_{idx}{idx2}\",\n",
    "                                                type='xavier_normal', regularize=True)\n",
    "                    Bias = tf.get_variable(f\"Bias_{idx}{idx2}\",\n",
    "                                           shape = [h_dim] , dtype = tf.float32 , \n",
    "                                           initializer = tf.constant_initializer(0.0))\n",
    "                    Layer = tf.matmul( x_input , Weight) + Bias\n",
    "                    if activation != tf.nn.selu :\n",
    "                        Layer = tf.nn.dropout(Layer , DropoutRate ) \n",
    "                    Layer = activation(Layer)\n",
    "                    if activation == tf.nn.selu :\n",
    "                        Layer = tf.contrib.nn.alpha_dropout(Layer , DropoutRate ) \n",
    "                else :\n",
    "                    Weight =get_weight_variable(shape = [dims[idx2-1] ,h_dim ], \n",
    "                                                name=f\"W_{idx}{idx2}\",\n",
    "                                                type='xavier_normal', regularize=True)\n",
    "                    Bias = tf.get_variable(f\"Bias_{idx}{idx2}\",\n",
    "                                           shape = [h_dim] , dtype = tf.float32 , \n",
    "                                           initializer = tf.constant_initializer(0.0))\n",
    "                    Layer = tf.matmul( Layer , Weight) + Bias\n",
    "                    if len(dims) == idx2+1 : \n",
    "                        pass\n",
    "                    else : \n",
    "                        Layer = activation(Layer)\n",
    "                        Layer = tf.contrib.nn.alpha_dropout(Layer , DropoutRate ) \n",
    "            Ensembles.append(Layer)\n",
    "        return Ensembles"
   ]
  },
  {
   "cell_type": "code",
   "execution_count": 93,
   "metadata": {},
   "outputs": [],
   "source": [
    "def tf_mish(x) :\n",
    "    return x * tf.nn.tanh(tf.nn.softplus(x))\n",
    "activate_candidate = \\\n",
    "[tf.nn.selu, tf_mish , tf.nn.leaky_relu , tf.nn.elu ]"
   ]
  },
  {
   "cell_type": "code",
   "execution_count": 94,
   "metadata": {},
   "outputs": [
    {
     "name": "stdout",
     "output_type": "stream",
     "text": [
      "[18, 40, 40, 15, 2]\n",
      "[21, 50, 30, 15, 2]\n",
      "[20, 50, 30, 15, 2]\n",
      "[18, 50, 30, 15, 2]\n",
      "[18, 50, 25, 16, 2]\n"
     ]
    }
   ],
   "source": [
    "HIDDEN = [\n",
    "    [ 40 , 40, 15, target_n] , \n",
    "    [ 50 , 30, 15, target_n] ,\n",
    "    [ 50 , 30, 15, target_n] ,\n",
    "    [ 50 , 30, 15, target_n] ,\n",
    "    [ 50 , 25, 16, target_n]\n",
    "         ]\n",
    "NModels = Classifier_V2(X , hidden = HIDDEN , Nensemble= select_var )"
   ]
  },
  {
   "cell_type": "code",
   "execution_count": 95,
   "metadata": {},
   "outputs": [],
   "source": [
    "NModels_MEAN = tf.reduce_mean(NModels , axis = 0)\n",
    "Probs = tf.nn.softmax(NModels_MEAN)\n",
    "y_one_hot = tf.one_hot( tf.cast(tf.squeeze(y , axis = 1 ) , tf.int32) , depth=2)"
   ]
  },
  {
   "cell_type": "code",
   "execution_count": 96,
   "metadata": {},
   "outputs": [],
   "source": [
    "# tf.InteractiveSession()\n",
    "# #tf.one_hot(y , depth= 2).shape\n",
    "# y = Train_y.values.reshape(-1,1)[0:10].tolist()\n",
    "# tf.one_hot( tf.cast(tf.squeeze(y , axis = 1 ) , tf.int32) , depth=2).eval()"
   ]
  },
  {
   "cell_type": "code",
   "execution_count": 97,
   "metadata": {},
   "outputs": [
    {
     "data": {
      "text/plain": [
       "0.0    16358\n",
       "1.0     4660\n",
       "Name: default payment next month, dtype: int64"
      ]
     },
     "execution_count": 97,
     "metadata": {},
     "output_type": "execute_result"
    }
   ],
   "source": [
    "Train_y.value_counts()"
   ]
  },
  {
   "cell_type": "code",
   "execution_count": 98,
   "metadata": {},
   "outputs": [],
   "source": [
    "from sklearn.utils.class_weight import compute_class_weight\n",
    "y_weight_info = compute_class_weight(class_weight= \"balanced\" , \n",
    "                     classes = np.unique(Train_y),\n",
    "                     y= np.squeeze(Train_y))\n",
    "weight = tf.constant([ y_weight_info[1] ] ) # "
   ]
  },
  {
   "cell_type": "markdown",
   "metadata": {},
   "source": [
    "## Version1 (Averaging)"
   ]
  },
  {
   "cell_type": "code",
   "execution_count": 99,
   "metadata": {},
   "outputs": [],
   "source": [
    "# WCE = tf.nn.weighted_cross_entropy_with_logits(targets = y_one_hot ,\n",
    "#                                                logits = NModels_MEAN , \n",
    "#                                                pos_weight =  weight)\n",
    "# Loss = tf.reduce_mean(WCE)"
   ]
  },
  {
   "cell_type": "code",
   "execution_count": 100,
   "metadata": {},
   "outputs": [],
   "source": [
    "mod = sys.modules[__name__]\n",
    "for idx , Model in enumerate(NModels) :\n",
    "    setattr(mod, 'model_{}_softmax'.format(idx), \n",
    "            tf.argmax( tf.nn.softmax(Model) , axis = 1 ))"
   ]
  },
  {
   "cell_type": "markdown",
   "metadata": {},
   "source": [
    "## Version2 (개별)"
   ]
  },
  {
   "cell_type": "code",
   "execution_count": 101,
   "metadata": {},
   "outputs": [],
   "source": [
    "# mod = sys.modules[__name__]\n",
    "# Loss = []\n",
    "# Probs = 0\n",
    "# for idx , Model in enumerate(NModels) :\n",
    "# #     loss = tf.nn.weighted_cross_entropy_with_logits(targets = y_one_hot ,\n",
    "# #                                                      logits = Model , \n",
    "# #                                                      pos_weight = weight)\n",
    "#     labels = tf.argmax(y_one_hot, axis = 1 )\n",
    "#     loss = tf.losses.sparse_softmax_cross_entropy(labels , Model ,weight)\n",
    "#     Probs +=tf.nn.softmax(Model)\n",
    "#     Loss.append(loss)\n",
    "#     #Loss += loss\n",
    "# Loss = tf.reduce_mean(Loss)\n",
    "# #Loss /= len(NModels)\n",
    "# Probs = tf.nn.softmax(Probs)"
   ]
  },
  {
   "cell_type": "markdown",
   "metadata": {},
   "source": [
    "## Version 3 (Weight)"
   ]
  },
  {
   "cell_type": "code",
   "execution_count": 117,
   "metadata": {},
   "outputs": [],
   "source": [
    "\n",
    "weights_tree = tf.Variable(tf.random_uniform([len(NModels)], minval=0, maxval=1 ))       \n",
    "weights_tree = tf.nn.softmax(weights_tree)\n",
    "weights_tree_trans = tf.reshape(weights_tree,(len(NModels),1,1))\n",
    "Probs = []\n",
    "for idx , Model in enumerate(NModels) :\n",
    "    Probs.append(tf.nn.softmax(Model))\n",
    "Probs_ = tf.concat([Probs], axis = 0) * weights_tree_trans\n",
    "Probs = tf.reduce_sum(Probs_, axis = 0)\n",
    "labels = tf.argmax(y_one_hot, axis = 1 )\n",
    "Loss = tf.losses.sparse_softmax_cross_entropy(labels , Probs ,weight)\n",
    "Loss = tf.reduce_mean(Loss)"
   ]
  },
  {
   "cell_type": "code",
   "execution_count": 118,
   "metadata": {},
   "outputs": [],
   "source": [
    "# # mod = sys.modules[__name__]\n",
    "# # Loss = []\n",
    "# Probs = []\n",
    "# for idx , Model in enumerate(NModels) :\n",
    "#     Probs.append(tf.nn.softmax(Model))\n",
    "# #     loss = tf.nn.weighted_cross_entropy_with_logits(targets = y_one_hot ,\n",
    "# #                                                      logits = Model , \n",
    "# #                                                      pos_weight = weight)\n",
    "#     labels = tf.argmax(y_one_hot, axis = 1 )\n",
    "#     loss = tf.losses.sparse_softmax_cross_entropy(labels , Model ,weight)\n",
    "#     Probs.append(tf.nn.softmax(Model))\n",
    "# #     Loss.append(loss)\n",
    "# #     #Loss += loss\n",
    "# # Loss = tf.reduce_mean(Loss)\n",
    "# # #Loss /= len(NModels)\n"
   ]
  },
  {
   "cell_type": "markdown",
   "metadata": {},
   "source": [
    "## L1 L2 Penalty"
   ]
  },
  {
   "cell_type": "code",
   "execution_count": 119,
   "metadata": {},
   "outputs": [],
   "source": [
    "vars = tf.trainable_variables()\n",
    "#tf.get_collection(tf.GraphKeys.GLOBAL_VARIABLES,scope=\"Ensembles\")\n",
    "L2 = []\n",
    "WEIGHTS = []\n",
    "import re \n",
    "for v in vars :\n",
    "    if re.search('W_' , v.name) :\n",
    "        WEIGHTS.append(v)\n",
    "        L2.append(tf.nn.l2_loss(v))\n",
    "Loss += tf.add_n(L2)  * 0.0001\n",
    "l1_regularizer = tf.contrib.layers.l1_regularizer(scale=0.005, scope=None)\n",
    "regularization_penalty = tf.contrib.layers.apply_regularization(l1_regularizer, WEIGHTS )\n",
    "Loss += regularization_penalty  * 0.0001"
   ]
  },
  {
   "cell_type": "code",
   "execution_count": 120,
   "metadata": {},
   "outputs": [],
   "source": [
    "solver = RAdamOptimizer(learning_rate= 2e-4).minimize(Loss ,var_list = vars )"
   ]
  },
  {
   "cell_type": "code",
   "execution_count": 121,
   "metadata": {},
   "outputs": [
    {
     "name": "stdout",
     "output_type": "stream",
     "text": [
      "(21018, 33)\n",
      "0.0    16358\n",
      "1.0     4660\n",
      "Name: default payment next month, dtype: int64\n"
     ]
    }
   ],
   "source": [
    "print(Train_X.shape )\n",
    "print(Train_y.value_counts())"
   ]
  },
  {
   "cell_type": "code",
   "execution_count": 137,
   "metadata": {},
   "outputs": [],
   "source": [
    "import shutil\n",
    "try :\n",
    "    os.makedirs(\"./NNEnsembleResult/b\")\n",
    "    os.makedirs(\"./NNEnsembleResult/c\")\n",
    "    os.makedirs(\"./NNEnsembleResult/d\")\n",
    "except Exception as e :\n",
    "    shutil.rmtree(\"./NNEnsembleResult/b\")\n",
    "    shutil.rmtree(\"./NNEnsembleResult/c\")\n",
    "    shutil.rmtree(\"./NNEnsembleResult/d\")\n",
    "    os.makedirs(\"./NNEnsembleResult/b\")\n",
    "    os.makedirs(\"./NNEnsembleResult/c\")\n",
    "    os.makedirs(\"./NNEnsembleResult/d\")"
   ]
  },
  {
   "cell_type": "code",
   "execution_count": null,
   "metadata": {
    "scrolled": false
   },
   "outputs": [
    {
     "name": "stdout",
     "output_type": "stream",
     "text": [
      "[[14884  1474]\n",
      " [ 2596  2064]]\n",
      "Epoch : 1350 , Loss :1.35613, AUC : 76.99\n",
      "target 1 oversample n :  2596\n"
     ]
    },
    {
     "data": {
      "image/png": "[encoded data removed]",
      "text/plain": [
       "<Figure size 1080x864 with 6 Axes>"
      ]
     },
     "metadata": {
      "needs_background": "light"
     },
     "output_type": "display_data"
    },
    {
     "name": "stdout",
     "output_type": "stream",
     "text": [
      "1363\r"
     ]
    }
   ],
   "source": [
    "from sklearn.metrics import confusion_matrix\n",
    "Epoch = 10000\n",
    "mb_size = 1000\n",
    "config=tf.ConfigProto(log_device_placement=True)\n",
    "config.gpu_options.allow_growth = True\n",
    "sess = tf.Session(config = config)\n",
    "sess.run(tf.global_variables_initializer())\n",
    "_Loss_ = []\n",
    "_Epoch_ = []\n",
    "_Epoch2_ = [0]\n",
    "_trAUC_ , _teAUC_ = [0] , [0]\n",
    "print(\"Train\")\n",
    "for epoch in range(Epoch) :\n",
    "    print(epoch , end = \"\\r\")\n",
    "    target1 = np.random.choice(target_1_list ,\n",
    "                               len(target_1_list) ,\n",
    "                               replace = False )\n",
    "    target0 = np.random.choice(target_0_list , \n",
    "                               len(target_0_list) ,\n",
    "                               replace = False )\n",
    "    target1 = list(target1)\n",
    "    target0 = list(target0)\n",
    "    if epoch > 10 :\n",
    "        target1 = target1 + 2 * checkpoint \n",
    "    XX = Train_X_np[target1 + target0  , : ]\n",
    "    YY = Train_y.values[target1 + target0]\n",
    "    idx = np.random.permutation(len(XX))\n",
    "    XX = XX[idx , : ]\n",
    "    YY = YY[idx]\n",
    "    batch_iter = int(len(XX) / mb_size)\n",
    "    batchLoss = 0\n",
    "    for idx in range(batch_iter) :\n",
    "        X_mb = XX[idx*mb_size:(idx+1)*mb_size]\n",
    "        Y_mb = YY[idx*mb_size:(idx+1)*mb_size]\n",
    "        Feed = {X : X_mb ,\n",
    "                y : Y_mb.reshape(-1,1) , \n",
    "                DropoutRate : 1.0 ,\n",
    "                training : True \n",
    "               }\n",
    "        _ , LOSS  = sess.run([solver , Loss] , feed_dict= Feed)\n",
    "        batchLoss += LOSS\n",
    "    batchLoss /= batch_iter\n",
    "    _Loss_.append(batchLoss)\n",
    "    _Epoch_.append(epoch)\n",
    "    \n",
    "    if epoch % 10 == 0 :\n",
    "        Feed = { X : Train_X_np  ,\n",
    "                DropoutRate : 1.0,\n",
    "                training : True \n",
    "               }\n",
    "        probs  = sess.run(Probs , feed_dict= Feed)\n",
    "        real_target = np.squeeze(Train_y.values)\n",
    "        pred_target = np.argmax(probs,axis =1)\n",
    "        AUC = roc_auc_score(real_target , probs[:,1])\n",
    "        DD = pd.DataFrame([real_target ,pred_target], index = [\"t\",\"p\"]).T\n",
    "        DD2 = DD[(DD.t == 1) & (DD.p==0)]\n",
    "        checkpoint = DD2.index.tolist()\n",
    "    \n",
    "    if epoch % 50 == 0 :\n",
    "        we = sess.run(weights_tree)\n",
    "        plt.scatter(np.arange(0,len(we)), we)\n",
    "        plt.savefig(f\"./NNEnsembleResult/b/plot.{epoch:05d}.png\")\n",
    "        plt.title(f\"Tree Weight : {len(we)} \")\n",
    "        plt.show()\n",
    "    msg = \"Epoch : {} , Loss :{:.5f}, AUC : {:.2f}\".format(epoch ,LOSS ,AUC*100)\n",
    "    if (epoch % 50 == 0) & ( epoch > 0 ) :\n",
    "#         __idx__ = np.random.permutation(len(Train_X_np))\n",
    "#         __idx__ = np.random.choice(__idx__ , replace = False, size= 500)\n",
    "#         Feed = { X : Train_X_np[__idx__,:]  ,\n",
    "#                 DropoutRate : 1 ,\n",
    "#                 training : True }\n",
    "        dd = [sess.run( getattr(mod,  \"model_{}_softmax\".format(i)) , \n",
    "                       feed_dict= Feed)  for i in np.arange(len(NModels))]\n",
    "        s = pd.DataFrame(dd)\n",
    "        models = np.arange(s.shape[0])\n",
    "        indexs = np.arange(s.shape[1])\n",
    "        fig, ax = plt.subplots( figsize = (12,8))\n",
    "        plt.pcolor(s)\n",
    "        plt.yticks(np.arange(0.5, len(models), 1),models)\n",
    "        plt.title(msg)\n",
    "        plt.savefig(f\"./NNEnsembleResult/c/plot.{epoch:05d}.png\")\n",
    "        plt.close()    \n",
    "        #d = pd.DataFrame(dd).sum(axis = 0)\n",
    "        #plt.scatter( np.arange(len(d)) , d.values)\n",
    "    if (epoch % 50 == 0) & ( epoch > 0 ):\n",
    "        clear_output()\n",
    "        print(confusion_matrix(real_target , pred_target))\n",
    "        print(msg)\n",
    "        print(\"target 1 oversample n : \", len(checkpoint))\n",
    "        trainDD = pd.DataFrame([real_target ,probs[:,1]],\n",
    "                               index = [\"t\",\"prob\"]).T\n",
    "        trainAUC = AUC\n",
    "        Feed = { X : Test_X_np  ,\n",
    "            DropoutRate : 1.0 ,\n",
    "            training : True \n",
    "           }\n",
    "        testprobs  = sess.run(Probs , feed_dict= Feed)\n",
    "        real_target = np.squeeze(Test_y.values)\n",
    "        pred_target = np.argmax(testprobs,axis =1)\n",
    "        testAUC = roc_auc_score(real_target , testprobs[:,1])\n",
    "        testDD = pd.DataFrame([real_target ,testprobs[:,1]],\n",
    "                          index = [\"t\",\"prob\"]).T\n",
    "        ###################################################\n",
    "        fig , axes = plt.subplots(nrows=4 ,ncols=2,\n",
    "                  figsize=(15,12) )\n",
    "        plt.subplots_adjust(left=0.05, bottom=0.1, right=0.99, \n",
    "                            top=0.95, wspace=None, hspace=0.5)\n",
    "        ax = axes.flatten()\n",
    "        sns.boxplot(x=\"t\", y=\"prob\", data=trainDD, ax = ax[0])\n",
    "        ax[0].set_title(\"train : {:.3f}\".format(trainAUC), fontsize= 25)\n",
    "        sns.boxplot(x=\"t\", y=\"prob\", data=testDD, ax = ax[1])\n",
    "        ax[1].set_title(\"test : {:.3f}\".format(testAUC), fontsize= 25)\n",
    "        skplt.metrics.plot_ks_statistic(Train_y.values, probs , \n",
    "                                        ax = ax[2] , \n",
    "                                        title = \"[Train] KS Static PLOT\")\n",
    "        skplt.metrics.plot_ks_statistic(Test_y.values, testprobs ,\n",
    "                                        ax = ax[3], \n",
    "                                        title = \"[Test] KS Static PLOT\")\n",
    "\n",
    "        ax3 = plt.subplot(413)\n",
    "        plt.subplots_adjust(left=0.05, bottom=0.1, right=0.99, \n",
    "                            top=0.95, wspace=None, hspace=0.7)\n",
    "        ax3.plot(_Epoch_ , _Loss_ )\n",
    "        ax3.set_title(msg, fontsize= 20)\n",
    "        _Epoch2_.append(epoch)\n",
    "        _trAUC_.append(trainAUC)\n",
    "        _teAUC_.append(testAUC)\n",
    "        ax4 = plt.subplot(414)\n",
    "        ax4.plot(_Epoch2_ , _trAUC_ , label = \"train auc\")\n",
    "        ax4.plot(_Epoch2_ , _teAUC_ , label = \"test auc\")\n",
    "        ax4.legend()\n",
    "        msg = \"Epoch : {} / AUC | Train : {:.2f} Test : {:.2f}\".format(epoch , \n",
    "                                                               100*trainAUC ,\n",
    "                                                               100*testAUC\n",
    "                                                              )\n",
    "        ax4.set_title(msg, fontsize= 20)\n",
    "        plt.savefig(f\"./NNEnsembleResult/d/plot.{epoch:05d}.png\")\n",
    "        plt.show()"
   ]
  },
  {
   "cell_type": "code",
   "execution_count": null,
   "metadata": {},
   "outputs": [],
   "source": []
  }
 ],
 "metadata": {
  "kernelspec": {
   "display_name": "base",
   "language": "python",
   "name": "base"
  },
  "language_info": {
   "codemirror_mode": {
    "name": "ipython",
    "version": 3
   },
   "file_extension": ".py",
   "mimetype": "text/x-python",
   "name": "python",
   "nbconvert_exporter": "python",
   "pygments_lexer": "ipython3",
   "version": "3.6.7"
  }
 },
 "nbformat": 4,
 "nbformat_minor": 2
}
