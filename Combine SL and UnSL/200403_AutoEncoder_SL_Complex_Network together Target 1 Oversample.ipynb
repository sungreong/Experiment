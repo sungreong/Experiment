{
 "cells": [
  {
   "cell_type": "markdown",
   "metadata": {},
   "source": [
    "## AutoEncoder 와 Supervised Learning 합쳐서 해보기\n",
    "\n",
    "* 이유 1 : AutoEncoder는 Unsupervised learning 방법으로, 내부적으로 좋은 Rerpresentation을 만들어 줄 수 있을 거라고 생각함. \n",
    "    * + Shared Network를 통해 Weight를 줄여서, 압축된 정보를 얻게 하는 것이 목적\n",
    "* 이유 2 : SL만으로 하면 레이블에 대한 과적합된 네트워크를 얻을 것 같음.그래서 다른 네트워크와 결합을 통해 이러한 부분을 해소하는 것을 기대함.\n",
    "\n",
    "* 이 버전에서의 생각\n",
    "    * 각각 1번씩 돌리게 함.\n",
    "        * AutoEncoder \n",
    "        * SL\n",
    "    * AutoEncoder 학습 후 Pretrained Network로 한 것은 실제로 그냥 쓰는 것보다 못하다는 사실을 확인함."
   ]
  },
  {
   "cell_type": "code",
   "execution_count": 1,
   "metadata": {},
   "outputs": [],
   "source": [
    "import tensorflow as tf\n",
    "import numpy as np\n",
    "import pandas as pd , sys\n",
    "import matplotlib.pyplot as plt\n",
    "import scikitplot as skplt\n",
    "from IPython.display import clear_output\n",
    "from sklearn.metrics import auc , roc_auc_score\n",
    "from sklearn.model_selection import train_test_split\n",
    "sys.path.append(\"/home/advice/Python/SR/Custom/\")\n",
    "from RAdam import RAdamOptimizer\n",
    "import seaborn as sns\n",
    "import re , os\n",
    "from sklearn.preprocessing import StandardScaler\n",
    "from sklearn.model_selection import train_test_split\n",
    "import scikitplot as skplot\n",
    "from ColumnMatch import MatchVariable"
   ]
  },
  {
   "cell_type": "code",
   "execution_count": 2,
   "metadata": {},
   "outputs": [],
   "source": [
    "from tensorflow.contrib.layers import *\n",
    "def get_weight_variable(shape, name=None,\n",
    "                        type='xavier_uniform', regularize=True, **kwargs):\n",
    "    initialise_from_constant = False\n",
    "    if type == 'xavier_uniform':\n",
    "        initial = xavier_initializer(uniform=True, dtype=tf.float32)\n",
    "    elif type == 'xavier_normal':\n",
    "        initial = xavier_initializer(uniform=False, dtype=tf.float32)\n",
    "    elif type == 'he_normal':\n",
    "        initial = variance_scaling_initializer(uniform=False, factor=2.0, mode='FAN_IN', dtype=tf.float32)\n",
    "    elif type == 'he_uniform':\n",
    "        initial = variance_scaling_initializer(uniform=True, factor=2.0, mode='FAN_IN', dtype=tf.float32)\n",
    "    elif type == 'caffe_uniform':\n",
    "        initial = variance_scaling_initializer(uniform=True, factor=1.0, mode='FAN_IN', dtype=tf.float32)\n",
    "    elif type == 'simple':\n",
    "        stddev = kwargs.get('stddev', 0.02)\n",
    "        initial = tf.truncated_normal(shape, stddev=stddev, dtype=tf.float32)\n",
    "        initialise_from_constant = True\n",
    "    elif type == 'bilinear':\n",
    "        weights = _bilinear_upsample_weights(shape)\n",
    "        initial = tf.constant(weights, shape=shape, dtype=tf.float32)\n",
    "        initialise_from_constant = True\n",
    "    else:\n",
    "        raise ValueError('Unknown initialisation requested: %s' % type)\n",
    "\n",
    "    if name is None:  # This keeps to option open to use unnamed Variables\n",
    "        weight = tf.Variable(initial)\n",
    "    else:\n",
    "        if initialise_from_constant:\n",
    "            weight = tf.get_variable(name, initializer=initial)\n",
    "        else:\n",
    "            weight = tf.get_variable(name, shape=shape, initializer=initial)\n",
    "    if regularize:\n",
    "        tf.add_to_collection('weight_variables', weight)\n",
    "    return weight "
   ]
  },
  {
   "cell_type": "code",
   "execution_count": 3,
   "metadata": {},
   "outputs": [
    {
     "data": {
      "text/plain": [
       "'/home/advice/Python/SR/Data'"
      ]
     },
     "execution_count": 3,
     "metadata": {},
     "output_type": "execute_result"
    }
   ],
   "source": [
    "import os\n",
    "os.path.abspath(\"./../../../Data/\")"
   ]
  },
  {
   "cell_type": "code",
   "execution_count": 4,
   "metadata": {},
   "outputs": [],
   "source": [
    "data = pd.read_csv(\"./../../../Data/kdd/uci/uci_creditcard-train-0.2-0.0.csv\")\n",
    "in_var = [\"LIMIT_BAL\", \"SEX\", \"EDUCATION\", \"MARRIAGE\", \"AGE\", \"PAY_0\", \"PAY_2\", \"PAY_3\", \"PAY_4\", \"PAY_5\", \"PAY_6\",\n",
    "          \"BILL_AMT1\", \"BILL_AMT2\", \"BILL_AMT3\", \"BILL_AMT4\", \"BILL_AMT5\", \"BILL_AMT6\",\n",
    "          \"PAY_AMT1\", \"PAY_AMT2\", \"PAY_AMT3\", \"PAY_AMT4\", \"PAY_AMT5\", \"PAY_AMT6\"]\n",
    "target_var = ['default payment next month']\n",
    "fac_var = [ 'SEX','EDUCATION','MARRIAGE',]\n",
    "num_var = [i for i in in_var if not i in fac_var]\n",
    "#in_var = num_var + fac_var\n",
    "data[fac_var] = data[fac_var].astype(\"category\")"
   ]
  },
  {
   "cell_type": "code",
   "execution_count": 5,
   "metadata": {},
   "outputs": [],
   "source": [
    "cat_col = data.select_dtypes(\"category\").columns.tolist()\n",
    "onehot_data = pd.get_dummies(data , columns= cat_col)"
   ]
  },
  {
   "cell_type": "code",
   "execution_count": 6,
   "metadata": {},
   "outputs": [],
   "source": [
    "select_var = in_var + target_var + [\"sep_idx\"]\n",
    "data = data[select_var]"
   ]
  },
  {
   "cell_type": "code",
   "execution_count": 7,
   "metadata": {},
   "outputs": [],
   "source": [
    "train = data[data.sep_idx ==1 ]\n",
    "valid = data[data.sep_idx ==0 ]\n",
    "## \n",
    "train = data\n",
    "_ = train.pop(\"sep_idx\")\n",
    "_ = valid.pop(\"sep_idx\")"
   ]
  },
  {
   "cell_type": "code",
   "execution_count": 8,
   "metadata": {},
   "outputs": [],
   "source": [
    "Train_X = pd.get_dummies(train , columns= cat_col)\n",
    "Train_y = Train_X.pop(target_var[0])"
   ]
  },
  {
   "cell_type": "code",
   "execution_count": 9,
   "metadata": {},
   "outputs": [],
   "source": [
    "num_var = ['LIMIT_BAL', 'AGE', 'PAY_0', 'PAY_2', 'PAY_3', 'PAY_4', 'PAY_5', 'PAY_6', 'BILL_AMT1', 'BILL_AMT2', 'BILL_AMT3', 'BILL_AMT4', 'BILL_AMT5', 'BILL_AMT6', 'PAY_AMT1', 'PAY_AMT2', 'PAY_AMT3', 'PAY_AMT4', 'PAY_AMT5', 'PAY_AMT6']"
   ]
  },
  {
   "cell_type": "code",
   "execution_count": 10,
   "metadata": {},
   "outputs": [],
   "source": [
    "one_hot_var = Train_X.columns.tolist()\n",
    "#in_var = data.columns.tolist()"
   ]
  },
  {
   "cell_type": "code",
   "execution_count": 11,
   "metadata": {},
   "outputs": [],
   "source": [
    "MV = MatchVariable()\n",
    "in_var = MV.match_onehot_invar(one_hot_var , in_var)"
   ]
  },
  {
   "cell_type": "code",
   "execution_count": 12,
   "metadata": {},
   "outputs": [],
   "source": [
    "key_onehot_store , onehot_store = MV.OneHotIndex(in_var , num_var , one_hot_var)"
   ]
  },
  {
   "cell_type": "code",
   "execution_count": 13,
   "metadata": {},
   "outputs": [],
   "source": [
    "weight_info = MV.WeightInfo(onehot_store , Train_X)"
   ]
  },
  {
   "cell_type": "code",
   "execution_count": 14,
   "metadata": {},
   "outputs": [],
   "source": [
    "#key_onehot_store , onehot_store = OneHotIndex(in_var , num_var , one_hot_var)"
   ]
  },
  {
   "cell_type": "code",
   "execution_count": 15,
   "metadata": {},
   "outputs": [],
   "source": [
    "def gainloss(M,G,R,weights) :\n",
    "    diff = G.get_shape().as_list()[1] \n",
    "    if diff == 1 :\n",
    "        sumLoss = mseloss(M,G,R)\n",
    "    elif diff == 2 :\n",
    "        sumLoss = multiclassloss(M,G,R,weights)\n",
    "    else :\n",
    "        sumLoss = multiclassloss(M,G,R,weights)\n",
    "    return sumLoss\n",
    "def mseloss(M,G,R) :\n",
    "    if M is None :\n",
    "        sumLoss = tf.reduce_mean(tf.square( R - G ))\n",
    "    else :\n",
    "        sumLoss = tf.reduce_sum(M * tf.square( R - G ))\n",
    "        sumLoss /= tf.clip_by_value(tf.reduce_sum(M),1.0,1e+8)\n",
    "    return sumLoss \n",
    "        \n",
    "def multiclassloss(M,G,R,weights):\n",
    "    if M is None :\n",
    "        M = tf.constant(1.0)\n",
    "    else :\n",
    "        M = tf.reshape(tf.slice(M,[0,0],[-1,1]),shape=(1,-1))\n",
    "    diff = G.get_shape().as_list()[1] \n",
    "    labels   = tf.argmax(R, axis = 1 )\n",
    "    one_hot  = tf.one_hot(labels, depth = diff, dtype = tf.float32)\n",
    "    class_weights = tf.constant(weights)\n",
    "    weights = tf.cast(tf.gather(class_weights , labels ) , tf.float32)\n",
    "    SparseCE = tf.losses.sparse_softmax_cross_entropy(labels, G , weights)\n",
    "    if M is None :\n",
    "        sumLoss = tf.reduce_mean(M * SparseCE)\n",
    "    else :\n",
    "        sumLoss = tf.reduce_sum(M * SparseCE)\n",
    "        sumLoss /= tf.clip_by_value(tf.reduce_sum(M),1.0,1e+11)\n",
    "    return sumLoss\n",
    "\n",
    "def CatNumEmb(out,  cond , key_cond) :\n",
    "        rawinputs = []\n",
    "        onehotinputs  = []\n",
    "        arginputs = []\n",
    "        keys = list(key_cond.keys())\n",
    "        if len(cond) == cond[-1][1] : \n",
    "            self.log(\"All Numeric\")\n",
    "            Input = self.G_final_Act(out)\n",
    "            Arg   = self.G_final_Act(out)\n",
    "        else :\n",
    "            for idx , c in enumerate(cond) :\n",
    "                StartNode , TerminalNode = c[0] , c[1]\n",
    "                diff = TerminalNode - StartNode\n",
    "                split = tf.slice(out , [0 , StartNode ],[-1, diff ] ) # \n",
    "                if diff == 1 : \n",
    "                    type_ = \"numeric\"\n",
    "                    __float__  = split\n",
    "                    rawinputs.append(__float__)\n",
    "                    onehotinputs.append(__float__)\n",
    "                    arginputs.append(__float__)\n",
    "                else :\n",
    "                    prob = tf.nn.softmax(split)\n",
    "                    arg = tf.argmax(prob , axis = 1)\n",
    "                    onehot = tf.one_hot(arg, depth = diff,\n",
    "                                        dtype = tf.float32 )\n",
    "                    arg = tf.expand_dims(tf.cast(arg , tf.float32),axis = 1)\n",
    "                    rawinputs.append(prob)\n",
    "                    onehotinputs.append(onehot)\n",
    "                    arginputs.append(arg)\n",
    "                    if diff == 2 : type_ = \"binary\"\n",
    "                    else : type_ = \"multiclass\"\n",
    "                print(\"Column : {:20} | {:10} | [{}]\".format(keys[idx] , type_ , diff))\n",
    "            Input = tf.concat(rawinputs, axis=1, name='Inputs')\n",
    "            onehotInput = tf.concat(onehotinputs, axis=1, name='oneHotInputs')\n",
    "            argInput = tf.concat(arginputs, axis=1, name='Args')\n",
    "        return Input , onehotInput , argInput\n",
    "\n",
    "def CatNumEmb_Loss(Gene , Real, Mask  , cond, key_cond , Weight_Info) :\n",
    "    LOSS = 0\n",
    "    keys = list(key_cond.keys())\n",
    "    with tf.variable_scope(\"Columns/Loss\"):\n",
    "        if len(cond) == cond[-1][1] :\n",
    "            LOSS = gainloss(Mask,Gene,Real,None)\n",
    "            for idx , (c, w_info) in enumerate(zip(cond , Weight_Info)) :\n",
    "                StartNode , TerminalNode = c[0] , c[1]\n",
    "                diff = TerminalNode - StartNode\n",
    "                Gsplit = tf.slice(Gene , [0 , StartNode ] ,[-1 , diff] ) \n",
    "                Rsplit = tf.slice(Real , [0 , StartNode ] ,[-1 , diff] ) \n",
    "                if Mask is None :\n",
    "                    Msplit = None\n",
    "                else :\n",
    "                    Msplit = tf.slice(Mask , [0 , StartNode ] ,[-1 , diff] ) \n",
    "                type_   = \"mse\"\n",
    "                sumLoss = gainloss(Msplit,Gsplit,Rsplit,None)\n",
    "                print(\"StartNode : {:3} | {:10} | [{}]\".\\\n",
    "                      format(StartNode , type_ , diff))\n",
    "        else :\n",
    "            for idx , (c, w_info) in enumerate(zip(cond , Weight_Info)) :\n",
    "                StartNode , TerminalNode = c[0] , c[1]\n",
    "                diff = TerminalNode - StartNode\n",
    "                Gsplit = tf.slice(Gene , [0 , StartNode ] ,[-1 , diff] ) \n",
    "                Rsplit = tf.slice(Real , [0 , StartNode ] ,[-1 , diff] ) \n",
    "                if Mask is None :\n",
    "                    Msplit = None\n",
    "                else :\n",
    "                    Msplit = tf.slice(Mask , [0 , StartNode ] ,[-1 , diff] ) \n",
    "                sumLoss = gainloss(Msplit,Gsplit,Rsplit,w_info)\n",
    "                if diff == 1 :   type_ = \"mse\"\n",
    "                elif diff == 2 : type_ = \"binary\"    \n",
    "                else :           type_ = \"multiclass\"\n",
    "                LOSS += sumLoss\n",
    "                print(\"StartNode : {:3} | {:10} | [{}]\".format(StartNode , type_ , diff))\n",
    "    return LOSS"
   ]
  },
  {
   "cell_type": "code",
   "execution_count": 16,
   "metadata": {},
   "outputs": [],
   "source": [
    "test = pd.read_csv(\"./../../../Data/kdd/uci/uci_creditcard-test-0.2-0.0.csv\")\n",
    "Test_y = test.pop(target_var[0])\n",
    "Test_X = pd.get_dummies(test , columns= fac_var)[one_hot_var]"
   ]
  },
  {
   "cell_type": "code",
   "execution_count": 17,
   "metadata": {},
   "outputs": [],
   "source": [
    "Train_y.reset_index(drop=True ,inplace=True)\n",
    "target_1_list = Train_y[(Train_y == 1) == True].index.tolist()\n",
    "target_0_list = Train_y[(Train_y == 0) == True].index.tolist()"
   ]
  },
  {
   "cell_type": "code",
   "execution_count": 18,
   "metadata": {},
   "outputs": [],
   "source": [
    "ck = list(set(target_1_list) & set(target_0_list))\n",
    "assert ck == [], \"중복 발생 : {}\".format(ck)"
   ]
  },
  {
   "cell_type": "code",
   "execution_count": 19,
   "metadata": {},
   "outputs": [],
   "source": [
    "from sklearn.compose import ColumnTransformer\n",
    "from sklearn.pipeline import Pipeline\n",
    "from sklearn.impute import SimpleImputer\n",
    "from sklearn.preprocessing import (\n",
    "    StandardScaler, OneHotEncoder ,\n",
    "    MinMaxScaler , RobustScaler,\n",
    "    PowerTransformer\n",
    ")"
   ]
  },
  {
   "cell_type": "code",
   "execution_count": 20,
   "metadata": {},
   "outputs": [],
   "source": [
    "from sklearn.compose import ColumnTransformer\n",
    "from sklearn.preprocessing import StandardScaler, OneHotEncoder\n",
    "from sklearn.base import BaseEstimator\n",
    "from sklearn.base import TransformerMixin\n",
    "from collections import Counter\n",
    "from copy import deepcopy\n",
    "class FeatureSelector(BaseEstimator, TransformerMixin):\n",
    "    #Class Constructor \n",
    "    def __init__(self, feature_names):\n",
    "        self.feature_names = feature_names\n",
    "    #Return self nothing else to do here    \n",
    "    def fit(self, X, y = None):\n",
    "        return self\n",
    "    #Method that describes what we need this transformer to do\n",
    "    def transform(self, X, y = None):\n",
    "        return X[self.feature_names]\n",
    "    \n",
    "class OutlierTransformer(BaseEstimator, TransformerMixin ):\n",
    "    #Class constructor method that takes a boolean as its argument\n",
    "    def __init__(self, new_features = True , multiple_outlier_n = 5):\n",
    "        self.multiple_outlier_n = multiple_outlier_n\n",
    "        self.new_features = new_features\n",
    "    #Return self nothing else to do here    \n",
    "    def fit( self, X:pd.DataFrame, y = None )-> dict:\n",
    "        self.Detect_Outlier = {}\n",
    "        df = deepcopy(X)\n",
    "        outlier_indices = [] \n",
    "        # convert columns to numerical\n",
    "        self.totalcol = df.columns.tolist()\n",
    "        print(self.totalcol)\n",
    "        for name in self.totalcol :\n",
    "            selectvar = df[name]\n",
    "            Q1, Q3 = selectvar.quantile([0.25,0.75]).values\n",
    "            IQR = Q3 - Q1\n",
    "            minimum , maximum = (Q1 - 1.5 * IQR) , (Q3 + 1.5 * IQR)\n",
    "            select_idx = (selectvar  < minimum ) | (selectvar > maximum)\n",
    "            outlier_list_col = selectvar[select_idx].index.tolist()\n",
    "            outlier_indices.extend(outlier_list_col)\n",
    "            self.Detect_Outlier[name] = [minimum , maximum]\n",
    "        outlier_indices = Counter(outlier_indices) \n",
    "        multiple_outliers = list(k for k, v in outlier_indices.items() if v > self.multiple_outlier_n)\n",
    "        print(f\"{self.multiple_outlier_n} Column Dudicated Outlier Index : {len(multiple_outliers)}\")\n",
    "        return self\n",
    "    \n",
    "    def transform(self, X:pd.DataFrame , y = None ) -> pd.DataFrame :\n",
    "        df = deepcopy(X)\n",
    "        for name in self.totalcol :\n",
    "            selectvar = df[name]\n",
    "            Q1, Q3 = selectvar.quantile([0.25,0.75]).values\n",
    "            IQR = Q3 - Q1\n",
    "            minimum , maximum = self.Detect_Outlier[name]\n",
    "            select_idx = (selectvar  < minimum ) | (selectvar > maximum)\n",
    "            selectvar[select_idx] = np.nan\n",
    "            df[name] = selectvar\n",
    "        print(df.shape)\n",
    "        return df    \n",
    "    def get_feature(self) :\n",
    "        return self.totalcol"
   ]
  },
  {
   "cell_type": "code",
   "execution_count": 21,
   "metadata": {},
   "outputs": [],
   "source": [
    "# (\"Outlier\", OutlierTransformer(multiple_outlier_n=5)),\n",
    "numeric_pipe = Pipeline([(\"imputer\", SimpleImputer(strategy='mean')),\n",
    "                         (\"scaler2\", MinMaxScaler(feature_range=(-1.5,1.5)))])\n",
    "col_transformer = ColumnTransformer(transformers=[(\"nums\",numeric_pipe , num_var)],n_jobs=None)"
   ]
  },
  {
   "cell_type": "code",
   "execution_count": 22,
   "metadata": {},
   "outputs": [],
   "source": [
    "col_transformer.fit(Train_X)\n",
    "Train_X[num_var] = col_transformer.transform(Train_X)\n",
    "Test_X[num_var] = col_transformer.transform(Test_X)"
   ]
  },
  {
   "cell_type": "code",
   "execution_count": 23,
   "metadata": {},
   "outputs": [],
   "source": [
    "Train_X_np = Train_X.values\n",
    "#Valid_X_np = Valid_X.values\n",
    "Test_X_np = Test_X.values"
   ]
  },
  {
   "cell_type": "code",
   "execution_count": 24,
   "metadata": {},
   "outputs": [
    {
     "name": "stdout",
     "output_type": "stream",
     "text": [
      "30000 33\n"
     ]
    }
   ],
   "source": [
    "row , dim = Train_X_np.shape\n",
    "print(row,dim)\n",
    "target_n = 2 \n",
    "tf.reset_default_graph()\n",
    "X = tf.placeholder(tf.float32, shape = [ None , dim])\n",
    "y = tf.placeholder(tf.float32, shape = [ None , 1])\n",
    "DropoutRate = tf.placeholder(tf.float32, name =\"dropoutRate\")\n",
    "training = tf.placeholder_with_default(False, shape=[], name=\"training\")\n",
    "global_step = tf.get_variable('global_step', [], initializer=tf.constant_initializer(0), trainable=False)\n",
    "batch_size = tf.placeholder(tf.int64)\n",
    "batch_prob  = tf.placeholder(tf.bool)"
   ]
  },
  {
   "cell_type": "code",
   "execution_count": 25,
   "metadata": {},
   "outputs": [],
   "source": [
    "TOTAL_DIM , h_dim , h_dim2 = dim , 25, 20\n",
    "Weight_1 =get_weight_variable(shape = [TOTAL_DIM , h_dim], \n",
    "                            name=f\"W1\",type='he_normal', regularize=True)\n",
    "Weight_2 =get_weight_variable(shape = [h_dim , h_dim], \n",
    "                            name=f\"W2\",type='he_normal', regularize=True)\n",
    "Weight2 =get_weight_variable(shape = [h_dim , h_dim2], \n",
    "                            name=f\"W3\",type='he_normal', regularize=True)"
   ]
  },
  {
   "cell_type": "code",
   "execution_count": 26,
   "metadata": {},
   "outputs": [],
   "source": [
    "hdims = [Weight_1 , Weight_2 , Weight2]\n",
    "def encoder(X , hdims , act, reuse=False ) :\n",
    "    with tf.variable_scope(\"Encoder\",reuse=reuse):\n",
    "        for idx , hdim in enumerate(hdims) :\n",
    "            if idx == len(hdims)-1 :\n",
    "                Code = tf.matmul(X ,hdim)\n",
    "            else :\n",
    "                X = act(tf.matmul(X ,hdim))\n",
    "    return Code\n",
    "\n",
    "def decoder(X, hdims, act) :\n",
    "    with tf.variable_scope(\"Decoder\",reuse=False):\n",
    "        for idx , hdim in enumerate(hdims[::-1]) :\n",
    "            if idx == len(hdims)-1 :\n",
    "                Logit = tf.matmul(X ,hdim, transpose_a=False , transpose_b=True)\n",
    "            else :\n",
    "                X = act(tf.matmul(X ,hdim, transpose_a=False , transpose_b=True))\n",
    "    return Logit"
   ]
  },
  {
   "cell_type": "code",
   "execution_count": 27,
   "metadata": {},
   "outputs": [],
   "source": [
    "def Layer(X , reuse = False) :\n",
    "    with tf.variable_scope(\"Final\",reuse=reuse):\n",
    "        W_1 = tf.get_variable(\"w_1\",shape=[33,20])\n",
    "        B_1 = tf.get_variable(\"b_1\",shape=[20])\n",
    "        W_2 = tf.get_variable(\"w_2\",shape=[20,15])\n",
    "        B_2 = tf.get_variable(\"b_2\",shape=[15])\n",
    "        W_3 = tf.get_variable(\"w_3\",shape=[15,10])\n",
    "        B_3 = tf.get_variable(\"b_3\",shape=[10])\n",
    "        layer1 = tf.matmul(X, W_1) + B_1\n",
    "        layer1 = tf.layers.batch_normalization(layer1, \n",
    "                                               center=True, scale=True, training=batch_prob)\n",
    "        layer1 = tf.nn.leaky_relu(layer1)\n",
    "        layer2 = tf.matmul(layer1, W_2) + B_2\n",
    "        layer2 = tf.layers.batch_normalization(layer2, \n",
    "                                               center=True, scale=True, training=batch_prob)\n",
    "        layer2 = tf.nn.leaky_relu(layer2)\n",
    "        logit = tf.matmul(layer2, W_3) + B_3\n",
    "    return tf.nn.selu(logit)"
   ]
  },
  {
   "cell_type": "code",
   "execution_count": 28,
   "metadata": {},
   "outputs": [
    {
     "name": "stderr",
     "output_type": "stream",
     "text": [
      "WARNING: Logging before flag parsing goes to stderr.\n",
      "W0404 16:13:38.539316 140499315554048 deprecation.py:323] From <ipython-input-28-2dbf52f6c96f>:5: DatasetV1.make_initializable_iterator (from tensorflow.python.data.ops.dataset_ops) is deprecated and will be removed in a future version.\n",
      "Instructions for updating:\n",
      "Use `for ... in dataset:` to iterate over a dataset. If using `tf.estimator`, return the `Dataset` object directly from your input function. As a last resort, you can use `tf.compat.v1.data.make_initializable_iterator(dataset)`.\n"
     ]
    }
   ],
   "source": [
    "data_tuple = (X,y)\n",
    "class_dataset = tf.data.Dataset.from_tensor_slices(data_tuple)\n",
    "class_dataset = class_dataset.shuffle(buffer_size= 30000)\n",
    "class_dataset = class_dataset.batch(batch_size=batch_size, drop_remainder=True)\n",
    "iter2 = class_dataset.make_initializable_iterator()\n",
    "feature_x , label_y = iter2.get_next()"
   ]
  },
  {
   "cell_type": "code",
   "execution_count": 29,
   "metadata": {},
   "outputs": [
    {
     "name": "stdout",
     "output_type": "stream",
     "text": [
      "Column : LIMIT_BAL            | numeric    | [1]\n",
      "Column : AGE                  | numeric    | [1]\n",
      "Column : PAY_0                | numeric    | [1]\n",
      "Column : PAY_2                | numeric    | [1]\n",
      "Column : PAY_3                | numeric    | [1]\n",
      "Column : PAY_4                | numeric    | [1]\n",
      "Column : PAY_5                | numeric    | [1]\n",
      "Column : PAY_6                | numeric    | [1]\n",
      "Column : BILL_AMT1            | numeric    | [1]\n",
      "Column : BILL_AMT2            | numeric    | [1]\n",
      "Column : BILL_AMT3            | numeric    | [1]\n",
      "Column : BILL_AMT4            | numeric    | [1]\n",
      "Column : BILL_AMT5            | numeric    | [1]\n",
      "Column : BILL_AMT6            | numeric    | [1]\n",
      "Column : PAY_AMT1             | numeric    | [1]\n",
      "Column : PAY_AMT2             | numeric    | [1]\n",
      "Column : PAY_AMT3             | numeric    | [1]\n",
      "Column : PAY_AMT4             | numeric    | [1]\n",
      "Column : PAY_AMT5             | numeric    | [1]\n",
      "Column : PAY_AMT6             | numeric    | [1]\n",
      "Column : SEX                  | binary     | [2]\n",
      "Column : EDUCATION            | multiclass | [7]\n",
      "Column : MARRIAGE             | multiclass | [4]\n",
      "StartNode :   0 | mse        | [1]\n",
      "StartNode :   1 | mse        | [1]\n",
      "StartNode :   2 | mse        | [1]\n",
      "StartNode :   3 | mse        | [1]\n",
      "StartNode :   4 | mse        | [1]\n",
      "StartNode :   5 | mse        | [1]\n",
      "StartNode :   6 | mse        | [1]\n",
      "StartNode :   7 | mse        | [1]\n",
      "StartNode :   8 | mse        | [1]\n",
      "StartNode :   9 | mse        | [1]\n",
      "StartNode :  10 | mse        | [1]\n",
      "StartNode :  11 | mse        | [1]\n",
      "StartNode :  12 | mse        | [1]\n",
      "StartNode :  13 | mse        | [1]\n",
      "StartNode :  14 | mse        | [1]\n",
      "StartNode :  15 | mse        | [1]\n",
      "StartNode :  16 | mse        | [1]\n",
      "StartNode :  17 | mse        | [1]\n",
      "StartNode :  18 | mse        | [1]\n"
     ]
    },
    {
     "name": "stderr",
     "output_type": "stream",
     "text": [
      "W0404 16:13:38.882863 140499315554048 deprecation.py:323] From /root/anaconda3/lib/python3.6/site-packages/tensorflow_core/python/ops/losses/losses_impl.py:121: where (from tensorflow.python.ops.array_ops) is deprecated and will be removed in a future version.\n",
      "Instructions for updating:\n",
      "Use tf.where in 2.0, which has the same broadcast rule as np.where\n"
     ]
    },
    {
     "name": "stdout",
     "output_type": "stream",
     "text": [
      "StartNode :  19 | mse        | [1]\n",
      "StartNode :  20 | binary     | [2]\n",
      "StartNode :  22 | multiclass | [7]\n",
      "StartNode :  29 | multiclass | [4]\n"
     ]
    }
   ],
   "source": [
    "Code = encoder(feature_x , hdims , tf.nn.selu)\n",
    "trans_x = decoder(Code , hdims , tf.nn.leaky_relu)\n",
    "Results = CatNumEmb(trans_x,  onehot_store , key_onehot_store)\n",
    "output, onehot, _ = Results\n",
    "loss = CatNumEmb_Loss(output, feature_x, None,\n",
    "                      onehot_store, key_onehot_store, weight_info)\n",
    "# Code2 = encoder(feature_x, hdims , tf.nn.selu, True)"
   ]
  },
  {
   "cell_type": "code",
   "execution_count": 30,
   "metadata": {},
   "outputs": [
    {
     "name": "stderr",
     "output_type": "stream",
     "text": [
      "W0404 16:13:39.311208 140499315554048 deprecation.py:323] From <ipython-input-27-30aef295a0e5>:11: batch_normalization (from tensorflow.python.layers.normalization) is deprecated and will be removed in a future version.\n",
      "Instructions for updating:\n",
      "Use keras.layers.BatchNormalization instead.  In particular, `tf.control_dependencies(tf.GraphKeys.UPDATE_OPS)` should not be used (consult the `tf.keras.layers.batch_normalization` documentation).\n",
      "W0404 16:13:39.313009 140499315554048 deprecation.py:323] From /root/anaconda3/lib/python3.6/site-packages/tensorflow_core/python/layers/normalization.py:327: Layer.apply (from tensorflow.python.keras.engine.base_layer) is deprecated and will be removed in a future version.\n",
      "Instructions for updating:\n",
      "Please use `layer.__call__` method instead.\n"
     ]
    }
   ],
   "source": [
    "Code3 = Layer(feature_x)"
   ]
  },
  {
   "cell_type": "code",
   "execution_count": 31,
   "metadata": {},
   "outputs": [],
   "source": [
    "ConcateLayer = tf.concat([Code , Code3],axis = 1)"
   ]
  },
  {
   "cell_type": "code",
   "execution_count": 32,
   "metadata": {},
   "outputs": [
    {
     "data": {
      "text/plain": [
       "Dimension(30)"
      ]
     },
     "execution_count": 32,
     "metadata": {},
     "output_type": "execute_result"
    }
   ],
   "source": [
    "ConcateLayer.get_shape()[1]"
   ]
  },
  {
   "cell_type": "code",
   "execution_count": 33,
   "metadata": {},
   "outputs": [],
   "source": [
    "def FINALLayer(X , reuse = False) :\n",
    "    with tf.variable_scope(\"Final_Concat\",reuse=reuse):\n",
    "        W_1 = tf.get_variable(\"w_1\",shape=[X.get_shape()[1],10])\n",
    "        B_1 = tf.get_variable(\"b_1\",shape=[10])\n",
    "        W_3 = tf.get_variable(\"w_3\",shape=[10,1])\n",
    "        B_3 = tf.get_variable(\"b_3\",shape=[1])\n",
    "#         layer1 = tf.nn.selu(tf.matmul(X, W_1) + B_1)\n",
    "#         logit = tf.matmul(layer1, W_3) + B_3\n",
    "        layer1 = tf.matmul(X, W_1) + B_1\n",
    "        layer1 = tf.layers.batch_normalization(layer1, \n",
    "                                               center=True, scale=True, training=batch_prob)\n",
    "        layer1 = tf.nn.selu(layer1)\n",
    "        logit = tf.matmul(layer1, W_3) + B_3\n",
    "    return logit"
   ]
  },
  {
   "cell_type": "code",
   "execution_count": 34,
   "metadata": {},
   "outputs": [],
   "source": [
    "logit = FINALLayer(ConcateLayer)"
   ]
  },
  {
   "cell_type": "code",
   "execution_count": 35,
   "metadata": {},
   "outputs": [
    {
     "name": "stderr",
     "output_type": "stream",
     "text": [
      "W0404 16:13:39.881428 140499315554048 deprecation.py:323] From /root/anaconda3/lib/python3.6/site-packages/tensorflow_core/python/ops/metrics_impl.py:808: div (from tensorflow.python.ops.math_ops) is deprecated and will be removed in a future version.\n",
      "Instructions for updating:\n",
      "Deprecated in favor of operator or tf.math.divide.\n"
     ]
    }
   ],
   "source": [
    "prob= tf.nn.sigmoid(logit)\n",
    "auc_value , update_auc = tf.metrics.auc(label_y , prob , curve=\"ROC\")"
   ]
  },
  {
   "cell_type": "code",
   "execution_count": 36,
   "metadata": {},
   "outputs": [],
   "source": [
    "\n",
    "# learning_rate = tf.train.exponential_decay(1e-4, global_step, decay_steps=100, decay_rate=0.99, staircase=False )\n",
    "# solver = tf.train.AdamOptimizer(learning_rate= learning_rate).minimize( ,var_list = hdims  )"
   ]
  },
  {
   "cell_type": "code",
   "execution_count": 37,
   "metadata": {},
   "outputs": [],
   "source": [
    "class_vars = tf.get_collection(tf.GraphKeys.TRAINABLE_VARIABLES, \"Final\") \n",
    "totalvars = tf.trainable_variables()"
   ]
  },
  {
   "cell_type": "code",
   "execution_count": 38,
   "metadata": {},
   "outputs": [],
   "source": [
    "decrease_weight = tf.train.exponential_decay(1.0, global_step, decay_steps=500, decay_rate=0.99, staircase=False)\n",
    "learning_rate = tf.train.cosine_decay_restarts(2e-5, global_step, first_decay_steps=100, t_mul=1.5,m_mul=0.9, alpha=0.0)\n",
    "loss2 = tf.reduce_mean(tf.nn.weighted_cross_entropy_with_logits(labels = label_y ,\n",
    "                                                                logits=logit,pos_weight=1.5))"
   ]
  },
  {
   "cell_type": "code",
   "execution_count": 39,
   "metadata": {},
   "outputs": [],
   "source": [
    "L2= []\n",
    "for v in class_vars :\n",
    "    L2.append(tf.nn.l2_loss(v))\n",
    "L2Regularizer= tf.add_n(L2)  * 0.001\n",
    "loss2 +=L2Regularizer"
   ]
  },
  {
   "cell_type": "code",
   "execution_count": 40,
   "metadata": {},
   "outputs": [],
   "source": [
    "# decrease_weight*\n",
    "update_ops = tf.get_collection(tf.GraphKeys.UPDATE_OPS)\n",
    "with tf.control_dependencies(update_ops):\n",
    "    solver2 = tf.train.AdamOptimizer(learning_rate= learning_rate).minimize(loss + loss2 ,var_list = totalvars)\n",
    "    solver_change = tf.train.AdamOptimizer(learning_rate= learning_rate).minimize(loss2 ,var_list = class_vars)"
   ]
  },
  {
   "cell_type": "code",
   "execution_count": 41,
   "metadata": {},
   "outputs": [],
   "source": [
    "from mpl_toolkits.axes_grid1.inset_locator import inset_axes, mark_inset\n",
    "import matplotlib.patches as mpatches\n",
    "from mpl_toolkits.axes_grid1.inset_locator import (inset_axes, TransformedBbox,\n",
    "                                                   BboxPatch, BboxConnector)\n",
    "def my_mark_inset(parent_axes, inset_axes, loc1a=1, loc1b=1, loc2a=2, loc2b=2, **kwargs):\n",
    "    rect = TransformedBbox(inset_axes.viewLim, parent_axes.transData)\n",
    "    pp = BboxPatch(rect, fill=False, **kwargs)\n",
    "    parent_axes.add_patch(pp)\n",
    "    p1 = BboxConnector(inset_axes.bbox, rect, loc1=loc1a, loc2=loc1b, **kwargs)\n",
    "    inset_axes.add_patch(p1)\n",
    "    p1.set_clip_on(False)\n",
    "    p2 = BboxConnector(inset_axes.bbox, rect, loc1=loc2a, loc2=loc2b, **kwargs)\n",
    "    inset_axes.add_patch(p2)\n",
    "    p2.set_clip_on(False)\n",
    "    return pp, p1, p2\n",
    "def subplotting(ax , store , x , y ,**kwargs) :\n",
    "    ax.plot(store[x],store[y],**kwargs)\n",
    "    if kwargs[\"ylabel\"] :\n",
    "        ax.set_ylabel(kwargs[\"ylabel\"])\n",
    "    if kwargs[\"ylim\"] :\n",
    "        ax.set_ylabel(**kwargs[\"ylim\"], fontsize= 15)\n",
    "    if kwargs[\"title\"] :\n",
    "        ax.set_title(kwargs[\"title\"])\n",
    "    ax.legend()\n",
    "    return ax"
   ]
  },
  {
   "cell_type": "code",
   "execution_count": 42,
   "metadata": {},
   "outputs": [],
   "source": [
    "## version3\n",
    "def vis(store:dict, path:str,title:str) :\n",
    "    clear_output()\n",
    "    fig = plt.figure(figsize=(10, 12))\n",
    "    gs = GridSpec(nrows=3, ncols=2)\n",
    "    ax0 = fig.add_subplot(gs[0, 0])\n",
    "    ax1 = fig.add_subplot(gs[1, 0])\n",
    "    ax2 = fig.add_subplot(gs[0:2, 1])\n",
    "    ax3 = fig.add_subplot(gs[2, 0])\n",
    "    ax4 = fig.add_subplot(gs[2, 1])\n",
    "    plt.subplots_adjust(left=0.1, bottom=0.1, right=0.99, \n",
    "            top=0.9, wspace=0.2, hspace=0.3)\n",
    "    ax0.plot(store[\"epoch\"],store[\"aeloss\"],label = \"AEloss\", color='m')\n",
    "    ax0.set_ylabel('UnSupervised', fontsize= 15)\n",
    "    select_ae= np.argmin(store[\"aeloss\"])\n",
    "    if np.min(store[\"aeloss\"]) > 5 : cut = 0\n",
    "    else : cut = np.min(store[\"aeloss\"])\n",
    "    ax0.set_ylim(cut,5)\n",
    "    ax0.vlines(store[\"epoch\"][select_ae],\n",
    "               cut ,5, label='Best', color='m')\n",
    "    a =store[\"aeloss\"][-1]\n",
    "    ax0.set_title(f'Loss : {a:.4f}')\n",
    "    ax0.legend()\n",
    "    ax1.plot(store[\"epoch\"],store[\"slloss\"],label = \"SLloss\", color='c')\n",
    "    ax1.set_xlabel('Epoch')\n",
    "    select_sl= np.argmin(store[\"slloss\"])\n",
    "    ax1.vlines(store[\"epoch\"][select_sl],\n",
    "               np.min(store[\"slloss\"]),np.max(store[\"slloss\"]),\n",
    "               label='Best', color='c')\n",
    "    a =store[\"slloss\"][-1]\n",
    "    ax1.set_title(f'Loss : {a:.4f}')\n",
    "    ax1.set_ylabel('Supervised', fontsize= 15)\n",
    "    ax1.legend()\n",
    "    ax2.plot(store[\"epoch\"],store[\"auc\"],label = \"Train auc\")\n",
    "    ax2.plot(store[\"epoch\"],store[\"teauc\"],label = \"Test auc\")\n",
    "    ax2.set_ylabel('AUC', fontsize= 15)\n",
    "    ax2.set_xlabel('Epoch')\n",
    "    select= np.argmax(store[\"teauc\"])\n",
    "    msg = f\"test idx : {store['epoch'][select]}, maximum : {store['teauc'][select]*100:.2f}\"\n",
    "    ax2.set_title(msg)             \n",
    "#     ax2.set_ylim(0.7,store['auc'][select]+0.1)\n",
    "    ax2.legend()\n",
    "    check_n = 4\n",
    "    if len(store['epoch']) > check_n :\n",
    "        axins = inset_axes(ax2, \"100%\", \"100%\", \n",
    "                           bbox_to_anchor=[0.36, .3, .5, .4],\n",
    "                       bbox_transform=ax2.transAxes, borderpad=0)\n",
    "        axins.plot(store['epoch'], store['auc'])\n",
    "        axins.plot(store['epoch'], store['teauc'])\n",
    "        maximum = np.max(store['auc'][-check_n:] + store['teauc'][-check_n:])\n",
    "        minumum = np.min(store['auc'][-check_n:] + store['teauc'][-check_n:])\n",
    "        xlims = (store['epoch'][-check_n],store['epoch'][-1])\n",
    "        ylims = (minumum, maximum)\n",
    "        axins.set(xlim=xlims, ylim=ylims)\n",
    "        my_mark_inset(ax2, axins, loc1a=2, loc1b=3, loc2a=4, loc2b=4, fc=\"none\", ec=\"0.5\") # \n",
    "#     msg = f\"Epoch : {epoch[-1]}, Loss : {loss[-1]:.3f}, Auc : {aucs[-1]:.3f}\"\n",
    "    sns.boxplot(x=\"t\", y=\"prob\", data=store[\"train_pd\"] , ax = ax3)\n",
    "    ax3.set_title(\"train\" , fontsize= 15)\n",
    "    sns.boxplot(x=\"t\", y=\"prob\", data=store[\"test_pd\"] , ax = ax4)\n",
    "    ax4.set_title(\"test\" , fontsize= 15)\n",
    "    plt.suptitle(title)\n",
    "    plt.savefig(path)\n",
    "    plt.show()"
   ]
  },
  {
   "cell_type": "code",
   "execution_count": 43,
   "metadata": {},
   "outputs": [],
   "source": [
    "oversample = list(np.arange(len(Train_y))) + 2 * list(np.where(Train_y.values == 1)[0])"
   ]
  },
  {
   "cell_type": "code",
   "execution_count": null,
   "metadata": {},
   "outputs": [
    {
     "name": "stdout",
     "output_type": "stream",
     "text": [
      "Epoch : 195, AELoss : 3.28551054 , SLLoss : 0.77006966\r"
     ]
    }
   ],
   "source": [
    "config = tf.ConfigProto(log_device_placement=True)\n",
    "config.gpu_options.allow_growth = True\n",
    "Epoch = 100000\n",
    "maeloss = 10\n",
    "from matplotlib.gridspec import GridSpec\n",
    "with tf.Session(config=config) as sess:\n",
    "    init = tf.group(tf.global_variables_initializer(), tf.local_variables_initializer())\n",
    "    sess.run(init)\n",
    "    store = {\"epoch\" : [] , \n",
    "             \"aeloss\" : [], \"slloss\" : [],\n",
    "             \"auc\" : [], \"teauc\" : []}\n",
    "    train_pd = pd.DataFrame(columns=[\"t\",\"prob\"])\n",
    "    test_pd = pd.DataFrame(columns=[\"t\",\"prob\"])\n",
    "    store[\"train_pd\"] = train_pd\n",
    "    store[\"test_pd\"] = test_pd\n",
    "    for i in range(Epoch):    \n",
    "        batchAeLoss = []\n",
    "        batchSlLoss = []\n",
    "        permutation_idx = np.random.permutation(oversample)\n",
    "        sess.run(iter2.initializer , \n",
    "                 feed_dict= {X : Train_X_np[permutation_idx,:],\n",
    "                             y : Train_y.values.reshape(-1,1)[permutation_idx,:],\n",
    "                             batch_size : 200,\n",
    "                            }) # switch to train dataset\n",
    "        \n",
    "        while True :\n",
    "            try :\n",
    "                ### Supervised Learning & Unsupervised Learning\n",
    "                \n",
    "                if maeloss < 2.5 :\n",
    "                    result  = sess.run([solver_change , loss2 , loss],\n",
    "                                       feed_dict={global_step:i,batch_prob :True})\n",
    "                else :\n",
    "                    result  = sess.run([solver2 , loss2 , loss], \n",
    "                                       feed_dict={global_step:i,batch_prob :True})\n",
    "                batchSlLoss.append(result[1])\n",
    "                batchAeLoss.append(result[2])\n",
    "            except tf.errors.OutOfRangeError :\n",
    "                break\n",
    "        maeloss = np.mean(batchAeLoss)\n",
    "        mslloss = np.mean(batchSlLoss)\n",
    "        print(f\"Epoch : {i}, AELoss : {maeloss:.8f} , SLLoss : {mslloss:.8f}\" , end = \"\\r\")\n",
    "        if (i % 100 == 0) :\n",
    "            sess.run(iter2.initializer , \n",
    "                     feed_dict= {X : Train_X_np,\n",
    "                     y : Train_y.values.reshape(-1,1),\n",
    "                     batch_size : len(Train_X_np),}) \n",
    "            tr_result  = sess.run([prob,label_y], feed_dict ={batch_prob :False})\n",
    "            sess.run(iter2.initializer , \n",
    "                     feed_dict= {X : Test_X_np,\n",
    "                     y : Test_y.values.reshape(-1,1),\n",
    "                     batch_size : len(Test_X_np),}) \n",
    "            result  = sess.run([prob,label_y], feed_dict ={batch_prob :False})\n",
    "            \n",
    "            store[\"epoch\"].append(i)\n",
    "            store[\"aeloss\"].append(maeloss)\n",
    "            store[\"slloss\"].append(mslloss)\n",
    "            store[\"train_pd\"][\"prob\"] = np.squeeze(tr_result[0])\n",
    "            store[\"train_pd\"][\"t\"] = np.squeeze(tr_result[1])\n",
    "            store[\"test_pd\"][\"prob\"] = np.squeeze(result[0])\n",
    "            store[\"test_pd\"][\"t\"] = np.squeeze(result[1])\n",
    "            store[\"auc\"].append(roc_auc_score(store[\"train_pd\"][\"t\"].values,store[\"train_pd\"][\"prob\"].values))\n",
    "            store[\"teauc\"].append(roc_auc_score(store[\"test_pd\"][\"t\"].values,store[\"test_pd\"][\"prob\"].values))\n",
    "            vis(store, \"./usl_sl_combine_run_train_with_together_oversample.png\",\n",
    "                title = \"Train Concatenate SL & UnSL Together(OverSample)\")\n",
    "            clear_output()"
   ]
  },
  {
   "cell_type": "markdown",
   "metadata": {},
   "source": [
    "```\n",
    "#         while True :\n",
    "#             try :\n",
    "#                 _ , AE_LOSS  = sess.run([solver , loss])\n",
    "#                 for _ in range(2) :\n",
    "#                     _, SL_LOSS,_,auc  = sess.run([solver2 , loss2 ,auc_value,update_auc])\n",
    "#                 batchAeLoss.append(AE_LOSS)\n",
    "#                 batchSlLoss.append(SL_LOSS)\n",
    "#                 batchAuc.append(auc)\n",
    "#             except tf.errors.OutOfRangeError :\n",
    "#                 break\n",
    "```"
   ]
  },
  {
   "cell_type": "code",
   "execution_count": 76,
   "metadata": {},
   "outputs": [],
   "source": [
    "import pickle\n",
    "with open(\"resut.pkl\",\"wb\") as wb :\n",
    "    pickle.dump(store , wb)"
   ]
  },
  {
   "cell_type": "code",
   "execution_count": 65,
   "metadata": {},
   "outputs": [],
   "source": [
    "## version3\n",
    "def vis(store:dict, path:str) :\n",
    "    clear_output()\n",
    "    fig = plt.figure(figsize=(10, 6))\n",
    "    gs = GridSpec(nrows=2, ncols=2)\n",
    "    ax0 = fig.add_subplot(gs[0, 0])\n",
    "    ax1 = fig.add_subplot(gs[1, 0])\n",
    "    ax2 = fig.add_subplot(gs[:, 1])\n",
    "    plt.subplots_adjust(left=0.1, bottom=0.1, right=0.99, \n",
    "            top=0.9, wspace=0.3, hspace=0.2)\n",
    "    ax0.plot(store[\"epoch\"],store[\"aeloss\"],label = \"AEloss\", color='m')\n",
    "    ax0.set_ylabel('UnSupervised', fontsize= 15)\n",
    "    select_ae= np.argmin(store[\"aeloss\"])\n",
    "    if np.min(store[\"aeloss\"]) > 5 : cut = 0\n",
    "    else : cut = np.min(store[\"aeloss\"])\n",
    "    ax0.set_ylim(cut,5)\n",
    "    ax0.vlines(store[\"epoch\"][select_ae],\n",
    "               cut ,5, label='Best', color='m')\n",
    "    a =store[\"aeloss\"][-1]\n",
    "    ax0.set_title(f'Loss : {a:.4f}')\n",
    "    ax0.legend()\n",
    "    ax1.plot(store[\"epoch\"],store[\"slloss\"],label = \"SLloss\", color='c')\n",
    "    ax1.set_xlabel('Epoch')\n",
    "    select_sl= np.argmin(store[\"slloss\"])\n",
    "    ax1.vlines(store[\"epoch\"][select_sl],\n",
    "               np.min(store[\"slloss\"]),np.max(store[\"slloss\"]),\n",
    "               label='Best', color='c')\n",
    "    a =store[\"slloss\"][-1]\n",
    "    ax1.set_title(f'Loss : {a:.4f}')\n",
    "    ax1.set_ylabel('Supervised', fontsize= 15)\n",
    "    ax1.legend()\n",
    "    ax2.plot(store[\"epoch\"],store[\"auc\"],label = \"Train auc\")\n",
    "    ax2.plot(store[\"epoch\"],store[\"teauc\"],label = \"Test auc\")\n",
    "    ax2.set_ylabel('AUC', fontsize= 15)\n",
    "    ax2.set_xlabel('Epoch')\n",
    "    select= np.argmax(store[\"auc\"])\n",
    "    msg = f\"idx : {store['epoch'][select]}, maximum : {store['auc'][select]*100:.2f}\"\n",
    "    ax2.set_title(msg)             \n",
    "#     ax2.set_ylim(0.7,store['auc'][select]+0.1)\n",
    "    ax2.legend()\n",
    "    check_n = 8\n",
    "    if len(store['epoch']) > check_n :\n",
    "        axins = inset_axes(ax2, \"100%\", \"100%\", \n",
    "                           bbox_to_anchor=[0.36, .3, .5, .4],\n",
    "                       bbox_transform=ax2.transAxes, borderpad=0)\n",
    "        axins.plot(store['epoch'], store['auc'])\n",
    "        axins.plot(store['epoch'], store['teauc'])\n",
    "        maximum = np.max(store['auc'][-check_n:] + store['teauc'][-check_n:])\n",
    "        minumum = np.min(store['auc'][-check_n:] + store['teauc'][-check_n:])\n",
    "        xlims = (store['epoch'][-check_n],store['epoch'][-1])\n",
    "        ylims = (minumum, maximum)\n",
    "        axins.set(xlim=xlims, ylim=ylims)\n",
    "        my_mark_inset(ax2, axins, loc1a=2, loc1b=3, loc2a=4, loc2b=4, fc=\"none\", ec=\"0.5\") # \n",
    "#     msg = f\"Epoch : {epoch[-1]}, Loss : {loss[-1]:.3f}, Auc : {aucs[-1]:.3f}\"\n",
    "    plt.suptitle(\"Visualization SL + UnSL\")\n",
    "    plt.savefig(path)\n",
    "    plt.show()"
   ]
  },
  {
   "cell_type": "code",
   "execution_count": 66,
   "metadata": {},
   "outputs": [
    {
     "data": {
      "image/png": "[encoded data removed]",
      "text/plain": [
       "<Figure size 720x432 with 4 Axes>"
      ]
     },
     "metadata": {
      "needs_background": "light"
     },
     "output_type": "display_data"
    }
   ],
   "source": [
    "vis(store, \"./usl_sl_combine_train.png\")"
   ]
  },
  {
   "cell_type": "code",
   "execution_count": null,
   "metadata": {},
   "outputs": [],
   "source": [
    "def vis(epoch, loss, path) :\n",
    "    clear_output()\n",
    "    plt.plot(epoch , loss )\n",
    "    select= np.argmin(loss)\n",
    "    msg = f\"Epoch : {epoch[-1]}, Loss : {loss[-1]:.3f}, minimum : {loss[select]:.3f}\"\n",
    "    plt.title(msg)\n",
    "    plt.savefig(path)\n",
    "    plt.show()"
   ]
  },
  {
   "cell_type": "code",
   "execution_count": null,
   "metadata": {},
   "outputs": [],
   "source": [
    "## version1\n",
    "def vis(store:dict, path:str) :\n",
    "    clear_output()\n",
    "    fig, axes = plt.subplots(1,2,figsize=(10,6))\n",
    "    ax = axes.flatten()\n",
    "    plt.subplots_adjust(left=0.1, bottom=0.1, right=0.99, \n",
    "            top=0.9, wspace=0.3, hspace=0.2)\n",
    "    ax[0].plot(store[\"epoch\"],store[\"aeloss\"],label = \"AEloss\", color='m')\n",
    "    ax[0].plot(store[\"epoch\"],store[\"slloss\"],label = \"SLloss\", color='c')\n",
    "    ax[0].set_ylabel('Loss', fontsize= 15)\n",
    "    ax[0].set_xlabel('Epoch')\n",
    "    select_ae= np.argmin(store[\"aeloss\"])\n",
    "    select_sl= np.argmin(store[\"slloss\"])\n",
    "    ax[0].set_ylim(0,3)\n",
    "    ax[0].vlines(store[\"epoch\"][select_ae],0,5, label='minimum AE', color='m')\n",
    "    ax[0].vlines(store[\"epoch\"][select_sl],0,5, label='minimum SL', color='c')\n",
    "    ax[0].set_title(\"Loss Plot\")\n",
    "    ax[0].legend()\n",
    "    ax[1].plot(store[\"epoch\"],store[\"auc\"],label = \"Train auc\")\n",
    "    ax[1].plot(store[\"epoch\"],store[\"teauc\"],label = \"Test auc\")\n",
    "    ax[1].set_ylabel('AUC', fontsize= 15)\n",
    "    ax[1].set_xlabel('Epoch')\n",
    "    select= np.argmax(store[\"auc\"])\n",
    "    msg = f\"idx : {store['epoch'][select]}, maximum : {store['auc'][select]*100:.2f}\"\n",
    "    ax[1].set_title(msg)             \n",
    "    ax[1].legend()\n",
    "#     msg = f\"Epoch : {epoch[-1]}, Loss : {loss[-1]:.3f}, Auc : {aucs[-1]:.3f}\"\n",
    "    plt.suptitle(\"Visualization SL + UnSL\")\n",
    "    plt.savefig(path)\n",
    "    plt.show()\n",
    "## version2\n",
    "def vis(store:dict, path:str) :\n",
    "    clear_output()\n",
    "    fig = plt.figure(figsize=(10, 6))\n",
    "    gs = GridSpec(nrows=2, ncols=2)\n",
    "    ax0 = fig.add_subplot(gs[0, 0])\n",
    "    ax1 = fig.add_subplot(gs[1, 0])\n",
    "    ax2 = fig.add_subplot(gs[:, 1])\n",
    "    plt.subplots_adjust(left=0.1, bottom=0.1, right=0.99, \n",
    "            top=0.9, wspace=0.3, hspace=0.2)\n",
    "    ax0.plot(store[\"epoch\"],store[\"aeloss\"],label = \"AEloss\", color='m')\n",
    "    ax0.set_ylabel('UnSupervised Loss', fontsize= 15)\n",
    "    ax0.set_ylim(0,5)\n",
    "    select_ae= np.argmin(store[\"aeloss\"])\n",
    "    ax0.vlines(store[\"epoch\"][select_ae],0,5, label='minimum AE', color='m')\n",
    "    ax0.set_title(\"Loss Plot\")\n",
    "    ax0.legend()\n",
    "    ax1.plot(store[\"epoch\"],store[\"slloss\"],label = \"SLloss\", color='c')\n",
    "    ax1.set_xlabel('Epoch')\n",
    "    select_sl= np.argmin(store[\"slloss\"])\n",
    "    ax1.vlines(store[\"epoch\"][select_sl],0,np.max(store[\"slloss\"]),\n",
    "               label='minimum SL', color='c')\n",
    "    ax1.set_ylabel('Supervised Loss', fontsize= 15)\n",
    "    ax1.legend()\n",
    "    ax2.plot(store[\"epoch\"],store[\"auc\"],label = \"Train auc\")\n",
    "    ax2.plot(store[\"epoch\"],store[\"teauc\"],label = \"Test auc\")\n",
    "    ax2.set_ylabel('AUC', fontsize= 15)\n",
    "    ax2.set_xlabel('Epoch')\n",
    "    select= np.argmax(store[\"auc\"])\n",
    "    msg = f\"idx : {store['epoch'][select]}, maximum : {store['auc'][select]*100:.2f}\"\n",
    "    ax2.set_title(msg)             \n",
    "#     ax2.set_ylim(0.7,store['auc'][select]+0.1)\n",
    "    ax2.legend()\n",
    "#     msg = f\"Epoch : {epoch[-1]}, Loss : {loss[-1]:.3f}, Auc : {aucs[-1]:.3f}\"\n",
    "    plt.suptitle(\"Visualization SL + UnSL\")\n",
    "    plt.savefig(path)\n",
    "    plt.show()"
   ]
  },
  {
   "cell_type": "code",
   "execution_count": null,
   "metadata": {},
   "outputs": [],
   "source": []
  },
  {
   "cell_type": "raw",
   "metadata": {},
   "source": []
  }
 ],
 "metadata": {
  "kernelspec": {
   "display_name": "base",
   "language": "python",
   "name": "base"
  },
  "language_info": {
   "codemirror_mode": {
    "name": "ipython",
    "version": 3
   },
   "file_extension": ".py",
   "mimetype": "text/x-python",
   "name": "python",
   "nbconvert_exporter": "python",
   "pygments_lexer": "ipython3",
   "version": "3.6.7"
  }
 },
 "nbformat": 4,
 "nbformat_minor": 2
}
